{
  "cells": [
    {
      "cell_type": "markdown",
      "metadata": {
        "id": "view-in-github",
        "colab_type": "text"
      },
      "source": [
        "<a href=\"https://colab.research.google.com/github/R1SHABHRAJ/Soccer-Analysis-and-Visualization-using-VAEP-and-XGBoost/blob/main/SoccerProject.ipynb\" target=\"_parent\"><img src=\"https://colab.research.google.com/assets/colab-badge.svg\" alt=\"Open In Colab\"/></a>"
      ]
    },
    {
      "cell_type": "markdown",
      "metadata": {
        "id": "vUD1t1p-NnLA"
      },
      "source": [
        "# Installing Libraries"
      ]
    },
    {
      "cell_type": "code",
      "execution_count": 1,
      "metadata": {
        "colab": {
          "base_uri": "https://localhost:8080/"
        },
        "id": "E_4i54RBNnLF",
        "outputId": "3a49030c-0c6e-42dc-e4c9-6e0183069fb0"
      },
      "outputs": [
        {
          "output_type": "stream",
          "name": "stdout",
          "text": [
            "Requirement already satisfied: tables in /usr/local/lib/python3.10/dist-packages (3.8.0)\n",
            "Requirement already satisfied: cython>=0.29.21 in /usr/local/lib/python3.10/dist-packages (from tables) (3.0.10)\n",
            "Requirement already satisfied: numpy>=1.19.0 in /usr/local/lib/python3.10/dist-packages (from tables) (1.25.2)\n",
            "Requirement already satisfied: numexpr>=2.6.2 in /usr/local/lib/python3.10/dist-packages (from tables) (2.10.0)\n",
            "Requirement already satisfied: blosc2~=2.0.0 in /usr/local/lib/python3.10/dist-packages (from tables) (2.0.0)\n",
            "Requirement already satisfied: packaging in /usr/local/lib/python3.10/dist-packages (from tables) (24.0)\n",
            "Requirement already satisfied: py-cpuinfo in /usr/local/lib/python3.10/dist-packages (from tables) (9.0.0)\n",
            "Requirement already satisfied: msgpack in /usr/local/lib/python3.10/dist-packages (from blosc2~=2.0.0->tables) (1.0.8)\n",
            "Collecting matplotsoccer\n",
            "  Downloading matplotsoccer-0.0.8.tar.gz (5.6 kB)\n",
            "  Preparing metadata (setup.py) ... \u001b[?25l\u001b[?25hdone\n",
            "Building wheels for collected packages: matplotsoccer\n",
            "  Building wheel for matplotsoccer (setup.py) ... \u001b[?25l\u001b[?25hdone\n",
            "  Created wheel for matplotsoccer: filename=matplotsoccer-0.0.8-py3-none-any.whl size=5966 sha256=bccc6c0ee94b03f91e9c012c4b4f967125de063d3e80f109c2863f343074379a\n",
            "  Stored in directory: /root/.cache/pip/wheels/ef/a9/d2/796b0ad28ffe440216ddaf7c9aa570dbdbfd67c3b208fd07ca\n",
            "Successfully built matplotsoccer\n",
            "Installing collected packages: matplotsoccer\n",
            "Successfully installed matplotsoccer-0.0.8\n",
            "Collecting socceraction==0.2.0\n",
            "  Downloading socceraction-0.2.0.tar.gz (28 kB)\n",
            "  Preparing metadata (setup.py) ... \u001b[?25l\u001b[?25hdone\n",
            "Requirement already satisfied: tqdm in /usr/local/lib/python3.10/dist-packages (from socceraction==0.2.0) (4.66.4)\n",
            "Requirement already satisfied: pandas in /usr/local/lib/python3.10/dist-packages (from socceraction==0.2.0) (2.0.3)\n",
            "Requirement already satisfied: numpy in /usr/local/lib/python3.10/dist-packages (from socceraction==0.2.0) (1.25.2)\n",
            "Collecting unidecode (from socceraction==0.2.0)\n",
            "  Downloading Unidecode-1.3.8-py3-none-any.whl (235 kB)\n",
            "\u001b[2K     \u001b[90m━━━━━━━━━━━━━━━━━━━━━━━━━━━━━━━━━━━━━━━━\u001b[0m \u001b[32m235.5/235.5 kB\u001b[0m \u001b[31m8.4 MB/s\u001b[0m eta \u001b[36m0:00:00\u001b[0m\n",
            "\u001b[?25hRequirement already satisfied: requests in /usr/local/lib/python3.10/dist-packages (from socceraction==0.2.0) (2.31.0)\n",
            "Requirement already satisfied: python-dateutil>=2.8.2 in /usr/local/lib/python3.10/dist-packages (from pandas->socceraction==0.2.0) (2.8.2)\n",
            "Requirement already satisfied: pytz>=2020.1 in /usr/local/lib/python3.10/dist-packages (from pandas->socceraction==0.2.0) (2023.4)\n",
            "Requirement already satisfied: tzdata>=2022.1 in /usr/local/lib/python3.10/dist-packages (from pandas->socceraction==0.2.0) (2024.1)\n",
            "Requirement already satisfied: charset-normalizer<4,>=2 in /usr/local/lib/python3.10/dist-packages (from requests->socceraction==0.2.0) (3.3.2)\n",
            "Requirement already satisfied: idna<4,>=2.5 in /usr/local/lib/python3.10/dist-packages (from requests->socceraction==0.2.0) (3.7)\n",
            "Requirement already satisfied: urllib3<3,>=1.21.1 in /usr/local/lib/python3.10/dist-packages (from requests->socceraction==0.2.0) (2.0.7)\n",
            "Requirement already satisfied: certifi>=2017.4.17 in /usr/local/lib/python3.10/dist-packages (from requests->socceraction==0.2.0) (2024.2.2)\n",
            "Requirement already satisfied: six>=1.5 in /usr/local/lib/python3.10/dist-packages (from python-dateutil>=2.8.2->pandas->socceraction==0.2.0) (1.16.0)\n",
            "Building wheels for collected packages: socceraction\n",
            "  Building wheel for socceraction (setup.py) ... \u001b[?25l\u001b[?25hdone\n",
            "  Created wheel for socceraction: filename=socceraction-0.2.0-py3-none-any.whl size=30641 sha256=a9178c291219995b6785549eee9189ee0216c6cce6ff7ae192337da445d3993c\n",
            "  Stored in directory: /root/.cache/pip/wheels/53/cd/73/194cae13cd5b3448a32f952f684ff7038a7afd183e542c5bb1\n",
            "Successfully built socceraction\n",
            "Installing collected packages: unidecode, socceraction\n",
            "Successfully installed socceraction-0.2.0 unidecode-1.3.8\n"
          ]
        }
      ],
      "source": [
        "!pip install tables\n",
        "!pip install matplotsoccer\n",
        "!pip install socceraction==0.2.0"
      ]
    },
    {
      "cell_type": "code",
      "execution_count": 2,
      "metadata": {
        "colab": {
          "base_uri": "https://localhost:8080/"
        },
        "id": "E5P5psN-NnLH",
        "outputId": "16429ec6-2131-40ee-e93a-598155c93d5d"
      },
      "outputs": [
        {
          "output_type": "stream",
          "name": "stdout",
          "text": [
            "Retrieving folder contents\n",
            "Retrieving folder 10iWAFxjXfepGlnvoM5cW5fnFjAOC36IJ .ipynb_checkpoints\n",
            "Retrieving folder 1fAcjgPdhChcVU_gy2ieONNlyZPba8sgO metrica\n",
            "Retrieving folder 1-TsfIZ7ZaqijEDYLiklTHu9ZwPxCZOow __pycache__\n",
            "Processing file 1-qbOjLoR07jro9ZBWOni7An2VNFSwQeF Metrica_EPV.cpython-310.pyc\n",
            "Processing file 1-ceDd9j9l02YsSPEV_3BetDR9b47vm1j Metrica_IO.cpython-310.pyc\n",
            "Processing file 1-rEBkf_RrmJU9PK13779bqcWt7njW1iC Metrica_PitchControl.cpython-310.pyc\n",
            "Processing file 1-aXQFtBJ41b2zRFJnBnxJy5M5uIsrpS8 Metrica_Velocities.cpython-310.pyc\n",
            "Processing file 1-cJKl5P9Vs606brW7Sih2K24-p0vBfpN Metrica_Viz.cpython-310.pyc\n",
            "Processing file 1CqdNQAtJxRjHJ1nkgQSiQ7s9fol74ads Metrica_EPV.py\n",
            "Processing file 1GeTSkajWYkV9aMMUc-hIJ_rg7oKYW2BU Metrica_IO.py\n",
            "Processing file 1pAHS0K_H-PUQ3zGC8Ufwx8GInqRJLrm3 Metrica_PitchControl.py\n",
            "Processing file 1m1E9Nb6L49XTknZc9IRr-hHwmeyWwnbQ Metrica_Velocities.py\n",
            "Processing file 1jASSqHzxS-YL8nLQpF9JsA_k_8rLdguC Metrica_Viz.py\n",
            "Retrieving folder 1fISh7AeQ7cs8IfMrxCNBAdeGhEW5Q-xm signality\n",
            "Retrieving folder 1DblL7gyfWBKAwVwaHA0TLjTDN6RcaJv3 __pycache__\n",
            "Processing file 1-6klShtuoQFQRTLN3P8n9cg0N3cQwf2N Signality_EPV.cpython-310.pyc\n",
            "Processing file 1-3O0IbhAhf0uW-VGitk9ac4FwtO02p_f Signality_IO.cpython-310.pyc\n",
            "Processing file 1-Do-n5iB8LlFmrW5Hu6hOpv3SJ9hSwPP Signality_PitchControl.cpython-310.pyc\n",
            "Processing file 1-6xbNrcUKGpE3LsASpwKzgfek-FZv7Im Signality_Velocities.cpython-310.pyc\n",
            "Processing file 1-FPh1qPXkw6rzxfPMLcJj67IYbyqj9vx Signality_Viz.cpython-310.pyc\n",
            "Retrieving folder 1QCULytBkmB6UEWR2kFMCZAVm8FUS7zAV Libraries\n",
            "Retrieving folder 1HjQjC2jVQq33U4sGuJlCOKkMaggvHN6p __pycache__\n",
            "Processing file 1eRgPYmPqbow562lb9hzdekZKUb8-r-Ey Dictionaries.cpython-37.pyc\n",
            "Processing file 1-K33HXBzkxlUBbXqbXYHjJDyISgJ4S39 Dictionaries.cpython-310.pyc\n",
            "Processing file 1QzfGk2BmG8jLJw_Iim-7qbQa0olgRYfX Functions_PreprocessTrackingData.cpython-37.pyc\n",
            "Processing file 1--_XfYyx_V_JLc8QhhYJHLaJ50KA2w8e Functions_PreprocessTrackingData.cpython-310.pyc\n",
            "Processing file 1KMPJLuDLccGhb5qPZER0amdrQtZ6jZoF Dictionaries.py\n",
            "Processing file 1QYihgFz9_VvYWNammLHWfG7QdGb_Mgcj Functions_PreprocessTrackingData.py\n",
            "Processing file 1Cb8BrGth2f0dcO8VkQKi4cw4LUuP3xVZ Signality_EPV.py\n",
            "Processing file 1UxV_SMSnzQi-LryZEOSi1DvQKEFvFAZE Signality_IO.py\n",
            "Processing file 1pYT-HXahXFFCvuQuYbNfLCiQ5htPWlQ6 Signality_PitchControl.py\n",
            "Processing file 1QmAvMO_LBa5R0i3D9jw9TYrghdQ8iVvN Signality_Velocities.py\n",
            "Processing file 1KO1iK0pJ3WIuKj8Y4IBdDrYEy9fLP8NU Signality_Viz.py\n",
            "Processing file 1qxwrUTB1UczYXv5f186X_yvDNvy8pyVT data.h5\n",
            "Processing file 1-6IyE1NEhReYIbYjHreOLVUy-8eZmtY9 events_England.json\n",
            "Processing file 1-6lSLT34xd75DWaYLGKBPWEYqNEdToG- events_European_Championship.json\n",
            "Processing file 1-9xJnLD6NDWz_Qx5R4lr2bzIs9-7Wam- events_France.json\n",
            "Processing file 1-E06JoHlQa-Onbs0ht4udi6zsq7A1udR events_Germany.json\n",
            "Processing file 1-J2J4UBuE1ATp9Q6tk5DgLYgWppBwc3g events_Italy.json\n",
            "Processing file 1-PoVIRbM9JvJwoQKSQ9J-deTz3Hu9j3X events_Spain.json\n",
            "Processing file 1-UBaOJfaE6V3_vYOSX6aellxSFtJKoAM events_World_Cup.json\n",
            "Processing file 1-6-Mty5Y46abGj8ORTQ4F9fzmAq9Y5MT events.zip\n",
            "Processing file 1PEkWcEcOVOIOG_TXp6o3Ztrzom4jaZ71 features.h5\n",
            "Processing file 10akHxK2su3R3JgnZv57wn7uLmDfN60pN labels.h5\n",
            "Processing file 101rb6ODQcRbimHYEz5MSdm9RGxaffVic matches_England.json\n",
            "Processing file 101M1oHADLBfbX40Yc67AnxcQ3BlbW2Pg matches_European_Championship.json\n",
            "Processing file 1-zuMgpamDyuTJxLg-jJTGpiHSTThJS2O matches_France.json\n",
            "Processing file 1-vzfS9Uswfh9aDWs-7Ncjl8t_Qe-pora matches_Germany.json\n",
            "Processing file 1-ldMuqksE-Zuh7YIa_gz8n6DCk5Troxv matches_Italy.json\n",
            "Processing file 1-gPpMK9_H5j7KiyUCELoY7677kzr86x0 matches_Spain.json\n",
            "Processing file 1-_YU6eLQv0UOKRi6YR6pJkmF45Lxdt6D matches_World_Cup.json\n",
            "Processing file 1089rCxd8teWEdefoNGPK0034fP0ier8S matches.zip\n",
            "Processing file 10ChI1BUXb3W9Sf-rzzmjEaZFrOHLcgxO players.json\n",
            "Processing file 1--gsQnzT5798eQ9SjF26oPciahdv1KPm spadl.h5\n",
            "Processing file 10IJSkLU7D2Ao2flsatnh8LxCjdyz5IM3 spadlold.h5\n",
            "Processing file 10BdjnhBtWuoolqAkkdFdJj_2N7PG9lZR teams.json\n",
            "Retrieving folder contents completed\n",
            "Building directory structure\n",
            "Building directory structure completed\n",
            "Downloading...\n",
            "From (original): https://drive.google.com/uc?id=1-qbOjLoR07jro9ZBWOni7An2VNFSwQeF\n",
            "From (redirected): https://drive.google.com/uc?id=1-qbOjLoR07jro9ZBWOni7An2VNFSwQeF&confirm=t&uuid=d2fb92e3-791c-4670-aa36-1e20aa7c728e\n",
            "To: /content/dataset/metrica/__pycache__/Metrica_EPV.cpython-310.pyc\n",
            "100% 6.90k/6.90k [00:00<00:00, 16.6MB/s]\n",
            "Downloading...\n",
            "From (original): https://drive.google.com/uc?id=1-ceDd9j9l02YsSPEV_3BetDR9b47vm1j\n",
            "From (redirected): https://drive.google.com/uc?id=1-ceDd9j9l02YsSPEV_3BetDR9b47vm1j&confirm=t&uuid=efe04cc4-97dc-4eaf-9f19-892fedc342da\n",
            "To: /content/dataset/metrica/__pycache__/Metrica_IO.cpython-310.pyc\n",
            "100% 4.51k/4.51k [00:00<00:00, 11.9MB/s]\n",
            "Downloading...\n",
            "From (original): https://drive.google.com/uc?id=1-rEBkf_RrmJU9PK13779bqcWt7njW1iC\n",
            "From (redirected): https://drive.google.com/uc?id=1-rEBkf_RrmJU9PK13779bqcWt7njW1iC&confirm=t&uuid=d41876d2-8a23-4622-9d40-d258a56ea754\n",
            "To: /content/dataset/metrica/__pycache__/Metrica_PitchControl.cpython-310.pyc\n",
            "100% 14.3k/14.3k [00:00<00:00, 48.5MB/s]\n",
            "Downloading...\n",
            "From (original): https://drive.google.com/uc?id=1-aXQFtBJ41b2zRFJnBnxJy5M5uIsrpS8\n",
            "From (redirected): https://drive.google.com/uc?id=1-aXQFtBJ41b2zRFJnBnxJy5M5uIsrpS8&confirm=t&uuid=08ec7be5-be40-42f1-9757-c3fa5aa94d75\n",
            "To: /content/dataset/metrica/__pycache__/Metrica_Velocities.cpython-310.pyc\n",
            "100% 3.22k/3.22k [00:00<00:00, 10.1MB/s]\n",
            "Downloading...\n",
            "From (original): https://drive.google.com/uc?id=1-cJKl5P9Vs606brW7Sih2K24-p0vBfpN\n",
            "From (redirected): https://drive.google.com/uc?id=1-cJKl5P9Vs606brW7Sih2K24-p0vBfpN&confirm=t&uuid=55e9c481-09b9-4dde-9bae-7162d72313b1\n",
            "To: /content/dataset/metrica/__pycache__/Metrica_Viz.cpython-310.pyc\n",
            "100% 17.7k/17.7k [00:00<00:00, 32.6MB/s]\n",
            "Downloading...\n",
            "From (original): https://drive.google.com/uc?id=1CqdNQAtJxRjHJ1nkgQSiQ7s9fol74ads\n",
            "From (redirected): https://drive.google.com/uc?id=1CqdNQAtJxRjHJ1nkgQSiQ7s9fol74ads&confirm=t&uuid=5499197d-eb66-4757-8ad4-e338eb152968\n",
            "To: /content/dataset/metrica/Metrica_EPV.py\n",
            "100% 9.59k/9.59k [00:00<00:00, 22.5MB/s]\n",
            "Downloading...\n",
            "From (original): https://drive.google.com/uc?id=1GeTSkajWYkV9aMMUc-hIJ_rg7oKYW2BU\n",
            "From (redirected): https://drive.google.com/uc?id=1GeTSkajWYkV9aMMUc-hIJ_rg7oKYW2BU&confirm=t&uuid=0c47ce8d-0759-4744-a3eb-d218877aa344\n",
            "To: /content/dataset/metrica/Metrica_IO.py\n",
            "100% 4.48k/4.48k [00:00<00:00, 10.5MB/s]\n",
            "Downloading...\n",
            "From (original): https://drive.google.com/uc?id=1pAHS0K_H-PUQ3zGC8Ufwx8GInqRJLrm3\n",
            "From (redirected): https://drive.google.com/uc?id=1pAHS0K_H-PUQ3zGC8Ufwx8GInqRJLrm3&confirm=t&uuid=6d9da042-cc19-4b1b-b890-164f676bd804\n",
            "To: /content/dataset/metrica/Metrica_PitchControl.py\n",
            "100% 20.1k/20.1k [00:00<00:00, 39.3MB/s]\n",
            "Downloading...\n",
            "From (original): https://drive.google.com/uc?id=1m1E9Nb6L49XTknZc9IRr-hHwmeyWwnbQ\n",
            "From (redirected): https://drive.google.com/uc?id=1m1E9Nb6L49XTknZc9IRr-hHwmeyWwnbQ&confirm=t&uuid=90f65764-5141-4355-8554-9189c9e98593\n",
            "To: /content/dataset/metrica/Metrica_Velocities.py\n",
            "100% 4.49k/4.49k [00:00<00:00, 11.9MB/s]\n",
            "Downloading...\n",
            "From (original): https://drive.google.com/uc?id=1jASSqHzxS-YL8nLQpF9JsA_k_8rLdguC\n",
            "From (redirected): https://drive.google.com/uc?id=1jASSqHzxS-YL8nLQpF9JsA_k_8rLdguC&confirm=t&uuid=f08cf968-a504-46e4-a438-d32b65a4911c\n",
            "To: /content/dataset/metrica/Metrica_Viz.py\n",
            "100% 22.1k/22.1k [00:00<00:00, 37.6MB/s]\n",
            "Downloading...\n",
            "From (original): https://drive.google.com/uc?id=1-6klShtuoQFQRTLN3P8n9cg0N3cQwf2N\n",
            "From (redirected): https://drive.google.com/uc?id=1-6klShtuoQFQRTLN3P8n9cg0N3cQwf2N&confirm=t&uuid=ee4e4dce-7dd6-43fb-b296-1ed517c31d3f\n",
            "To: /content/dataset/signality/__pycache__/Signality_EPV.cpython-310.pyc\n",
            "100% 7.37k/7.37k [00:00<00:00, 19.6MB/s]\n",
            "Downloading...\n",
            "From (original): https://drive.google.com/uc?id=1-3O0IbhAhf0uW-VGitk9ac4FwtO02p_f\n",
            "From (redirected): https://drive.google.com/uc?id=1-3O0IbhAhf0uW-VGitk9ac4FwtO02p_f&confirm=t&uuid=7933a504-9d1e-480b-a510-78f4c91dcdda\n",
            "To: /content/dataset/signality/__pycache__/Signality_IO.cpython-310.pyc\n",
            "100% 13.1k/13.1k [00:00<00:00, 29.2MB/s]\n",
            "Downloading...\n",
            "From (original): https://drive.google.com/uc?id=1-Do-n5iB8LlFmrW5Hu6hOpv3SJ9hSwPP\n",
            "From (redirected): https://drive.google.com/uc?id=1-Do-n5iB8LlFmrW5Hu6hOpv3SJ9hSwPP&confirm=t&uuid=02de38e4-6a79-4ca7-8df7-e0f686c43361\n",
            "To: /content/dataset/signality/__pycache__/Signality_PitchControl.cpython-310.pyc\n",
            "100% 14.2k/14.2k [00:00<00:00, 26.5MB/s]\n",
            "Downloading...\n",
            "From (original): https://drive.google.com/uc?id=1-6xbNrcUKGpE3LsASpwKzgfek-FZv7Im\n",
            "From (redirected): https://drive.google.com/uc?id=1-6xbNrcUKGpE3LsASpwKzgfek-FZv7Im&confirm=t&uuid=dcc6ba8e-61e8-48ff-aa46-aab5245dec00\n",
            "To: /content/dataset/signality/__pycache__/Signality_Velocities.cpython-310.pyc\n",
            "100% 5.45k/5.45k [00:00<00:00, 10.5MB/s]\n",
            "Downloading...\n",
            "From (original): https://drive.google.com/uc?id=1-FPh1qPXkw6rzxfPMLcJj67IYbyqj9vx\n",
            "From (redirected): https://drive.google.com/uc?id=1-FPh1qPXkw6rzxfPMLcJj67IYbyqj9vx&confirm=t&uuid=16f81ff7-a377-4c1d-aab7-ced33ab07192\n",
            "To: /content/dataset/signality/__pycache__/Signality_Viz.cpython-310.pyc\n",
            "100% 22.6k/22.6k [00:00<00:00, 40.0MB/s]\n",
            "Downloading...\n",
            "From (original): https://drive.google.com/uc?id=1eRgPYmPqbow562lb9hzdekZKUb8-r-Ey\n",
            "From (redirected): https://drive.google.com/uc?id=1eRgPYmPqbow562lb9hzdekZKUb8-r-Ey&confirm=t&uuid=89a097f3-483f-41f1-beaa-84b483779ba2\n",
            "To: /content/dataset/signality/Libraries/__pycache__/Dictionaries.cpython-37.pyc\n",
            "100% 2.57k/2.57k [00:00<00:00, 9.00MB/s]\n",
            "Downloading...\n",
            "From (original): https://drive.google.com/uc?id=1-K33HXBzkxlUBbXqbXYHjJDyISgJ4S39\n",
            "From (redirected): https://drive.google.com/uc?id=1-K33HXBzkxlUBbXqbXYHjJDyISgJ4S39&confirm=t&uuid=72d5d900-deb6-4f92-8fc1-78f4d4f500ac\n",
            "To: /content/dataset/signality/Libraries/__pycache__/Dictionaries.cpython-310.pyc\n",
            "100% 2.26k/2.26k [00:00<00:00, 7.54MB/s]\n",
            "Downloading...\n",
            "From (original): https://drive.google.com/uc?id=1QzfGk2BmG8jLJw_Iim-7qbQa0olgRYfX\n",
            "From (redirected): https://drive.google.com/uc?id=1QzfGk2BmG8jLJw_Iim-7qbQa0olgRYfX&confirm=t&uuid=2e7d7f02-c730-4b36-8405-1abeb2753bfa\n",
            "To: /content/dataset/signality/Libraries/__pycache__/Functions_PreprocessTrackingData.cpython-37.pyc\n",
            "100% 7.60k/7.60k [00:00<00:00, 16.5MB/s]\n",
            "Downloading...\n",
            "From (original): https://drive.google.com/uc?id=1--_XfYyx_V_JLc8QhhYJHLaJ50KA2w8e\n",
            "From (redirected): https://drive.google.com/uc?id=1--_XfYyx_V_JLc8QhhYJHLaJ50KA2w8e&confirm=t&uuid=23140e1f-fb89-4741-a732-1699db865fb6\n",
            "To: /content/dataset/signality/Libraries/__pycache__/Functions_PreprocessTrackingData.cpython-310.pyc\n",
            "100% 7.77k/7.77k [00:00<00:00, 19.2MB/s]\n",
            "Downloading...\n",
            "From (original): https://drive.google.com/uc?id=1KMPJLuDLccGhb5qPZER0amdrQtZ6jZoF\n",
            "From (redirected): https://drive.google.com/uc?id=1KMPJLuDLccGhb5qPZER0amdrQtZ6jZoF&confirm=t&uuid=b7a7795e-796b-4ec3-bcd7-007225f7ddcb\n",
            "To: /content/dataset/signality/Libraries/Dictionaries.py\n",
            "100% 4.04k/4.04k [00:00<00:00, 11.2MB/s]\n",
            "Downloading...\n",
            "From (original): https://drive.google.com/uc?id=1QYihgFz9_VvYWNammLHWfG7QdGb_Mgcj\n",
            "From (redirected): https://drive.google.com/uc?id=1QYihgFz9_VvYWNammLHWfG7QdGb_Mgcj&confirm=t&uuid=68083838-5d46-4ca4-a983-cde367fc7f91\n",
            "To: /content/dataset/signality/Libraries/Functions_PreprocessTrackingData.py\n",
            "100% 13.2k/13.2k [00:00<00:00, 21.8MB/s]\n",
            "Downloading...\n",
            "From (original): https://drive.google.com/uc?id=1Cb8BrGth2f0dcO8VkQKi4cw4LUuP3xVZ\n",
            "From (redirected): https://drive.google.com/uc?id=1Cb8BrGth2f0dcO8VkQKi4cw4LUuP3xVZ&confirm=t&uuid=3034a7fd-a2b8-4a4c-8e3b-763b5a235a25\n",
            "To: /content/dataset/signality/Signality_EPV.py\n",
            "100% 10.1k/10.1k [00:00<00:00, 32.6MB/s]\n",
            "Downloading...\n",
            "From (original): https://drive.google.com/uc?id=1UxV_SMSnzQi-LryZEOSi1DvQKEFvFAZE\n",
            "From (redirected): https://drive.google.com/uc?id=1UxV_SMSnzQi-LryZEOSi1DvQKEFvFAZE&confirm=t&uuid=7c79b1b7-c8a7-4fb7-a3ab-98e68e6cef21\n",
            "To: /content/dataset/signality/Signality_IO.py\n",
            "100% 18.7k/18.7k [00:00<00:00, 46.6MB/s]\n",
            "Downloading...\n",
            "From (original): https://drive.google.com/uc?id=1pYT-HXahXFFCvuQuYbNfLCiQ5htPWlQ6\n",
            "From (redirected): https://drive.google.com/uc?id=1pYT-HXahXFFCvuQuYbNfLCiQ5htPWlQ6&confirm=t&uuid=99bd8ef7-2858-4b4d-8ea3-5e8b61a45b51\n",
            "To: /content/dataset/signality/Signality_PitchControl.py\n",
            "100% 21.0k/21.0k [00:00<00:00, 40.9MB/s]\n",
            "Downloading...\n",
            "From (original): https://drive.google.com/uc?id=1QmAvMO_LBa5R0i3D9jw9TYrghdQ8iVvN\n",
            "From (redirected): https://drive.google.com/uc?id=1QmAvMO_LBa5R0i3D9jw9TYrghdQ8iVvN&confirm=t&uuid=22a15483-83ab-46ff-b9c8-b2e037eb1527\n",
            "To: /content/dataset/signality/Signality_Velocities.py\n",
            "100% 8.33k/8.33k [00:00<00:00, 24.8MB/s]\n",
            "Downloading...\n",
            "From (original): https://drive.google.com/uc?id=1KO1iK0pJ3WIuKj8Y4IBdDrYEy9fLP8NU\n",
            "From (redirected): https://drive.google.com/uc?id=1KO1iK0pJ3WIuKj8Y4IBdDrYEy9fLP8NU&confirm=t&uuid=e3e92cac-2427-4219-b107-254fbe4e972c\n",
            "To: /content/dataset/signality/Signality_Viz.py\n",
            "100% 28.8k/28.8k [00:00<00:00, 35.5MB/s]\n",
            "Downloading...\n",
            "From (original): https://drive.google.com/uc?id=1qxwrUTB1UczYXv5f186X_yvDNvy8pyVT\n",
            "From (redirected): https://drive.google.com/uc?id=1qxwrUTB1UczYXv5f186X_yvDNvy8pyVT&confirm=t&uuid=3fbf6e28-39a7-438d-90fb-05ba82e85efc\n",
            "To: /content/dataset/data.h5\n",
            "100% 639M/639M [00:07<00:00, 82.9MB/s]\n",
            "Downloading...\n",
            "From (original): https://drive.google.com/uc?id=1-6IyE1NEhReYIbYjHreOLVUy-8eZmtY9\n",
            "From (redirected): https://drive.google.com/uc?id=1-6IyE1NEhReYIbYjHreOLVUy-8eZmtY9&confirm=t&uuid=9d35d5b4-e628-4afb-b8fb-388900a93813\n",
            "To: /content/dataset/events_England.json\n",
            "100% 189M/189M [00:01<00:00, 114MB/s]\n",
            "Downloading...\n",
            "From: https://drive.google.com/uc?id=1-6lSLT34xd75DWaYLGKBPWEYqNEdToG-\n",
            "To: /content/dataset/events_European_Championship.json\n",
            "100% 23.0M/23.0M [00:00<00:00, 90.0MB/s]\n",
            "Downloading...\n",
            "From (original): https://drive.google.com/uc?id=1-9xJnLD6NDWz_Qx5R4lr2bzIs9-7Wam-\n",
            "From (redirected): https://drive.google.com/uc?id=1-9xJnLD6NDWz_Qx5R4lr2bzIs9-7Wam-&confirm=t&uuid=064b17fd-713e-40a5-b82e-7dcccb386b29\n",
            "To: /content/dataset/events_France.json\n",
            "100% 186M/186M [00:02<00:00, 71.2MB/s]\n",
            "Downloading...\n",
            "From (original): https://drive.google.com/uc?id=1-E06JoHlQa-Onbs0ht4udi6zsq7A1udR\n",
            "From (redirected): https://drive.google.com/uc?id=1-E06JoHlQa-Onbs0ht4udi6zsq7A1udR&confirm=t&uuid=3c4089fe-b7b4-4bea-b1c5-6cd1df6fde52\n",
            "To: /content/dataset/events_Germany.json\n",
            "100% 153M/153M [00:01<00:00, 113MB/s]\n",
            "Downloading...\n",
            "From (original): https://drive.google.com/uc?id=1-J2J4UBuE1ATp9Q6tk5DgLYgWppBwc3g\n",
            "From (redirected): https://drive.google.com/uc?id=1-J2J4UBuE1ATp9Q6tk5DgLYgWppBwc3g&confirm=t&uuid=13568637-9c41-488d-921a-f0da08c6d93b\n",
            "To: /content/dataset/events_Italy.json\n",
            "100% 191M/191M [00:01<00:00, 119MB/s]\n",
            "Downloading...\n",
            "From (original): https://drive.google.com/uc?id=1-PoVIRbM9JvJwoQKSQ9J-deTz3Hu9j3X\n",
            "From (redirected): https://drive.google.com/uc?id=1-PoVIRbM9JvJwoQKSQ9J-deTz3Hu9j3X&confirm=t&uuid=0294ebbd-9ebe-4db2-8091-767cf5da8f9b\n",
            "To: /content/dataset/events_Spain.json\n",
            "100% 184M/184M [00:01<00:00, 107MB/s]\n",
            "Downloading...\n",
            "From: https://drive.google.com/uc?id=1-UBaOJfaE6V3_vYOSX6aellxSFtJKoAM\n",
            "To: /content/dataset/events_World_Cup.json\n",
            "100% 30.0M/30.0M [00:00<00:00, 126MB/s]\n",
            "Downloading...\n",
            "From (original): https://drive.google.com/uc?id=1-6-Mty5Y46abGj8ORTQ4F9fzmAq9Y5MT\n",
            "From (redirected): https://drive.google.com/uc?id=1-6-Mty5Y46abGj8ORTQ4F9fzmAq9Y5MT&confirm=t&uuid=ea4c921c-3920-430c-be03-ea8f1b293ce5\n",
            "To: /content/dataset/events.zip\n",
            "100% 77.3M/77.3M [00:02<00:00, 36.8MB/s]\n",
            "Downloading...\n",
            "From (original): https://drive.google.com/uc?id=1PEkWcEcOVOIOG_TXp6o3Ztrzom4jaZ71\n",
            "From (redirected): https://drive.google.com/uc?id=1PEkWcEcOVOIOG_TXp6o3Ztrzom4jaZ71&confirm=t&uuid=e6394520-89c8-420e-8e16-9de23a9a2758\n",
            "To: /content/dataset/features.h5\n",
            "100% 3.00G/3.00G [00:27<00:00, 108MB/s]\n",
            "Downloading...\n",
            "From: https://drive.google.com/uc?id=10akHxK2su3R3JgnZv57wn7uLmDfN60pN\n",
            "To: /content/dataset/labels.h5\n",
            "100% 9.30M/9.30M [00:00<00:00, 25.3MB/s]\n",
            "Downloading...\n",
            "From: https://drive.google.com/uc?id=101rb6ODQcRbimHYEz5MSdm9RGxaffVic\n",
            "To: /content/dataset/matches_England.json\n",
            "100% 1.69M/1.69M [00:00<00:00, 74.1MB/s]\n",
            "Downloading...\n",
            "From: https://drive.google.com/uc?id=101M1oHADLBfbX40Yc67AnxcQ3BlbW2Pg\n",
            "To: /content/dataset/matches_European_Championship.json\n",
            "100% 312k/312k [00:00<00:00, 59.6MB/s]\n",
            "Downloading...\n",
            "From: https://drive.google.com/uc?id=1-zuMgpamDyuTJxLg-jJTGpiHSTThJS2O\n",
            "To: /content/dataset/matches_France.json\n",
            "100% 1.71M/1.71M [00:00<00:00, 71.9MB/s]\n",
            "Downloading...\n",
            "From: https://drive.google.com/uc?id=1-vzfS9Uswfh9aDWs-7Ncjl8t_Qe-pora\n",
            "To: /content/dataset/matches_Germany.json\n",
            "100% 1.38M/1.38M [00:00<00:00, 70.8MB/s]\n",
            "Downloading...\n",
            "From: https://drive.google.com/uc?id=1-ldMuqksE-Zuh7YIa_gz8n6DCk5Troxv\n",
            "To: /content/dataset/matches_Italy.json\n",
            "100% 2.02M/2.02M [00:00<00:00, 81.4MB/s]\n",
            "Downloading...\n",
            "From: https://drive.google.com/uc?id=1-gPpMK9_H5j7KiyUCELoY7677kzr86x0\n",
            "To: /content/dataset/matches_Spain.json\n",
            "100% 1.71M/1.71M [00:00<00:00, 99.7MB/s]\n",
            "Downloading...\n",
            "From: https://drive.google.com/uc?id=1-_YU6eLQv0UOKRi6YR6pJkmF45Lxdt6D\n",
            "To: /content/dataset/matches_World_Cup.json\n",
            "100% 396k/396k [00:00<00:00, 57.9MB/s]\n",
            "Downloading...\n",
            "From: https://drive.google.com/uc?id=1089rCxd8teWEdefoNGPK0034fP0ier8S\n",
            "To: /content/dataset/matches.zip\n",
            "100% 645k/645k [00:00<00:00, 131MB/s]\n",
            "Downloading...\n",
            "From: https://drive.google.com/uc?id=10ChI1BUXb3W9Sf-rzzmjEaZFrOHLcgxO\n",
            "To: /content/dataset/players.json\n",
            "100% 1.74M/1.74M [00:00<00:00, 151MB/s]\n",
            "Downloading...\n",
            "From: https://drive.google.com/uc?id=1--gsQnzT5798eQ9SjF26oPciahdv1KPm\n",
            "To: /content/dataset/spadl.h5\n",
            "100% 79.2M/79.2M [00:00<00:00, 120MB/s]\n",
            "Downloading...\n",
            "From: https://drive.google.com/uc?id=10IJSkLU7D2Ao2flsatnh8LxCjdyz5IM3\n",
            "To: /content/dataset/spadlold.h5\n",
            "100% 75.0M/75.0M [00:00<00:00, 109MB/s]\n",
            "Downloading...\n",
            "From: https://drive.google.com/uc?id=10BdjnhBtWuoolqAkkdFdJj_2N7PG9lZR\n",
            "To: /content/dataset/teams.json\n",
            "100% 27.4k/27.4k [00:00<00:00, 32.0MB/s]\n",
            "Download completed\n"
          ]
        }
      ],
      "source": [
        "# This was for fetching dataset from my google drive, but since your drive doesn't have dataset already it will not work\n",
        "'''from google.colab import drive\n",
        "drive.mount('/content/gdrive')\n",
        "%cd '/content/gdrive/My Drive/dataset/'''\n",
        "# So we will fetch dataset Wyscount dataset directly from the source\n",
        "import gdown\n",
        "!mkdir /content/dataset\n",
        "!gdown --folder 1xoA3XO35ZFIM870eN9wMt6mHmZqHRx7F --output /content/dataset"
      ]
    },
    {
      "cell_type": "code",
      "source": [
        "'''!mkdir /content/dataset\n",
        "!gdown --folder 1xoA3XO35ZFIM870eN9wMt6mHmZqHRx7F --output /content/dataset\n",
        "%cd '/content/dataset/'''"
      ],
      "metadata": {
        "colab": {
          "base_uri": "https://localhost:8080/",
          "height": 36
        },
        "id": "uWWQW9cfDIv2",
        "outputId": "163e8c02-0a04-42ef-e381-e4633fdd3893"
      },
      "execution_count": 3,
      "outputs": [
        {
          "output_type": "execute_result",
          "data": {
            "text/plain": [
              "\"!mkdir /content/dataset\\n!gdown --folder 1xoA3XO35ZFIM870eN9wMt6mHmZqHRx7F --output /content/dataset\\n%cd '/content/dataset/\""
            ],
            "application/vnd.google.colaboratory.intrinsic+json": {
              "type": "string"
            }
          },
          "metadata": {},
          "execution_count": 3
        }
      ]
    },
    {
      "cell_type": "code",
      "source": [
        "#Signality libraries for tracking data\n",
        "'''%cd /content/dataset/signality\n",
        "import Signality_IO as sio\n",
        "import Signality_Viz as sviz\n",
        "import Signality_Velocities as svel\n",
        "import Signality_PitchControl as spc\n",
        "import Signality_EPV as sepv\n",
        "\n",
        "%cd /content/dataset/metrica\n",
        "import Metrica_IO as mio\n",
        "import Metrica_Viz as mviz\n",
        "import Metrica_Velocities as mvel\n",
        "import Metrica_PitchControl as mpc\n",
        "import Metrica_EPV as mepv'''"
      ],
      "metadata": {
        "colab": {
          "base_uri": "https://localhost:8080/",
          "height": 72
        },
        "id": "iXcKYXv2nl9X",
        "outputId": "6d01dbef-c452-4804-f5aa-004d84ccf295"
      },
      "execution_count": 4,
      "outputs": [
        {
          "output_type": "execute_result",
          "data": {
            "text/plain": [
              "'%cd /content/dataset/signality\\nimport Signality_IO as sio\\nimport Signality_Viz as sviz\\nimport Signality_Velocities as svel\\nimport Signality_PitchControl as spc\\nimport Signality_EPV as sepv\\n\\n%cd /content/dataset/metrica\\nimport Metrica_IO as mio\\nimport Metrica_Viz as mviz\\nimport Metrica_Velocities as mvel\\nimport Metrica_PitchControl as mpc\\nimport Metrica_EPV as mepv'"
            ],
            "application/vnd.google.colaboratory.intrinsic+json": {
              "type": "string"
            }
          },
          "metadata": {},
          "execution_count": 4
        }
      ]
    },
    {
      "cell_type": "code",
      "execution_count": 3,
      "metadata": {
        "id": "NQZzbxodNnLH",
        "colab": {
          "base_uri": "https://localhost:8080/"
        },
        "outputId": "59bef969-8655-423a-bafa-b872e5844085"
      },
      "outputs": [
        {
          "output_type": "stream",
          "name": "stdout",
          "text": [
            "/content/dataset\n"
          ]
        }
      ],
      "source": [
        "%cd '/content/dataset'\n",
        "import warnings\n",
        "\n",
        "import matplotsoccer\n",
        "import numpy as np\n",
        "from ipywidgets import fixed, interact_manual, widgets\n",
        "\n",
        "from io import BytesIO\n",
        "from pathlib import Path\n",
        "from urllib.parse import urlparse\n",
        "from urllib.request import urlopen, urlretrieve\n",
        "from zipfile import ZipFile, is_zipfile\n",
        "\n",
        "import pandas as pd\n",
        "import socceraction.vaep.features as features\n",
        "import socceraction.vaep.labels as labels\n",
        "from sklearn.metrics import brier_score_loss, roc_auc_score\n",
        "from socceraction.spadl.wyscout import convert_to_spadl\n",
        "from socceraction.vaep.formula import value\n",
        "from tqdm.notebook import tqdm\n",
        "from xgboost import XGBClassifier"
      ]
    },
    {
      "cell_type": "code",
      "execution_count": 4,
      "metadata": {
        "id": "bCVU36aENnLH"
      },
      "outputs": [],
      "source": [
        "warnings.filterwarnings('ignore', category=pd.io.pytables.PerformanceWarning)"
      ]
    },
    {
      "cell_type": "markdown",
      "source": [
        "## Preprocess the dataset"
      ],
      "metadata": {
        "id": "VY8kzcHzXwEQ"
      }
    },
    {
      "cell_type": "code",
      "source": [
        "def read_json_file(filename):\n",
        "    with open(filename, 'rb') as json_file:\n",
        "        return BytesIO(json_file.read()).getvalue().decode('unicode_escape')"
      ],
      "metadata": {
        "id": "EtBKelyqXvsP"
      },
      "execution_count": 5,
      "outputs": []
    },
    {
      "cell_type": "markdown",
      "source": [
        "### Teams\n",
        "\n",
        "The following cells read the `teams.json` file into a `DataFrame` object and store that object in the `data.h5` H5 file under the key `teams`."
      ],
      "metadata": {
        "id": "WLL2-C2dY7j4"
      }
    },
    {
      "cell_type": "code",
      "source": [
        "%cd /content/dataset\n",
        "json_teams = read_json_file('teams.json')\n",
        "df_teams = pd.read_json(json_teams)\n",
        "df_teams.head(10)"
      ],
      "metadata": {
        "colab": {
          "base_uri": "https://localhost:8080/",
          "height": 381
        },
        "id": "QzeksO4iZEi9",
        "outputId": "abdbfe1f-b878-440b-a6cb-fecdb208de45"
      },
      "execution_count": 6,
      "outputs": [
        {
          "output_type": "stream",
          "name": "stdout",
          "text": [
            "/content/dataset\n"
          ]
        },
        {
          "output_type": "execute_result",
          "data": {
            "text/plain": [
              "                           city                 name  wyId  \\\n",
              "0           Newcastle upon Tyne     Newcastle United  1613   \n",
              "1                          Vigo        Celta de Vigo   692   \n",
              "2                     Barcelona             Espanyol   691   \n",
              "3               Vitoria-Gasteiz     Deportivo Alavés   696   \n",
              "4                      Valencia              Levante   695   \n",
              "5                        Troyes               Troyes  3795   \n",
              "6               Getafe (Madrid)               Getafe   698   \n",
              "7               Mönchengladbach  Borussia M'gladbach  2454   \n",
              "8  Huddersfield, West Yorkshire    Huddersfield Town  1673   \n",
              "9                        Bilbao        Athletic Club   678   \n",
              "\n",
              "                               officialName  \\\n",
              "0                       Newcastle United FC   \n",
              "1                   Real Club Celta de Vigo   \n",
              "2              Reial Club Deportiu Espanyol   \n",
              "3                          Deportivo Alavés   \n",
              "4                                Levante UD   \n",
              "5  Espérance Sportive Troyes Aube Champagne   \n",
              "6                     Getafe Club de Fútbol   \n",
              "7              Borussia VfL Mönchengladbach   \n",
              "8                      Huddersfield Town FC   \n",
              "9                      Athletic Club Bilbao   \n",
              "\n",
              "                                                area  type  \n",
              "0  {'name': 'England', 'id': '0', 'alpha3code': '...  club  \n",
              "1  {'name': 'Spain', 'id': '724', 'alpha3code': '...  club  \n",
              "2  {'name': 'Spain', 'id': '724', 'alpha3code': '...  club  \n",
              "3  {'name': 'Spain', 'id': '724', 'alpha3code': '...  club  \n",
              "4  {'name': 'Spain', 'id': '724', 'alpha3code': '...  club  \n",
              "5  {'name': 'France', 'id': '250', 'alpha3code': ...  club  \n",
              "6  {'name': 'Spain', 'id': '724', 'alpha3code': '...  club  \n",
              "7  {'name': 'Germany', 'id': '276', 'alpha3code':...  club  \n",
              "8  {'name': 'England', 'id': '0', 'alpha3code': '...  club  \n",
              "9  {'name': 'Spain', 'id': '724', 'alpha3code': '...  club  "
            ],
            "text/html": [
              "\n",
              "  <div id=\"df-d58e4d3b-46ef-4c89-ba46-94471a1473f8\" class=\"colab-df-container\">\n",
              "    <div>\n",
              "<style scoped>\n",
              "    .dataframe tbody tr th:only-of-type {\n",
              "        vertical-align: middle;\n",
              "    }\n",
              "\n",
              "    .dataframe tbody tr th {\n",
              "        vertical-align: top;\n",
              "    }\n",
              "\n",
              "    .dataframe thead th {\n",
              "        text-align: right;\n",
              "    }\n",
              "</style>\n",
              "<table border=\"1\" class=\"dataframe\">\n",
              "  <thead>\n",
              "    <tr style=\"text-align: right;\">\n",
              "      <th></th>\n",
              "      <th>city</th>\n",
              "      <th>name</th>\n",
              "      <th>wyId</th>\n",
              "      <th>officialName</th>\n",
              "      <th>area</th>\n",
              "      <th>type</th>\n",
              "    </tr>\n",
              "  </thead>\n",
              "  <tbody>\n",
              "    <tr>\n",
              "      <th>0</th>\n",
              "      <td>Newcastle upon Tyne</td>\n",
              "      <td>Newcastle United</td>\n",
              "      <td>1613</td>\n",
              "      <td>Newcastle United FC</td>\n",
              "      <td>{'name': 'England', 'id': '0', 'alpha3code': '...</td>\n",
              "      <td>club</td>\n",
              "    </tr>\n",
              "    <tr>\n",
              "      <th>1</th>\n",
              "      <td>Vigo</td>\n",
              "      <td>Celta de Vigo</td>\n",
              "      <td>692</td>\n",
              "      <td>Real Club Celta de Vigo</td>\n",
              "      <td>{'name': 'Spain', 'id': '724', 'alpha3code': '...</td>\n",
              "      <td>club</td>\n",
              "    </tr>\n",
              "    <tr>\n",
              "      <th>2</th>\n",
              "      <td>Barcelona</td>\n",
              "      <td>Espanyol</td>\n",
              "      <td>691</td>\n",
              "      <td>Reial Club Deportiu Espanyol</td>\n",
              "      <td>{'name': 'Spain', 'id': '724', 'alpha3code': '...</td>\n",
              "      <td>club</td>\n",
              "    </tr>\n",
              "    <tr>\n",
              "      <th>3</th>\n",
              "      <td>Vitoria-Gasteiz</td>\n",
              "      <td>Deportivo Alavés</td>\n",
              "      <td>696</td>\n",
              "      <td>Deportivo Alavés</td>\n",
              "      <td>{'name': 'Spain', 'id': '724', 'alpha3code': '...</td>\n",
              "      <td>club</td>\n",
              "    </tr>\n",
              "    <tr>\n",
              "      <th>4</th>\n",
              "      <td>Valencia</td>\n",
              "      <td>Levante</td>\n",
              "      <td>695</td>\n",
              "      <td>Levante UD</td>\n",
              "      <td>{'name': 'Spain', 'id': '724', 'alpha3code': '...</td>\n",
              "      <td>club</td>\n",
              "    </tr>\n",
              "    <tr>\n",
              "      <th>5</th>\n",
              "      <td>Troyes</td>\n",
              "      <td>Troyes</td>\n",
              "      <td>3795</td>\n",
              "      <td>Espérance Sportive Troyes Aube Champagne</td>\n",
              "      <td>{'name': 'France', 'id': '250', 'alpha3code': ...</td>\n",
              "      <td>club</td>\n",
              "    </tr>\n",
              "    <tr>\n",
              "      <th>6</th>\n",
              "      <td>Getafe (Madrid)</td>\n",
              "      <td>Getafe</td>\n",
              "      <td>698</td>\n",
              "      <td>Getafe Club de Fútbol</td>\n",
              "      <td>{'name': 'Spain', 'id': '724', 'alpha3code': '...</td>\n",
              "      <td>club</td>\n",
              "    </tr>\n",
              "    <tr>\n",
              "      <th>7</th>\n",
              "      <td>Mönchengladbach</td>\n",
              "      <td>Borussia M'gladbach</td>\n",
              "      <td>2454</td>\n",
              "      <td>Borussia VfL Mönchengladbach</td>\n",
              "      <td>{'name': 'Germany', 'id': '276', 'alpha3code':...</td>\n",
              "      <td>club</td>\n",
              "    </tr>\n",
              "    <tr>\n",
              "      <th>8</th>\n",
              "      <td>Huddersfield, West Yorkshire</td>\n",
              "      <td>Huddersfield Town</td>\n",
              "      <td>1673</td>\n",
              "      <td>Huddersfield Town FC</td>\n",
              "      <td>{'name': 'England', 'id': '0', 'alpha3code': '...</td>\n",
              "      <td>club</td>\n",
              "    </tr>\n",
              "    <tr>\n",
              "      <th>9</th>\n",
              "      <td>Bilbao</td>\n",
              "      <td>Athletic Club</td>\n",
              "      <td>678</td>\n",
              "      <td>Athletic Club Bilbao</td>\n",
              "      <td>{'name': 'Spain', 'id': '724', 'alpha3code': '...</td>\n",
              "      <td>club</td>\n",
              "    </tr>\n",
              "  </tbody>\n",
              "</table>\n",
              "</div>\n",
              "    <div class=\"colab-df-buttons\">\n",
              "\n",
              "  <div class=\"colab-df-container\">\n",
              "    <button class=\"colab-df-convert\" onclick=\"convertToInteractive('df-d58e4d3b-46ef-4c89-ba46-94471a1473f8')\"\n",
              "            title=\"Convert this dataframe to an interactive table.\"\n",
              "            style=\"display:none;\">\n",
              "\n",
              "  <svg xmlns=\"http://www.w3.org/2000/svg\" height=\"24px\" viewBox=\"0 -960 960 960\">\n",
              "    <path d=\"M120-120v-720h720v720H120Zm60-500h600v-160H180v160Zm220 220h160v-160H400v160Zm0 220h160v-160H400v160ZM180-400h160v-160H180v160Zm440 0h160v-160H620v160ZM180-180h160v-160H180v160Zm440 0h160v-160H620v160Z\"/>\n",
              "  </svg>\n",
              "    </button>\n",
              "\n",
              "  <style>\n",
              "    .colab-df-container {\n",
              "      display:flex;\n",
              "      gap: 12px;\n",
              "    }\n",
              "\n",
              "    .colab-df-convert {\n",
              "      background-color: #E8F0FE;\n",
              "      border: none;\n",
              "      border-radius: 50%;\n",
              "      cursor: pointer;\n",
              "      display: none;\n",
              "      fill: #1967D2;\n",
              "      height: 32px;\n",
              "      padding: 0 0 0 0;\n",
              "      width: 32px;\n",
              "    }\n",
              "\n",
              "    .colab-df-convert:hover {\n",
              "      background-color: #E2EBFA;\n",
              "      box-shadow: 0px 1px 2px rgba(60, 64, 67, 0.3), 0px 1px 3px 1px rgba(60, 64, 67, 0.15);\n",
              "      fill: #174EA6;\n",
              "    }\n",
              "\n",
              "    .colab-df-buttons div {\n",
              "      margin-bottom: 4px;\n",
              "    }\n",
              "\n",
              "    [theme=dark] .colab-df-convert {\n",
              "      background-color: #3B4455;\n",
              "      fill: #D2E3FC;\n",
              "    }\n",
              "\n",
              "    [theme=dark] .colab-df-convert:hover {\n",
              "      background-color: #434B5C;\n",
              "      box-shadow: 0px 1px 3px 1px rgba(0, 0, 0, 0.15);\n",
              "      filter: drop-shadow(0px 1px 2px rgba(0, 0, 0, 0.3));\n",
              "      fill: #FFFFFF;\n",
              "    }\n",
              "  </style>\n",
              "\n",
              "    <script>\n",
              "      const buttonEl =\n",
              "        document.querySelector('#df-d58e4d3b-46ef-4c89-ba46-94471a1473f8 button.colab-df-convert');\n",
              "      buttonEl.style.display =\n",
              "        google.colab.kernel.accessAllowed ? 'block' : 'none';\n",
              "\n",
              "      async function convertToInteractive(key) {\n",
              "        const element = document.querySelector('#df-d58e4d3b-46ef-4c89-ba46-94471a1473f8');\n",
              "        const dataTable =\n",
              "          await google.colab.kernel.invokeFunction('convertToInteractive',\n",
              "                                                    [key], {});\n",
              "        if (!dataTable) return;\n",
              "\n",
              "        const docLinkHtml = 'Like what you see? Visit the ' +\n",
              "          '<a target=\"_blank\" href=https://colab.research.google.com/notebooks/data_table.ipynb>data table notebook</a>'\n",
              "          + ' to learn more about interactive tables.';\n",
              "        element.innerHTML = '';\n",
              "        dataTable['output_type'] = 'display_data';\n",
              "        await google.colab.output.renderOutput(dataTable, element);\n",
              "        const docLink = document.createElement('div');\n",
              "        docLink.innerHTML = docLinkHtml;\n",
              "        element.appendChild(docLink);\n",
              "      }\n",
              "    </script>\n",
              "  </div>\n",
              "\n",
              "\n",
              "<div id=\"df-4c1ee2cd-46a2-42b7-9ef0-50045f12d529\">\n",
              "  <button class=\"colab-df-quickchart\" onclick=\"quickchart('df-4c1ee2cd-46a2-42b7-9ef0-50045f12d529')\"\n",
              "            title=\"Suggest charts\"\n",
              "            style=\"display:none;\">\n",
              "\n",
              "<svg xmlns=\"http://www.w3.org/2000/svg\" height=\"24px\"viewBox=\"0 0 24 24\"\n",
              "     width=\"24px\">\n",
              "    <g>\n",
              "        <path d=\"M19 3H5c-1.1 0-2 .9-2 2v14c0 1.1.9 2 2 2h14c1.1 0 2-.9 2-2V5c0-1.1-.9-2-2-2zM9 17H7v-7h2v7zm4 0h-2V7h2v10zm4 0h-2v-4h2v4z\"/>\n",
              "    </g>\n",
              "</svg>\n",
              "  </button>\n",
              "\n",
              "<style>\n",
              "  .colab-df-quickchart {\n",
              "      --bg-color: #E8F0FE;\n",
              "      --fill-color: #1967D2;\n",
              "      --hover-bg-color: #E2EBFA;\n",
              "      --hover-fill-color: #174EA6;\n",
              "      --disabled-fill-color: #AAA;\n",
              "      --disabled-bg-color: #DDD;\n",
              "  }\n",
              "\n",
              "  [theme=dark] .colab-df-quickchart {\n",
              "      --bg-color: #3B4455;\n",
              "      --fill-color: #D2E3FC;\n",
              "      --hover-bg-color: #434B5C;\n",
              "      --hover-fill-color: #FFFFFF;\n",
              "      --disabled-bg-color: #3B4455;\n",
              "      --disabled-fill-color: #666;\n",
              "  }\n",
              "\n",
              "  .colab-df-quickchart {\n",
              "    background-color: var(--bg-color);\n",
              "    border: none;\n",
              "    border-radius: 50%;\n",
              "    cursor: pointer;\n",
              "    display: none;\n",
              "    fill: var(--fill-color);\n",
              "    height: 32px;\n",
              "    padding: 0;\n",
              "    width: 32px;\n",
              "  }\n",
              "\n",
              "  .colab-df-quickchart:hover {\n",
              "    background-color: var(--hover-bg-color);\n",
              "    box-shadow: 0 1px 2px rgba(60, 64, 67, 0.3), 0 1px 3px 1px rgba(60, 64, 67, 0.15);\n",
              "    fill: var(--button-hover-fill-color);\n",
              "  }\n",
              "\n",
              "  .colab-df-quickchart-complete:disabled,\n",
              "  .colab-df-quickchart-complete:disabled:hover {\n",
              "    background-color: var(--disabled-bg-color);\n",
              "    fill: var(--disabled-fill-color);\n",
              "    box-shadow: none;\n",
              "  }\n",
              "\n",
              "  .colab-df-spinner {\n",
              "    border: 2px solid var(--fill-color);\n",
              "    border-color: transparent;\n",
              "    border-bottom-color: var(--fill-color);\n",
              "    animation:\n",
              "      spin 1s steps(1) infinite;\n",
              "  }\n",
              "\n",
              "  @keyframes spin {\n",
              "    0% {\n",
              "      border-color: transparent;\n",
              "      border-bottom-color: var(--fill-color);\n",
              "      border-left-color: var(--fill-color);\n",
              "    }\n",
              "    20% {\n",
              "      border-color: transparent;\n",
              "      border-left-color: var(--fill-color);\n",
              "      border-top-color: var(--fill-color);\n",
              "    }\n",
              "    30% {\n",
              "      border-color: transparent;\n",
              "      border-left-color: var(--fill-color);\n",
              "      border-top-color: var(--fill-color);\n",
              "      border-right-color: var(--fill-color);\n",
              "    }\n",
              "    40% {\n",
              "      border-color: transparent;\n",
              "      border-right-color: var(--fill-color);\n",
              "      border-top-color: var(--fill-color);\n",
              "    }\n",
              "    60% {\n",
              "      border-color: transparent;\n",
              "      border-right-color: var(--fill-color);\n",
              "    }\n",
              "    80% {\n",
              "      border-color: transparent;\n",
              "      border-right-color: var(--fill-color);\n",
              "      border-bottom-color: var(--fill-color);\n",
              "    }\n",
              "    90% {\n",
              "      border-color: transparent;\n",
              "      border-bottom-color: var(--fill-color);\n",
              "    }\n",
              "  }\n",
              "</style>\n",
              "\n",
              "  <script>\n",
              "    async function quickchart(key) {\n",
              "      const quickchartButtonEl =\n",
              "        document.querySelector('#' + key + ' button');\n",
              "      quickchartButtonEl.disabled = true;  // To prevent multiple clicks.\n",
              "      quickchartButtonEl.classList.add('colab-df-spinner');\n",
              "      try {\n",
              "        const charts = await google.colab.kernel.invokeFunction(\n",
              "            'suggestCharts', [key], {});\n",
              "      } catch (error) {\n",
              "        console.error('Error during call to suggestCharts:', error);\n",
              "      }\n",
              "      quickchartButtonEl.classList.remove('colab-df-spinner');\n",
              "      quickchartButtonEl.classList.add('colab-df-quickchart-complete');\n",
              "    }\n",
              "    (() => {\n",
              "      let quickchartButtonEl =\n",
              "        document.querySelector('#df-4c1ee2cd-46a2-42b7-9ef0-50045f12d529 button');\n",
              "      quickchartButtonEl.style.display =\n",
              "        google.colab.kernel.accessAllowed ? 'block' : 'none';\n",
              "    })();\n",
              "  </script>\n",
              "</div>\n",
              "\n",
              "    </div>\n",
              "  </div>\n"
            ],
            "application/vnd.google.colaboratory.intrinsic+json": {
              "type": "dataframe",
              "variable_name": "df_teams",
              "summary": "{\n  \"name\": \"df_teams\",\n  \"rows\": 142,\n  \"fields\": [\n    {\n      \"column\": \"city\",\n      \"properties\": {\n        \"dtype\": \"string\",\n        \"num_unique_values\": 124,\n        \"samples\": [\n          \"La Chapelle-sur-Erdre\",\n          \"Hamburg\",\n          \"Burnley, Lancashire\"\n        ],\n        \"semantic_type\": \"\",\n        \"description\": \"\"\n      }\n    },\n    {\n      \"column\": \"name\",\n      \"properties\": {\n        \"dtype\": \"string\",\n        \"num_unique_values\": 142,\n        \"samples\": [\n          \"Czech Republic\",\n          \"Swansea City\",\n          \"Napoli\"\n        ],\n        \"semantic_type\": \"\",\n        \"description\": \"\"\n      }\n    },\n    {\n      \"column\": \"wyId\",\n      \"properties\": {\n        \"dtype\": \"number\",\n        \"std\": 5104,\n        \"min\": 674,\n        \"max\": 19830,\n        \"num_unique_values\": 142,\n        \"samples\": [\n          11555,\n          10531,\n          3187\n        ],\n        \"semantic_type\": \"\",\n        \"description\": \"\"\n      }\n    },\n    {\n      \"column\": \"officialName\",\n      \"properties\": {\n        \"dtype\": \"string\",\n        \"num_unique_values\": 142,\n        \"samples\": [\n          \"Czech Republic\",\n          \"Swansea City AFC\",\n          \"SSC Napoli\"\n        ],\n        \"semantic_type\": \"\",\n        \"description\": \"\"\n      }\n    },\n    {\n      \"column\": \"area\",\n      \"properties\": {\n        \"dtype\": \"object\",\n        \"semantic_type\": \"\",\n        \"description\": \"\"\n      }\n    },\n    {\n      \"column\": \"type\",\n      \"properties\": {\n        \"dtype\": \"category\",\n        \"num_unique_values\": 2,\n        \"samples\": [\n          \"national\",\n          \"club\"\n        ],\n        \"semantic_type\": \"\",\n        \"description\": \"\"\n      }\n    }\n  ]\n}"
            }
          },
          "metadata": {},
          "execution_count": 6
        }
      ]
    },
    {
      "cell_type": "code",
      "source": [
        "df_teams.to_hdf('data.h5', key='teams', mode='w')"
      ],
      "metadata": {
        "id": "UGRICxKeYyRo"
      },
      "execution_count": 7,
      "outputs": []
    },
    {
      "cell_type": "markdown",
      "source": [
        "### Players\n",
        "\n",
        "The following cells read the `players.json` file into a `DataFrame` object and store that object in the `data.h5` HDF5 file under the key `players`."
      ],
      "metadata": {
        "id": "VOSh7WiJZJN3"
      }
    },
    {
      "cell_type": "code",
      "source": [
        "json_players = read_json_file('players.json')\n",
        "df_players = pd.read_json(json_players)\n",
        "df_players.head(10)"
      ],
      "metadata": {
        "id": "PEA_Qm11Y4Lt",
        "colab": {
          "base_uri": "https://localhost:8080/",
          "height": 0
        },
        "outputId": "dcd7ad53-d776-4c5e-864e-52f008c2ade5"
      },
      "execution_count": 8,
      "outputs": [
        {
          "output_type": "execute_result",
          "data": {
            "text/plain": [
              "                                        passportArea  weight  \\\n",
              "0  {'name': 'Turkey', 'id': '792', 'alpha3code': ...      78   \n",
              "1  {'name': 'Senegal', 'id': '686', 'alpha3code':...      73   \n",
              "2  {'name': 'France', 'id': '250', 'alpha3code': ...      72   \n",
              "3  {'name': 'Senegal', 'id': '686', 'alpha3code':...      82   \n",
              "4  {'name': 'France', 'id': '250', 'alpha3code': ...      84   \n",
              "5  {'name': 'Netherlands', 'id': '528', 'alpha3co...      83   \n",
              "6  {'name': 'Belgium', 'id': '56', 'alpha3code': ...      91   \n",
              "7  {'name': 'Belgium', 'id': '56', 'alpha3code': ...      88   \n",
              "8  {'name': 'France', 'id': '250', 'alpha3code': ...      74   \n",
              "9  {'name': 'Denmark', 'id': '208', 'alpha3code':...      76   \n",
              "\n",
              "           firstName middleName           lastName currentTeamId   birthDate  \\\n",
              "0              Harun                         Tekin          4502  1989-06-17   \n",
              "1             Malang                          Sarr          3775  1999-01-23   \n",
              "2               Over                      Mandanda          3772  1998-10-26   \n",
              "3  Alfred John Momar                       N'Diaye           683  1990-03-06   \n",
              "4           Ibrahima                        Konaté          2975  1999-05-25   \n",
              "5             Jasper                     Cillessen           676  1989-04-22   \n",
              "6               Toby                  Alderweireld          1624  1989-03-02   \n",
              "7                Jan                    Vertonghen          1624  1987-04-24   \n",
              "8          Alexander                         Djiku          3783  1994-08-09   \n",
              "9         Christian              Dannemann Eriksen          1624  1992-02-14   \n",
              "\n",
              "   height                                               role  \\\n",
              "0     187  {'code2': 'GK', 'code3': 'GKP', 'name': 'Goalk...   \n",
              "1     182  {'code2': 'DF', 'code3': 'DEF', 'name': 'Defen...   \n",
              "2     176  {'code2': 'GK', 'code3': 'GKP', 'name': 'Goalk...   \n",
              "3     187  {'code2': 'MD', 'code3': 'MID', 'name': 'Midfi...   \n",
              "4     192  {'code2': 'DF', 'code3': 'DEF', 'name': 'Defen...   \n",
              "5     185  {'code2': 'GK', 'code3': 'GKP', 'name': 'Goalk...   \n",
              "6     187  {'code2': 'DF', 'code3': 'DEF', 'name': 'Defen...   \n",
              "7     189  {'code2': 'DF', 'code3': 'DEF', 'name': 'Defen...   \n",
              "8     182  {'code2': 'DF', 'code3': 'DEF', 'name': 'Defen...   \n",
              "9     180  {'code2': 'MD', 'code3': 'MID', 'name': 'Midfi...   \n",
              "\n",
              "                                           birthArea    wyId   foot  \\\n",
              "0  {'name': 'Turkey', 'id': '792', 'alpha3code': ...   32777  right   \n",
              "1  {'name': 'France', 'id': '250', 'alpha3code': ...  393228   left   \n",
              "2  {'name': 'France', 'id': '250', 'alpha3code': ...  393230          \n",
              "3  {'name': 'France', 'id': '250', 'alpha3code': ...   32793  right   \n",
              "4  {'name': 'France', 'id': '250', 'alpha3code': ...  393247  right   \n",
              "5  {'name': 'Netherlands', 'id': '528', 'alpha3co...      33  right   \n",
              "6  {'name': 'Belgium', 'id': '56', 'alpha3code': ...      36  right   \n",
              "7  {'name': 'Belgium', 'id': '56', 'alpha3code': ...      48   left   \n",
              "8  {'name': 'France', 'id': '250', 'alpha3code': ...  229427  right   \n",
              "9  {'name': 'Denmark', 'id': '208', 'alpha3code':...      54  right   \n",
              "\n",
              "         shortName currentNationalTeamId  \n",
              "0         H. Tekin                  4687  \n",
              "1          M. Sarr                  4423  \n",
              "2      O. Mandanda                  null  \n",
              "3       A. N'Diaye                 19314  \n",
              "4        I. Konaté                  null  \n",
              "5     J. Cillessen                   664  \n",
              "6  T. Alderweireld                  5629  \n",
              "7    J. Vertonghen                  5629  \n",
              "8         A. Djiku                  null  \n",
              "9       C. Eriksen                  7712  "
            ],
            "text/html": [
              "\n",
              "  <div id=\"df-77086ed0-1198-42fd-94e8-4fa70dd8dc72\" class=\"colab-df-container\">\n",
              "    <div>\n",
              "<style scoped>\n",
              "    .dataframe tbody tr th:only-of-type {\n",
              "        vertical-align: middle;\n",
              "    }\n",
              "\n",
              "    .dataframe tbody tr th {\n",
              "        vertical-align: top;\n",
              "    }\n",
              "\n",
              "    .dataframe thead th {\n",
              "        text-align: right;\n",
              "    }\n",
              "</style>\n",
              "<table border=\"1\" class=\"dataframe\">\n",
              "  <thead>\n",
              "    <tr style=\"text-align: right;\">\n",
              "      <th></th>\n",
              "      <th>passportArea</th>\n",
              "      <th>weight</th>\n",
              "      <th>firstName</th>\n",
              "      <th>middleName</th>\n",
              "      <th>lastName</th>\n",
              "      <th>currentTeamId</th>\n",
              "      <th>birthDate</th>\n",
              "      <th>height</th>\n",
              "      <th>role</th>\n",
              "      <th>birthArea</th>\n",
              "      <th>wyId</th>\n",
              "      <th>foot</th>\n",
              "      <th>shortName</th>\n",
              "      <th>currentNationalTeamId</th>\n",
              "    </tr>\n",
              "  </thead>\n",
              "  <tbody>\n",
              "    <tr>\n",
              "      <th>0</th>\n",
              "      <td>{'name': 'Turkey', 'id': '792', 'alpha3code': ...</td>\n",
              "      <td>78</td>\n",
              "      <td>Harun</td>\n",
              "      <td></td>\n",
              "      <td>Tekin</td>\n",
              "      <td>4502</td>\n",
              "      <td>1989-06-17</td>\n",
              "      <td>187</td>\n",
              "      <td>{'code2': 'GK', 'code3': 'GKP', 'name': 'Goalk...</td>\n",
              "      <td>{'name': 'Turkey', 'id': '792', 'alpha3code': ...</td>\n",
              "      <td>32777</td>\n",
              "      <td>right</td>\n",
              "      <td>H. Tekin</td>\n",
              "      <td>4687</td>\n",
              "    </tr>\n",
              "    <tr>\n",
              "      <th>1</th>\n",
              "      <td>{'name': 'Senegal', 'id': '686', 'alpha3code':...</td>\n",
              "      <td>73</td>\n",
              "      <td>Malang</td>\n",
              "      <td></td>\n",
              "      <td>Sarr</td>\n",
              "      <td>3775</td>\n",
              "      <td>1999-01-23</td>\n",
              "      <td>182</td>\n",
              "      <td>{'code2': 'DF', 'code3': 'DEF', 'name': 'Defen...</td>\n",
              "      <td>{'name': 'France', 'id': '250', 'alpha3code': ...</td>\n",
              "      <td>393228</td>\n",
              "      <td>left</td>\n",
              "      <td>M. Sarr</td>\n",
              "      <td>4423</td>\n",
              "    </tr>\n",
              "    <tr>\n",
              "      <th>2</th>\n",
              "      <td>{'name': 'France', 'id': '250', 'alpha3code': ...</td>\n",
              "      <td>72</td>\n",
              "      <td>Over</td>\n",
              "      <td></td>\n",
              "      <td>Mandanda</td>\n",
              "      <td>3772</td>\n",
              "      <td>1998-10-26</td>\n",
              "      <td>176</td>\n",
              "      <td>{'code2': 'GK', 'code3': 'GKP', 'name': 'Goalk...</td>\n",
              "      <td>{'name': 'France', 'id': '250', 'alpha3code': ...</td>\n",
              "      <td>393230</td>\n",
              "      <td></td>\n",
              "      <td>O. Mandanda</td>\n",
              "      <td>null</td>\n",
              "    </tr>\n",
              "    <tr>\n",
              "      <th>3</th>\n",
              "      <td>{'name': 'Senegal', 'id': '686', 'alpha3code':...</td>\n",
              "      <td>82</td>\n",
              "      <td>Alfred John Momar</td>\n",
              "      <td></td>\n",
              "      <td>N'Diaye</td>\n",
              "      <td>683</td>\n",
              "      <td>1990-03-06</td>\n",
              "      <td>187</td>\n",
              "      <td>{'code2': 'MD', 'code3': 'MID', 'name': 'Midfi...</td>\n",
              "      <td>{'name': 'France', 'id': '250', 'alpha3code': ...</td>\n",
              "      <td>32793</td>\n",
              "      <td>right</td>\n",
              "      <td>A. N'Diaye</td>\n",
              "      <td>19314</td>\n",
              "    </tr>\n",
              "    <tr>\n",
              "      <th>4</th>\n",
              "      <td>{'name': 'France', 'id': '250', 'alpha3code': ...</td>\n",
              "      <td>84</td>\n",
              "      <td>Ibrahima</td>\n",
              "      <td></td>\n",
              "      <td>Konaté</td>\n",
              "      <td>2975</td>\n",
              "      <td>1999-05-25</td>\n",
              "      <td>192</td>\n",
              "      <td>{'code2': 'DF', 'code3': 'DEF', 'name': 'Defen...</td>\n",
              "      <td>{'name': 'France', 'id': '250', 'alpha3code': ...</td>\n",
              "      <td>393247</td>\n",
              "      <td>right</td>\n",
              "      <td>I. Konaté</td>\n",
              "      <td>null</td>\n",
              "    </tr>\n",
              "    <tr>\n",
              "      <th>5</th>\n",
              "      <td>{'name': 'Netherlands', 'id': '528', 'alpha3co...</td>\n",
              "      <td>83</td>\n",
              "      <td>Jasper</td>\n",
              "      <td></td>\n",
              "      <td>Cillessen</td>\n",
              "      <td>676</td>\n",
              "      <td>1989-04-22</td>\n",
              "      <td>185</td>\n",
              "      <td>{'code2': 'GK', 'code3': 'GKP', 'name': 'Goalk...</td>\n",
              "      <td>{'name': 'Netherlands', 'id': '528', 'alpha3co...</td>\n",
              "      <td>33</td>\n",
              "      <td>right</td>\n",
              "      <td>J. Cillessen</td>\n",
              "      <td>664</td>\n",
              "    </tr>\n",
              "    <tr>\n",
              "      <th>6</th>\n",
              "      <td>{'name': 'Belgium', 'id': '56', 'alpha3code': ...</td>\n",
              "      <td>91</td>\n",
              "      <td>Toby</td>\n",
              "      <td></td>\n",
              "      <td>Alderweireld</td>\n",
              "      <td>1624</td>\n",
              "      <td>1989-03-02</td>\n",
              "      <td>187</td>\n",
              "      <td>{'code2': 'DF', 'code3': 'DEF', 'name': 'Defen...</td>\n",
              "      <td>{'name': 'Belgium', 'id': '56', 'alpha3code': ...</td>\n",
              "      <td>36</td>\n",
              "      <td>right</td>\n",
              "      <td>T. Alderweireld</td>\n",
              "      <td>5629</td>\n",
              "    </tr>\n",
              "    <tr>\n",
              "      <th>7</th>\n",
              "      <td>{'name': 'Belgium', 'id': '56', 'alpha3code': ...</td>\n",
              "      <td>88</td>\n",
              "      <td>Jan</td>\n",
              "      <td></td>\n",
              "      <td>Vertonghen</td>\n",
              "      <td>1624</td>\n",
              "      <td>1987-04-24</td>\n",
              "      <td>189</td>\n",
              "      <td>{'code2': 'DF', 'code3': 'DEF', 'name': 'Defen...</td>\n",
              "      <td>{'name': 'Belgium', 'id': '56', 'alpha3code': ...</td>\n",
              "      <td>48</td>\n",
              "      <td>left</td>\n",
              "      <td>J. Vertonghen</td>\n",
              "      <td>5629</td>\n",
              "    </tr>\n",
              "    <tr>\n",
              "      <th>8</th>\n",
              "      <td>{'name': 'France', 'id': '250', 'alpha3code': ...</td>\n",
              "      <td>74</td>\n",
              "      <td>Alexander</td>\n",
              "      <td></td>\n",
              "      <td>Djiku</td>\n",
              "      <td>3783</td>\n",
              "      <td>1994-08-09</td>\n",
              "      <td>182</td>\n",
              "      <td>{'code2': 'DF', 'code3': 'DEF', 'name': 'Defen...</td>\n",
              "      <td>{'name': 'France', 'id': '250', 'alpha3code': ...</td>\n",
              "      <td>229427</td>\n",
              "      <td>right</td>\n",
              "      <td>A. Djiku</td>\n",
              "      <td>null</td>\n",
              "    </tr>\n",
              "    <tr>\n",
              "      <th>9</th>\n",
              "      <td>{'name': 'Denmark', 'id': '208', 'alpha3code':...</td>\n",
              "      <td>76</td>\n",
              "      <td>Christian</td>\n",
              "      <td></td>\n",
              "      <td>Dannemann Eriksen</td>\n",
              "      <td>1624</td>\n",
              "      <td>1992-02-14</td>\n",
              "      <td>180</td>\n",
              "      <td>{'code2': 'MD', 'code3': 'MID', 'name': 'Midfi...</td>\n",
              "      <td>{'name': 'Denmark', 'id': '208', 'alpha3code':...</td>\n",
              "      <td>54</td>\n",
              "      <td>right</td>\n",
              "      <td>C. Eriksen</td>\n",
              "      <td>7712</td>\n",
              "    </tr>\n",
              "  </tbody>\n",
              "</table>\n",
              "</div>\n",
              "    <div class=\"colab-df-buttons\">\n",
              "\n",
              "  <div class=\"colab-df-container\">\n",
              "    <button class=\"colab-df-convert\" onclick=\"convertToInteractive('df-77086ed0-1198-42fd-94e8-4fa70dd8dc72')\"\n",
              "            title=\"Convert this dataframe to an interactive table.\"\n",
              "            style=\"display:none;\">\n",
              "\n",
              "  <svg xmlns=\"http://www.w3.org/2000/svg\" height=\"24px\" viewBox=\"0 -960 960 960\">\n",
              "    <path d=\"M120-120v-720h720v720H120Zm60-500h600v-160H180v160Zm220 220h160v-160H400v160Zm0 220h160v-160H400v160ZM180-400h160v-160H180v160Zm440 0h160v-160H620v160ZM180-180h160v-160H180v160Zm440 0h160v-160H620v160Z\"/>\n",
              "  </svg>\n",
              "    </button>\n",
              "\n",
              "  <style>\n",
              "    .colab-df-container {\n",
              "      display:flex;\n",
              "      gap: 12px;\n",
              "    }\n",
              "\n",
              "    .colab-df-convert {\n",
              "      background-color: #E8F0FE;\n",
              "      border: none;\n",
              "      border-radius: 50%;\n",
              "      cursor: pointer;\n",
              "      display: none;\n",
              "      fill: #1967D2;\n",
              "      height: 32px;\n",
              "      padding: 0 0 0 0;\n",
              "      width: 32px;\n",
              "    }\n",
              "\n",
              "    .colab-df-convert:hover {\n",
              "      background-color: #E2EBFA;\n",
              "      box-shadow: 0px 1px 2px rgba(60, 64, 67, 0.3), 0px 1px 3px 1px rgba(60, 64, 67, 0.15);\n",
              "      fill: #174EA6;\n",
              "    }\n",
              "\n",
              "    .colab-df-buttons div {\n",
              "      margin-bottom: 4px;\n",
              "    }\n",
              "\n",
              "    [theme=dark] .colab-df-convert {\n",
              "      background-color: #3B4455;\n",
              "      fill: #D2E3FC;\n",
              "    }\n",
              "\n",
              "    [theme=dark] .colab-df-convert:hover {\n",
              "      background-color: #434B5C;\n",
              "      box-shadow: 0px 1px 3px 1px rgba(0, 0, 0, 0.15);\n",
              "      filter: drop-shadow(0px 1px 2px rgba(0, 0, 0, 0.3));\n",
              "      fill: #FFFFFF;\n",
              "    }\n",
              "  </style>\n",
              "\n",
              "    <script>\n",
              "      const buttonEl =\n",
              "        document.querySelector('#df-77086ed0-1198-42fd-94e8-4fa70dd8dc72 button.colab-df-convert');\n",
              "      buttonEl.style.display =\n",
              "        google.colab.kernel.accessAllowed ? 'block' : 'none';\n",
              "\n",
              "      async function convertToInteractive(key) {\n",
              "        const element = document.querySelector('#df-77086ed0-1198-42fd-94e8-4fa70dd8dc72');\n",
              "        const dataTable =\n",
              "          await google.colab.kernel.invokeFunction('convertToInteractive',\n",
              "                                                    [key], {});\n",
              "        if (!dataTable) return;\n",
              "\n",
              "        const docLinkHtml = 'Like what you see? Visit the ' +\n",
              "          '<a target=\"_blank\" href=https://colab.research.google.com/notebooks/data_table.ipynb>data table notebook</a>'\n",
              "          + ' to learn more about interactive tables.';\n",
              "        element.innerHTML = '';\n",
              "        dataTable['output_type'] = 'display_data';\n",
              "        await google.colab.output.renderOutput(dataTable, element);\n",
              "        const docLink = document.createElement('div');\n",
              "        docLink.innerHTML = docLinkHtml;\n",
              "        element.appendChild(docLink);\n",
              "      }\n",
              "    </script>\n",
              "  </div>\n",
              "\n",
              "\n",
              "<div id=\"df-0634c2a8-3017-4676-bb2e-5ab61b966af7\">\n",
              "  <button class=\"colab-df-quickchart\" onclick=\"quickchart('df-0634c2a8-3017-4676-bb2e-5ab61b966af7')\"\n",
              "            title=\"Suggest charts\"\n",
              "            style=\"display:none;\">\n",
              "\n",
              "<svg xmlns=\"http://www.w3.org/2000/svg\" height=\"24px\"viewBox=\"0 0 24 24\"\n",
              "     width=\"24px\">\n",
              "    <g>\n",
              "        <path d=\"M19 3H5c-1.1 0-2 .9-2 2v14c0 1.1.9 2 2 2h14c1.1 0 2-.9 2-2V5c0-1.1-.9-2-2-2zM9 17H7v-7h2v7zm4 0h-2V7h2v10zm4 0h-2v-4h2v4z\"/>\n",
              "    </g>\n",
              "</svg>\n",
              "  </button>\n",
              "\n",
              "<style>\n",
              "  .colab-df-quickchart {\n",
              "      --bg-color: #E8F0FE;\n",
              "      --fill-color: #1967D2;\n",
              "      --hover-bg-color: #E2EBFA;\n",
              "      --hover-fill-color: #174EA6;\n",
              "      --disabled-fill-color: #AAA;\n",
              "      --disabled-bg-color: #DDD;\n",
              "  }\n",
              "\n",
              "  [theme=dark] .colab-df-quickchart {\n",
              "      --bg-color: #3B4455;\n",
              "      --fill-color: #D2E3FC;\n",
              "      --hover-bg-color: #434B5C;\n",
              "      --hover-fill-color: #FFFFFF;\n",
              "      --disabled-bg-color: #3B4455;\n",
              "      --disabled-fill-color: #666;\n",
              "  }\n",
              "\n",
              "  .colab-df-quickchart {\n",
              "    background-color: var(--bg-color);\n",
              "    border: none;\n",
              "    border-radius: 50%;\n",
              "    cursor: pointer;\n",
              "    display: none;\n",
              "    fill: var(--fill-color);\n",
              "    height: 32px;\n",
              "    padding: 0;\n",
              "    width: 32px;\n",
              "  }\n",
              "\n",
              "  .colab-df-quickchart:hover {\n",
              "    background-color: var(--hover-bg-color);\n",
              "    box-shadow: 0 1px 2px rgba(60, 64, 67, 0.3), 0 1px 3px 1px rgba(60, 64, 67, 0.15);\n",
              "    fill: var(--button-hover-fill-color);\n",
              "  }\n",
              "\n",
              "  .colab-df-quickchart-complete:disabled,\n",
              "  .colab-df-quickchart-complete:disabled:hover {\n",
              "    background-color: var(--disabled-bg-color);\n",
              "    fill: var(--disabled-fill-color);\n",
              "    box-shadow: none;\n",
              "  }\n",
              "\n",
              "  .colab-df-spinner {\n",
              "    border: 2px solid var(--fill-color);\n",
              "    border-color: transparent;\n",
              "    border-bottom-color: var(--fill-color);\n",
              "    animation:\n",
              "      spin 1s steps(1) infinite;\n",
              "  }\n",
              "\n",
              "  @keyframes spin {\n",
              "    0% {\n",
              "      border-color: transparent;\n",
              "      border-bottom-color: var(--fill-color);\n",
              "      border-left-color: var(--fill-color);\n",
              "    }\n",
              "    20% {\n",
              "      border-color: transparent;\n",
              "      border-left-color: var(--fill-color);\n",
              "      border-top-color: var(--fill-color);\n",
              "    }\n",
              "    30% {\n",
              "      border-color: transparent;\n",
              "      border-left-color: var(--fill-color);\n",
              "      border-top-color: var(--fill-color);\n",
              "      border-right-color: var(--fill-color);\n",
              "    }\n",
              "    40% {\n",
              "      border-color: transparent;\n",
              "      border-right-color: var(--fill-color);\n",
              "      border-top-color: var(--fill-color);\n",
              "    }\n",
              "    60% {\n",
              "      border-color: transparent;\n",
              "      border-right-color: var(--fill-color);\n",
              "    }\n",
              "    80% {\n",
              "      border-color: transparent;\n",
              "      border-right-color: var(--fill-color);\n",
              "      border-bottom-color: var(--fill-color);\n",
              "    }\n",
              "    90% {\n",
              "      border-color: transparent;\n",
              "      border-bottom-color: var(--fill-color);\n",
              "    }\n",
              "  }\n",
              "</style>\n",
              "\n",
              "  <script>\n",
              "    async function quickchart(key) {\n",
              "      const quickchartButtonEl =\n",
              "        document.querySelector('#' + key + ' button');\n",
              "      quickchartButtonEl.disabled = true;  // To prevent multiple clicks.\n",
              "      quickchartButtonEl.classList.add('colab-df-spinner');\n",
              "      try {\n",
              "        const charts = await google.colab.kernel.invokeFunction(\n",
              "            'suggestCharts', [key], {});\n",
              "      } catch (error) {\n",
              "        console.error('Error during call to suggestCharts:', error);\n",
              "      }\n",
              "      quickchartButtonEl.classList.remove('colab-df-spinner');\n",
              "      quickchartButtonEl.classList.add('colab-df-quickchart-complete');\n",
              "    }\n",
              "    (() => {\n",
              "      let quickchartButtonEl =\n",
              "        document.querySelector('#df-0634c2a8-3017-4676-bb2e-5ab61b966af7 button');\n",
              "      quickchartButtonEl.style.display =\n",
              "        google.colab.kernel.accessAllowed ? 'block' : 'none';\n",
              "    })();\n",
              "  </script>\n",
              "</div>\n",
              "\n",
              "    </div>\n",
              "  </div>\n"
            ],
            "application/vnd.google.colaboratory.intrinsic+json": {
              "type": "dataframe",
              "variable_name": "df_players",
              "summary": "{\n  \"name\": \"df_players\",\n  \"rows\": 3603,\n  \"fields\": [\n    {\n      \"column\": \"passportArea\",\n      \"properties\": {\n        \"dtype\": \"object\",\n        \"semantic_type\": \"\",\n        \"description\": \"\"\n      }\n    },\n    {\n      \"column\": \"weight\",\n      \"properties\": {\n        \"dtype\": \"number\",\n        \"std\": 13,\n        \"min\": 0,\n        \"max\": 101,\n        \"num_unique_values\": 47,\n        \"samples\": [\n          68,\n          59,\n          0\n        ],\n        \"semantic_type\": \"\",\n        \"description\": \"\"\n      }\n    },\n    {\n      \"column\": \"firstName\",\n      \"properties\": {\n        \"dtype\": \"string\",\n        \"num_unique_values\": 2118,\n        \"samples\": [\n          \"Ashley Darel Jazz\",\n          \"Norberto\",\n          \"Olivier\"\n        ],\n        \"semantic_type\": \"\",\n        \"description\": \"\"\n      }\n    },\n    {\n      \"column\": \"middleName\",\n      \"properties\": {\n        \"dtype\": \"object\",\n        \"num_unique_values\": 1,\n        \"samples\": [\n          \"\"\n        ],\n        \"semantic_type\": \"\",\n        \"description\": \"\"\n      }\n    },\n    {\n      \"column\": \"lastName\",\n      \"properties\": {\n        \"dtype\": \"string\",\n        \"num_unique_values\": 3414,\n        \"samples\": [\n          \"Lecomte\"\n        ],\n        \"semantic_type\": \"\",\n        \"description\": \"\"\n      }\n    },\n    {\n      \"column\": \"currentTeamId\",\n      \"properties\": {\n        \"dtype\": \"category\",\n        \"num_unique_values\": 615,\n        \"samples\": [\n          15411\n        ],\n        \"semantic_type\": \"\",\n        \"description\": \"\"\n      }\n    },\n    {\n      \"column\": \"birthDate\",\n      \"properties\": {\n        \"dtype\": \"object\",\n        \"num_unique_values\": 2728,\n        \"samples\": [\n          \"1988-08-26\"\n        ],\n        \"semantic_type\": \"\",\n        \"description\": \"\"\n      }\n    },\n    {\n      \"column\": \"height\",\n      \"properties\": {\n        \"dtype\": \"number\",\n        \"std\": 27,\n        \"min\": 0,\n        \"max\": 203,\n        \"num_unique_values\": 42,\n        \"samples\": [\n          0\n        ],\n        \"semantic_type\": \"\",\n        \"description\": \"\"\n      }\n    },\n    {\n      \"column\": \"role\",\n      \"properties\": {\n        \"dtype\": \"object\",\n        \"semantic_type\": \"\",\n        \"description\": \"\"\n      }\n    },\n    {\n      \"column\": \"birthArea\",\n      \"properties\": {\n        \"dtype\": \"object\",\n        \"semantic_type\": \"\",\n        \"description\": \"\"\n      }\n    },\n    {\n      \"column\": \"wyId\",\n      \"properties\": {\n        \"dtype\": \"number\",\n        \"std\": 153687,\n        \"min\": 12,\n        \"max\": 568583,\n        \"num_unique_values\": 3603,\n        \"samples\": [\n          8955\n        ],\n        \"semantic_type\": \"\",\n        \"description\": \"\"\n      }\n    },\n    {\n      \"column\": \"foot\",\n      \"properties\": {\n        \"dtype\": \"category\",\n        \"num_unique_values\": 5,\n        \"samples\": [\n          \"left\"\n        ],\n        \"semantic_type\": \"\",\n        \"description\": \"\"\n      }\n    },\n    {\n      \"column\": \"shortName\",\n      \"properties\": {\n        \"dtype\": \"string\",\n        \"num_unique_values\": 3560,\n        \"samples\": [\n          \"H. Ayala\"\n        ],\n        \"semantic_type\": \"\",\n        \"description\": \"\"\n      }\n    },\n    {\n      \"column\": \"currentNationalTeamId\",\n      \"properties\": {\n        \"dtype\": \"category\",\n        \"num_unique_values\": 157,\n        \"samples\": [\n          27928\n        ],\n        \"semantic_type\": \"\",\n        \"description\": \"\"\n      }\n    }\n  ]\n}"
            }
          },
          "metadata": {},
          "execution_count": 8
        }
      ]
    },
    {
      "cell_type": "code",
      "source": [
        "df_players.to_hdf('data.h5', key='players', mode='a')"
      ],
      "metadata": {
        "id": "wOJ8b0nSZSiQ"
      },
      "execution_count": 9,
      "outputs": []
    },
    {
      "cell_type": "markdown",
      "source": [
        "### Matches\n",
        "\n",
        "The following cell lists the competitions to be included in the dataset. We can comment any number of the competitions to include in our dataset."
      ],
      "metadata": {
        "id": "AsZ5wtcjZYIy"
      }
    },
    {
      "cell_type": "code",
      "source": [
        "competitions = [\n",
        "#     'England',\n",
        "#     'France',\n",
        "#     'Germany',\n",
        "#     'Italy',\n",
        "    'Spain',\n",
        "    'European Championship',\n",
        "    'World Cup'\n",
        "]"
      ],
      "metadata": {
        "id": "MEXSuuVIZjRX"
      },
      "execution_count": 10,
      "outputs": []
    },
    {
      "cell_type": "code",
      "source": [
        "dfs_matches = []\n",
        "for competition in competitions:\n",
        "    competition_name = competition.replace(' ', '_')\n",
        "    file_matches = f'matches_{competition_name}.json'\n",
        "    json_matches = read_json_file(file_matches)\n",
        "    df_matches = pd.read_json(json_matches)\n",
        "    dfs_matches.append(df_matches)\n",
        "df_matches = pd.concat(dfs_matches)\n",
        "df_matches.head(10)"
      ],
      "metadata": {
        "id": "KLNCpIWRZapq",
        "colab": {
          "base_uri": "https://localhost:8080/",
          "height": 0
        },
        "outputId": "54ece8fb-012d-4309-91b0-e278774ae59a"
      },
      "execution_count": 11,
      "outputs": [
        {
          "output_type": "stream",
          "name": "stderr",
          "text": [
            "/usr/local/lib/python3.10/dist-packages/google/colab/_dataframe_summarizer.py:88: UserWarning: Could not infer format, so each element will be parsed individually, falling back to `dateutil`. To ensure parsing is consistent and as-expected, please specify a format.\n",
            "  cast_date_col = pd.to_datetime(column, errors=\"coerce\")\n"
          ]
        },
        {
          "output_type": "execute_result",
          "data": {
            "text/plain": [
              "   status  roundId  gameweek  \\\n",
              "0  Played  4406122        38   \n",
              "1  Played  4406122        38   \n",
              "2  Played  4406122        38   \n",
              "3  Played  4406122        38   \n",
              "4  Played  4406122        38   \n",
              "5  Played  4406122        38   \n",
              "6  Played  4406122        38   \n",
              "7  Played  4406122        38   \n",
              "8  Played  4406122        38   \n",
              "9  Played  4406122        38   \n",
              "\n",
              "                                           teamsData  seasonId  \\\n",
              "0  {'676': {'scoreET': 0, 'coachId': 92894, 'side...    181144   \n",
              "1  {'679': {'scoreET': 0, 'coachId': 3427, 'side'...    181144   \n",
              "2  {'691': {'scoreET': 0, 'coachId': 444778, 'sid...    181144   \n",
              "3  {'674': {'scoreET': 0, 'coachId': 210074, 'sid...    181144   \n",
              "4  {'675': {'scoreET': 0, 'coachId': 275283, 'sid...    181144   \n",
              "5  {'696': {'scoreET': 0, 'coachId': 230918, 'sid...    181144   \n",
              "6  {'698': {'scoreET': 0, 'coachId': 4107, 'side'...    181144   \n",
              "7  {'714': {'scoreET': 0, 'coachId': 4258, 'side'...    181144   \n",
              "8  {'684': {'scoreET': 0, 'coachId': 0, 'side': '...    181144   \n",
              "9  {'692': {'scoreET': 0, 'coachId': 3880, 'side'...    181144   \n",
              "\n",
              "               dateutc  winner                          venue     wyId  \\\n",
              "0  2018-05-20 18:45:00     676                       Camp Nou  2565922   \n",
              "1  2018-05-20 16:30:00       0    Estadio Wanda Metropolitano  2565925   \n",
              "2  2018-05-20 14:15:00     691               San Mamés Barria  2565919   \n",
              "3  2018-05-20 10:00:00     674            Estadio de Mestalla  2565924   \n",
              "4  2018-05-19 18:45:00       0         Estadio de la Cerámica  2565927   \n",
              "5  2018-05-19 16:30:00     680  Estadio Ramón Sánchez Pizjuán  2565920   \n",
              "6  2018-05-19 16:30:00     698            Estadio La Rosaleda  2565921   \n",
              "7  2018-05-19 16:30:00     756        Estadio de Gran Canaria  2565923   \n",
              "8  2018-05-19 14:15:00     712  Estadio Municipal de Butarque  2565926   \n",
              "9  2018-05-19 11:00:00     692            Estadio de Balaídos  2565918   \n",
              "\n",
              "                                   label                               date  \\\n",
              "0       Barcelona - Real Sociedad, 1 - 0   May 20, 2018 at 8:45:00 PM GMT+2   \n",
              "1         Atlético Madrid - Eibar, 2 - 2   May 20, 2018 at 6:30:00 PM GMT+2   \n",
              "2        Athletic Club - Espanyol, 0 - 1   May 20, 2018 at 4:15:00 PM GMT+2   \n",
              "3  Valencia - Deportivo La Coruña, 2 - 1  May 20, 2018 at 12:00:00 PM GMT+2   \n",
              "4        Villarreal - Real Madrid, 2 - 2   May 19, 2018 at 8:45:00 PM GMT+2   \n",
              "5      Sevilla - Deportivo Alavés, 1 - 0   May 19, 2018 at 6:30:00 PM GMT+2   \n",
              "6                 Málaga - Getafe, 0 - 1   May 19, 2018 at 6:30:00 PM GMT+2   \n",
              "7             Las Palmas - Girona, 1 - 2   May 19, 2018 at 6:30:00 PM GMT+2   \n",
              "8            Leganés - Real Betis, 3 - 2   May 19, 2018 at 4:15:00 PM GMT+2   \n",
              "9         Celta de Vigo - Levante, 4 - 2   May 19, 2018 at 1:00:00 PM GMT+2   \n",
              "\n",
              "                                            referees duration  competitionId  \\\n",
              "0  [{'refereeId': 398931, 'role': 'referee'}, {'r...  Regular            795   \n",
              "1  [{'refereeId': 395056, 'role': 'referee'}, {'r...  Regular            795   \n",
              "2  [{'refereeId': 384957, 'role': 'referee'}, {'r...  Regular            795   \n",
              "3  [{'refereeId': 398913, 'role': 'referee'}, {'r...  Regular            795   \n",
              "4  [{'refereeId': 395085, 'role': 'referee'}, {'r...  Regular            795   \n",
              "5  [{'refereeId': 379388, 'role': 'referee'}, {'r...  Regular            795   \n",
              "6  [{'refereeId': 398919, 'role': 'referee'}, {'r...  Regular            795   \n",
              "7  [{'refereeId': 381854, 'role': 'referee'}, {'r...  Regular            795   \n",
              "8  [{'refereeId': 381927, 'role': 'referee'}, {'r...  Regular            795   \n",
              "9  [{'refereeId': 395078, 'role': 'referee'}, {'r...  Regular            795   \n",
              "\n",
              "  groupName  \n",
              "0       NaN  \n",
              "1       NaN  \n",
              "2       NaN  \n",
              "3       NaN  \n",
              "4       NaN  \n",
              "5       NaN  \n",
              "6       NaN  \n",
              "7       NaN  \n",
              "8       NaN  \n",
              "9       NaN  "
            ],
            "text/html": [
              "\n",
              "  <div id=\"df-69f565cb-0532-41e3-a75c-f15fd35b1203\" class=\"colab-df-container\">\n",
              "    <div>\n",
              "<style scoped>\n",
              "    .dataframe tbody tr th:only-of-type {\n",
              "        vertical-align: middle;\n",
              "    }\n",
              "\n",
              "    .dataframe tbody tr th {\n",
              "        vertical-align: top;\n",
              "    }\n",
              "\n",
              "    .dataframe thead th {\n",
              "        text-align: right;\n",
              "    }\n",
              "</style>\n",
              "<table border=\"1\" class=\"dataframe\">\n",
              "  <thead>\n",
              "    <tr style=\"text-align: right;\">\n",
              "      <th></th>\n",
              "      <th>status</th>\n",
              "      <th>roundId</th>\n",
              "      <th>gameweek</th>\n",
              "      <th>teamsData</th>\n",
              "      <th>seasonId</th>\n",
              "      <th>dateutc</th>\n",
              "      <th>winner</th>\n",
              "      <th>venue</th>\n",
              "      <th>wyId</th>\n",
              "      <th>label</th>\n",
              "      <th>date</th>\n",
              "      <th>referees</th>\n",
              "      <th>duration</th>\n",
              "      <th>competitionId</th>\n",
              "      <th>groupName</th>\n",
              "    </tr>\n",
              "  </thead>\n",
              "  <tbody>\n",
              "    <tr>\n",
              "      <th>0</th>\n",
              "      <td>Played</td>\n",
              "      <td>4406122</td>\n",
              "      <td>38</td>\n",
              "      <td>{'676': {'scoreET': 0, 'coachId': 92894, 'side...</td>\n",
              "      <td>181144</td>\n",
              "      <td>2018-05-20 18:45:00</td>\n",
              "      <td>676</td>\n",
              "      <td>Camp Nou</td>\n",
              "      <td>2565922</td>\n",
              "      <td>Barcelona - Real Sociedad, 1 - 0</td>\n",
              "      <td>May 20, 2018 at 8:45:00 PM GMT+2</td>\n",
              "      <td>[{'refereeId': 398931, 'role': 'referee'}, {'r...</td>\n",
              "      <td>Regular</td>\n",
              "      <td>795</td>\n",
              "      <td>NaN</td>\n",
              "    </tr>\n",
              "    <tr>\n",
              "      <th>1</th>\n",
              "      <td>Played</td>\n",
              "      <td>4406122</td>\n",
              "      <td>38</td>\n",
              "      <td>{'679': {'scoreET': 0, 'coachId': 3427, 'side'...</td>\n",
              "      <td>181144</td>\n",
              "      <td>2018-05-20 16:30:00</td>\n",
              "      <td>0</td>\n",
              "      <td>Estadio Wanda Metropolitano</td>\n",
              "      <td>2565925</td>\n",
              "      <td>Atlético Madrid - Eibar, 2 - 2</td>\n",
              "      <td>May 20, 2018 at 6:30:00 PM GMT+2</td>\n",
              "      <td>[{'refereeId': 395056, 'role': 'referee'}, {'r...</td>\n",
              "      <td>Regular</td>\n",
              "      <td>795</td>\n",
              "      <td>NaN</td>\n",
              "    </tr>\n",
              "    <tr>\n",
              "      <th>2</th>\n",
              "      <td>Played</td>\n",
              "      <td>4406122</td>\n",
              "      <td>38</td>\n",
              "      <td>{'691': {'scoreET': 0, 'coachId': 444778, 'sid...</td>\n",
              "      <td>181144</td>\n",
              "      <td>2018-05-20 14:15:00</td>\n",
              "      <td>691</td>\n",
              "      <td>San Mamés Barria</td>\n",
              "      <td>2565919</td>\n",
              "      <td>Athletic Club - Espanyol, 0 - 1</td>\n",
              "      <td>May 20, 2018 at 4:15:00 PM GMT+2</td>\n",
              "      <td>[{'refereeId': 384957, 'role': 'referee'}, {'r...</td>\n",
              "      <td>Regular</td>\n",
              "      <td>795</td>\n",
              "      <td>NaN</td>\n",
              "    </tr>\n",
              "    <tr>\n",
              "      <th>3</th>\n",
              "      <td>Played</td>\n",
              "      <td>4406122</td>\n",
              "      <td>38</td>\n",
              "      <td>{'674': {'scoreET': 0, 'coachId': 210074, 'sid...</td>\n",
              "      <td>181144</td>\n",
              "      <td>2018-05-20 10:00:00</td>\n",
              "      <td>674</td>\n",
              "      <td>Estadio de Mestalla</td>\n",
              "      <td>2565924</td>\n",
              "      <td>Valencia - Deportivo La Coruña, 2 - 1</td>\n",
              "      <td>May 20, 2018 at 12:00:00 PM GMT+2</td>\n",
              "      <td>[{'refereeId': 398913, 'role': 'referee'}, {'r...</td>\n",
              "      <td>Regular</td>\n",
              "      <td>795</td>\n",
              "      <td>NaN</td>\n",
              "    </tr>\n",
              "    <tr>\n",
              "      <th>4</th>\n",
              "      <td>Played</td>\n",
              "      <td>4406122</td>\n",
              "      <td>38</td>\n",
              "      <td>{'675': {'scoreET': 0, 'coachId': 275283, 'sid...</td>\n",
              "      <td>181144</td>\n",
              "      <td>2018-05-19 18:45:00</td>\n",
              "      <td>0</td>\n",
              "      <td>Estadio de la Cerámica</td>\n",
              "      <td>2565927</td>\n",
              "      <td>Villarreal - Real Madrid, 2 - 2</td>\n",
              "      <td>May 19, 2018 at 8:45:00 PM GMT+2</td>\n",
              "      <td>[{'refereeId': 395085, 'role': 'referee'}, {'r...</td>\n",
              "      <td>Regular</td>\n",
              "      <td>795</td>\n",
              "      <td>NaN</td>\n",
              "    </tr>\n",
              "    <tr>\n",
              "      <th>5</th>\n",
              "      <td>Played</td>\n",
              "      <td>4406122</td>\n",
              "      <td>38</td>\n",
              "      <td>{'696': {'scoreET': 0, 'coachId': 230918, 'sid...</td>\n",
              "      <td>181144</td>\n",
              "      <td>2018-05-19 16:30:00</td>\n",
              "      <td>680</td>\n",
              "      <td>Estadio Ramón Sánchez Pizjuán</td>\n",
              "      <td>2565920</td>\n",
              "      <td>Sevilla - Deportivo Alavés, 1 - 0</td>\n",
              "      <td>May 19, 2018 at 6:30:00 PM GMT+2</td>\n",
              "      <td>[{'refereeId': 379388, 'role': 'referee'}, {'r...</td>\n",
              "      <td>Regular</td>\n",
              "      <td>795</td>\n",
              "      <td>NaN</td>\n",
              "    </tr>\n",
              "    <tr>\n",
              "      <th>6</th>\n",
              "      <td>Played</td>\n",
              "      <td>4406122</td>\n",
              "      <td>38</td>\n",
              "      <td>{'698': {'scoreET': 0, 'coachId': 4107, 'side'...</td>\n",
              "      <td>181144</td>\n",
              "      <td>2018-05-19 16:30:00</td>\n",
              "      <td>698</td>\n",
              "      <td>Estadio La Rosaleda</td>\n",
              "      <td>2565921</td>\n",
              "      <td>Málaga - Getafe, 0 - 1</td>\n",
              "      <td>May 19, 2018 at 6:30:00 PM GMT+2</td>\n",
              "      <td>[{'refereeId': 398919, 'role': 'referee'}, {'r...</td>\n",
              "      <td>Regular</td>\n",
              "      <td>795</td>\n",
              "      <td>NaN</td>\n",
              "    </tr>\n",
              "    <tr>\n",
              "      <th>7</th>\n",
              "      <td>Played</td>\n",
              "      <td>4406122</td>\n",
              "      <td>38</td>\n",
              "      <td>{'714': {'scoreET': 0, 'coachId': 4258, 'side'...</td>\n",
              "      <td>181144</td>\n",
              "      <td>2018-05-19 16:30:00</td>\n",
              "      <td>756</td>\n",
              "      <td>Estadio de Gran Canaria</td>\n",
              "      <td>2565923</td>\n",
              "      <td>Las Palmas - Girona, 1 - 2</td>\n",
              "      <td>May 19, 2018 at 6:30:00 PM GMT+2</td>\n",
              "      <td>[{'refereeId': 381854, 'role': 'referee'}, {'r...</td>\n",
              "      <td>Regular</td>\n",
              "      <td>795</td>\n",
              "      <td>NaN</td>\n",
              "    </tr>\n",
              "    <tr>\n",
              "      <th>8</th>\n",
              "      <td>Played</td>\n",
              "      <td>4406122</td>\n",
              "      <td>38</td>\n",
              "      <td>{'684': {'scoreET': 0, 'coachId': 0, 'side': '...</td>\n",
              "      <td>181144</td>\n",
              "      <td>2018-05-19 14:15:00</td>\n",
              "      <td>712</td>\n",
              "      <td>Estadio Municipal de Butarque</td>\n",
              "      <td>2565926</td>\n",
              "      <td>Leganés - Real Betis, 3 - 2</td>\n",
              "      <td>May 19, 2018 at 4:15:00 PM GMT+2</td>\n",
              "      <td>[{'refereeId': 381927, 'role': 'referee'}, {'r...</td>\n",
              "      <td>Regular</td>\n",
              "      <td>795</td>\n",
              "      <td>NaN</td>\n",
              "    </tr>\n",
              "    <tr>\n",
              "      <th>9</th>\n",
              "      <td>Played</td>\n",
              "      <td>4406122</td>\n",
              "      <td>38</td>\n",
              "      <td>{'692': {'scoreET': 0, 'coachId': 3880, 'side'...</td>\n",
              "      <td>181144</td>\n",
              "      <td>2018-05-19 11:00:00</td>\n",
              "      <td>692</td>\n",
              "      <td>Estadio de Balaídos</td>\n",
              "      <td>2565918</td>\n",
              "      <td>Celta de Vigo - Levante, 4 - 2</td>\n",
              "      <td>May 19, 2018 at 1:00:00 PM GMT+2</td>\n",
              "      <td>[{'refereeId': 395078, 'role': 'referee'}, {'r...</td>\n",
              "      <td>Regular</td>\n",
              "      <td>795</td>\n",
              "      <td>NaN</td>\n",
              "    </tr>\n",
              "  </tbody>\n",
              "</table>\n",
              "</div>\n",
              "    <div class=\"colab-df-buttons\">\n",
              "\n",
              "  <div class=\"colab-df-container\">\n",
              "    <button class=\"colab-df-convert\" onclick=\"convertToInteractive('df-69f565cb-0532-41e3-a75c-f15fd35b1203')\"\n",
              "            title=\"Convert this dataframe to an interactive table.\"\n",
              "            style=\"display:none;\">\n",
              "\n",
              "  <svg xmlns=\"http://www.w3.org/2000/svg\" height=\"24px\" viewBox=\"0 -960 960 960\">\n",
              "    <path d=\"M120-120v-720h720v720H120Zm60-500h600v-160H180v160Zm220 220h160v-160H400v160Zm0 220h160v-160H400v160ZM180-400h160v-160H180v160Zm440 0h160v-160H620v160ZM180-180h160v-160H180v160Zm440 0h160v-160H620v160Z\"/>\n",
              "  </svg>\n",
              "    </button>\n",
              "\n",
              "  <style>\n",
              "    .colab-df-container {\n",
              "      display:flex;\n",
              "      gap: 12px;\n",
              "    }\n",
              "\n",
              "    .colab-df-convert {\n",
              "      background-color: #E8F0FE;\n",
              "      border: none;\n",
              "      border-radius: 50%;\n",
              "      cursor: pointer;\n",
              "      display: none;\n",
              "      fill: #1967D2;\n",
              "      height: 32px;\n",
              "      padding: 0 0 0 0;\n",
              "      width: 32px;\n",
              "    }\n",
              "\n",
              "    .colab-df-convert:hover {\n",
              "      background-color: #E2EBFA;\n",
              "      box-shadow: 0px 1px 2px rgba(60, 64, 67, 0.3), 0px 1px 3px 1px rgba(60, 64, 67, 0.15);\n",
              "      fill: #174EA6;\n",
              "    }\n",
              "\n",
              "    .colab-df-buttons div {\n",
              "      margin-bottom: 4px;\n",
              "    }\n",
              "\n",
              "    [theme=dark] .colab-df-convert {\n",
              "      background-color: #3B4455;\n",
              "      fill: #D2E3FC;\n",
              "    }\n",
              "\n",
              "    [theme=dark] .colab-df-convert:hover {\n",
              "      background-color: #434B5C;\n",
              "      box-shadow: 0px 1px 3px 1px rgba(0, 0, 0, 0.15);\n",
              "      filter: drop-shadow(0px 1px 2px rgba(0, 0, 0, 0.3));\n",
              "      fill: #FFFFFF;\n",
              "    }\n",
              "  </style>\n",
              "\n",
              "    <script>\n",
              "      const buttonEl =\n",
              "        document.querySelector('#df-69f565cb-0532-41e3-a75c-f15fd35b1203 button.colab-df-convert');\n",
              "      buttonEl.style.display =\n",
              "        google.colab.kernel.accessAllowed ? 'block' : 'none';\n",
              "\n",
              "      async function convertToInteractive(key) {\n",
              "        const element = document.querySelector('#df-69f565cb-0532-41e3-a75c-f15fd35b1203');\n",
              "        const dataTable =\n",
              "          await google.colab.kernel.invokeFunction('convertToInteractive',\n",
              "                                                    [key], {});\n",
              "        if (!dataTable) return;\n",
              "\n",
              "        const docLinkHtml = 'Like what you see? Visit the ' +\n",
              "          '<a target=\"_blank\" href=https://colab.research.google.com/notebooks/data_table.ipynb>data table notebook</a>'\n",
              "          + ' to learn more about interactive tables.';\n",
              "        element.innerHTML = '';\n",
              "        dataTable['output_type'] = 'display_data';\n",
              "        await google.colab.output.renderOutput(dataTable, element);\n",
              "        const docLink = document.createElement('div');\n",
              "        docLink.innerHTML = docLinkHtml;\n",
              "        element.appendChild(docLink);\n",
              "      }\n",
              "    </script>\n",
              "  </div>\n",
              "\n",
              "\n",
              "<div id=\"df-d85f0e25-7ed5-434f-9b2f-f5d17b583396\">\n",
              "  <button class=\"colab-df-quickchart\" onclick=\"quickchart('df-d85f0e25-7ed5-434f-9b2f-f5d17b583396')\"\n",
              "            title=\"Suggest charts\"\n",
              "            style=\"display:none;\">\n",
              "\n",
              "<svg xmlns=\"http://www.w3.org/2000/svg\" height=\"24px\"viewBox=\"0 0 24 24\"\n",
              "     width=\"24px\">\n",
              "    <g>\n",
              "        <path d=\"M19 3H5c-1.1 0-2 .9-2 2v14c0 1.1.9 2 2 2h14c1.1 0 2-.9 2-2V5c0-1.1-.9-2-2-2zM9 17H7v-7h2v7zm4 0h-2V7h2v10zm4 0h-2v-4h2v4z\"/>\n",
              "    </g>\n",
              "</svg>\n",
              "  </button>\n",
              "\n",
              "<style>\n",
              "  .colab-df-quickchart {\n",
              "      --bg-color: #E8F0FE;\n",
              "      --fill-color: #1967D2;\n",
              "      --hover-bg-color: #E2EBFA;\n",
              "      --hover-fill-color: #174EA6;\n",
              "      --disabled-fill-color: #AAA;\n",
              "      --disabled-bg-color: #DDD;\n",
              "  }\n",
              "\n",
              "  [theme=dark] .colab-df-quickchart {\n",
              "      --bg-color: #3B4455;\n",
              "      --fill-color: #D2E3FC;\n",
              "      --hover-bg-color: #434B5C;\n",
              "      --hover-fill-color: #FFFFFF;\n",
              "      --disabled-bg-color: #3B4455;\n",
              "      --disabled-fill-color: #666;\n",
              "  }\n",
              "\n",
              "  .colab-df-quickchart {\n",
              "    background-color: var(--bg-color);\n",
              "    border: none;\n",
              "    border-radius: 50%;\n",
              "    cursor: pointer;\n",
              "    display: none;\n",
              "    fill: var(--fill-color);\n",
              "    height: 32px;\n",
              "    padding: 0;\n",
              "    width: 32px;\n",
              "  }\n",
              "\n",
              "  .colab-df-quickchart:hover {\n",
              "    background-color: var(--hover-bg-color);\n",
              "    box-shadow: 0 1px 2px rgba(60, 64, 67, 0.3), 0 1px 3px 1px rgba(60, 64, 67, 0.15);\n",
              "    fill: var(--button-hover-fill-color);\n",
              "  }\n",
              "\n",
              "  .colab-df-quickchart-complete:disabled,\n",
              "  .colab-df-quickchart-complete:disabled:hover {\n",
              "    background-color: var(--disabled-bg-color);\n",
              "    fill: var(--disabled-fill-color);\n",
              "    box-shadow: none;\n",
              "  }\n",
              "\n",
              "  .colab-df-spinner {\n",
              "    border: 2px solid var(--fill-color);\n",
              "    border-color: transparent;\n",
              "    border-bottom-color: var(--fill-color);\n",
              "    animation:\n",
              "      spin 1s steps(1) infinite;\n",
              "  }\n",
              "\n",
              "  @keyframes spin {\n",
              "    0% {\n",
              "      border-color: transparent;\n",
              "      border-bottom-color: var(--fill-color);\n",
              "      border-left-color: var(--fill-color);\n",
              "    }\n",
              "    20% {\n",
              "      border-color: transparent;\n",
              "      border-left-color: var(--fill-color);\n",
              "      border-top-color: var(--fill-color);\n",
              "    }\n",
              "    30% {\n",
              "      border-color: transparent;\n",
              "      border-left-color: var(--fill-color);\n",
              "      border-top-color: var(--fill-color);\n",
              "      border-right-color: var(--fill-color);\n",
              "    }\n",
              "    40% {\n",
              "      border-color: transparent;\n",
              "      border-right-color: var(--fill-color);\n",
              "      border-top-color: var(--fill-color);\n",
              "    }\n",
              "    60% {\n",
              "      border-color: transparent;\n",
              "      border-right-color: var(--fill-color);\n",
              "    }\n",
              "    80% {\n",
              "      border-color: transparent;\n",
              "      border-right-color: var(--fill-color);\n",
              "      border-bottom-color: var(--fill-color);\n",
              "    }\n",
              "    90% {\n",
              "      border-color: transparent;\n",
              "      border-bottom-color: var(--fill-color);\n",
              "    }\n",
              "  }\n",
              "</style>\n",
              "\n",
              "  <script>\n",
              "    async function quickchart(key) {\n",
              "      const quickchartButtonEl =\n",
              "        document.querySelector('#' + key + ' button');\n",
              "      quickchartButtonEl.disabled = true;  // To prevent multiple clicks.\n",
              "      quickchartButtonEl.classList.add('colab-df-spinner');\n",
              "      try {\n",
              "        const charts = await google.colab.kernel.invokeFunction(\n",
              "            'suggestCharts', [key], {});\n",
              "      } catch (error) {\n",
              "        console.error('Error during call to suggestCharts:', error);\n",
              "      }\n",
              "      quickchartButtonEl.classList.remove('colab-df-spinner');\n",
              "      quickchartButtonEl.classList.add('colab-df-quickchart-complete');\n",
              "    }\n",
              "    (() => {\n",
              "      let quickchartButtonEl =\n",
              "        document.querySelector('#df-d85f0e25-7ed5-434f-9b2f-f5d17b583396 button');\n",
              "      quickchartButtonEl.style.display =\n",
              "        google.colab.kernel.accessAllowed ? 'block' : 'none';\n",
              "    })();\n",
              "  </script>\n",
              "</div>\n",
              "\n",
              "    </div>\n",
              "  </div>\n"
            ],
            "application/vnd.google.colaboratory.intrinsic+json": {
              "type": "dataframe",
              "variable_name": "df_matches",
              "summary": "{\n  \"name\": \"df_matches\",\n  \"rows\": 495,\n  \"fields\": [\n    {\n      \"column\": \"status\",\n      \"properties\": {\n        \"dtype\": \"category\",\n        \"num_unique_values\": 1,\n        \"samples\": [\n          \"Played\"\n        ],\n        \"semantic_type\": \"\",\n        \"description\": \"\"\n      }\n    },\n    {\n      \"column\": \"roundId\",\n      \"properties\": {\n        \"dtype\": \"number\",\n        \"std\": 101758,\n        \"min\": 4165363,\n        \"max\": 4406122,\n        \"num_unique_values\": 12,\n        \"samples\": [\n          4165364\n        ],\n        \"semantic_type\": \"\",\n        \"description\": \"\"\n      }\n    },\n    {\n      \"column\": \"gameweek\",\n      \"properties\": {\n        \"dtype\": \"number\",\n        \"std\": 12,\n        \"min\": 0,\n        \"max\": 38,\n        \"num_unique_values\": 39,\n        \"samples\": [\n          5\n        ],\n        \"semantic_type\": \"\",\n        \"description\": \"\"\n      }\n    },\n    {\n      \"column\": \"teamsData\",\n      \"properties\": {\n        \"dtype\": \"object\",\n        \"semantic_type\": \"\",\n        \"description\": \"\"\n      }\n    },\n    {\n      \"column\": \"seasonId\",\n      \"properties\": {\n        \"dtype\": \"number\",\n        \"std\": 72464,\n        \"min\": 9291,\n        \"max\": 181144,\n        \"num_unique_values\": 3,\n        \"samples\": [\n          181144\n        ],\n        \"semantic_type\": \"\",\n        \"description\": \"\"\n      }\n    },\n    {\n      \"column\": \"dateutc\",\n      \"properties\": {\n        \"dtype\": \"date\",\n        \"min\": \"2016-06-10 19:00:00\",\n        \"max\": \"2018-07-15 15:00:00\",\n        \"num_unique_values\": 456,\n        \"samples\": [\n          \"2016-06-21 16:00:00\"\n        ],\n        \"semantic_type\": \"\",\n        \"description\": \"\"\n      }\n    },\n    {\n      \"column\": \"winner\",\n      \"properties\": {\n        \"dtype\": \"number\",\n        \"std\": 3779,\n        \"min\": 0,\n        \"max\": 19314,\n        \"num_unique_values\": 56,\n        \"samples\": [\n          676\n        ],\n        \"semantic_type\": \"\",\n        \"description\": \"\"\n      }\n    },\n    {\n      \"column\": \"venue\",\n      \"properties\": {\n        \"dtype\": \"category\",\n        \"num_unique_values\": 43,\n        \"samples\": [\n          \"Rostov Arena\"\n        ],\n        \"semantic_type\": \"\",\n        \"description\": \"\"\n      }\n    },\n    {\n      \"column\": \"wyId\",\n      \"properties\": {\n        \"dtype\": \"number\",\n        \"std\": 295931,\n        \"min\": 1694390,\n        \"max\": 2565927,\n        \"num_unique_values\": 495,\n        \"samples\": [\n          2057977\n        ],\n        \"semantic_type\": \"\",\n        \"description\": \"\"\n      }\n    },\n    {\n      \"column\": \"label\",\n      \"properties\": {\n        \"dtype\": \"string\",\n        \"num_unique_values\": 495,\n        \"samples\": [\n          \"Iceland - Croatia, 1 - 2\"\n        ],\n        \"semantic_type\": \"\",\n        \"description\": \"\"\n      }\n    },\n    {\n      \"column\": \"date\",\n      \"properties\": {\n        \"dtype\": \"date\",\n        \"min\": \"2016-06-10 21:00:00-02:00\",\n        \"max\": \"2018-07-15 17:00:00-02:00\",\n        \"num_unique_values\": 456,\n        \"samples\": [\n          \"2016-06-21 18:00:00-02:00\"\n        ],\n        \"semantic_type\": \"\",\n        \"description\": \"\"\n      }\n    },\n    {\n      \"column\": \"referees\",\n      \"properties\": {\n        \"dtype\": \"object\",\n        \"semantic_type\": \"\",\n        \"description\": \"\"\n      }\n    },\n    {\n      \"column\": \"duration\",\n      \"properties\": {\n        \"dtype\": \"category\",\n        \"num_unique_values\": 3,\n        \"samples\": [\n          \"Regular\"\n        ],\n        \"semantic_type\": \"\",\n        \"description\": \"\"\n      }\n    },\n    {\n      \"column\": \"competitionId\",\n      \"properties\": {\n        \"dtype\": \"number\",\n        \"std\": 310,\n        \"min\": 28,\n        \"max\": 795,\n        \"num_unique_values\": 3,\n        \"samples\": [\n          795\n        ],\n        \"semantic_type\": \"\",\n        \"description\": \"\"\n      }\n    },\n    {\n      \"column\": \"groupName\",\n      \"properties\": {\n        \"dtype\": \"category\",\n        \"num_unique_values\": 9,\n        \"samples\": [\n          \"Group G\"\n        ],\n        \"semantic_type\": \"\",\n        \"description\": \"\"\n      }\n    }\n  ]\n}"
            }
          },
          "metadata": {},
          "execution_count": 11
        }
      ]
    },
    {
      "cell_type": "code",
      "source": [
        "df_matches.to_hdf('data.h5', key='matches', mode='a')"
      ],
      "metadata": {
        "id": "VAVhvicTZoVE"
      },
      "execution_count": 12,
      "outputs": []
    },
    {
      "cell_type": "markdown",
      "source": [
        "### Events\n",
        "\n",
        "The following cells read the `events.json` files for the selected competitions into a `DataFrame` object and store that object in the `data.h5` H5 file under the key `events/match_<match-id>`."
      ],
      "metadata": {
        "id": "lUfYIk1VZxRu"
      }
    },
    {
      "cell_type": "code",
      "source": [
        "for competition in competitions:\n",
        "    competition_name = competition.replace(' ', '_')\n",
        "    file_events = f'events_{competition_name}.json'\n",
        "    json_events = read_json_file(file_events)\n",
        "    df_events = pd.read_json(json_events)\n",
        "    df_events_matches = df_events.groupby('matchId', as_index=False)\n",
        "    for match_id, df_events_match in df_events_matches:\n",
        "        df_events_match.to_hdf('data.h5', key=f'events/match_{match_id}', mode='a')"
      ],
      "metadata": {
        "id": "-LVfRtTrZsXt"
      },
      "execution_count": 13,
      "outputs": []
    },
    {
      "cell_type": "markdown",
      "source": [
        "## Convert the data to the SPADL representation\n",
        "\n",
        "The following cell calls the `convert_to_spadl` function from the `socceraction` library to convert the `data.h5` HDF5 file into the `spadl.h5` H5 file."
      ],
      "metadata": {
        "id": "SoAvKX3XZ37c"
      }
    },
    {
      "cell_type": "code",
      "source": [
        "convert_to_spadl('data.h5', 'spadl.h5')"
      ],
      "metadata": {
        "id": "n-HNVhOeZ7CH",
        "colab": {
          "base_uri": "https://localhost:8080/"
        },
        "outputId": "c13e7fc5-b1ad-4a43-a794-d9f4afcfd54b"
      },
      "execution_count": null,
      "outputs": [
        {
          "output_type": "stream",
          "name": "stdout",
          "text": [
            "...Inserting actiontypes\n",
            "...Inserting bodyparts\n",
            "...Inserting results\n",
            "...Converting games\n",
            "...Converting players\n",
            "...Converting teams\n",
            "...Generating player_games\n"
          ]
        },
        {
          "output_type": "stream",
          "name": "stderr",
          "text": [
            "100%|██████████| 495/495 [01:04<00:00,  7.69game/s]\n"
          ]
        },
        {
          "output_type": "stream",
          "name": "stdout",
          "text": [
            "...Converting events to actions\n"
          ]
        },
        {
          "output_type": "stream",
          "name": "stderr",
          "text": [
            " 44%|████▍     | 219/495 [03:54<05:01,  1.09s/game]"
          ]
        }
      ]
    },
    {
      "cell_type": "markdown",
      "source": [
        "# Generate features & EDA of the data\n",
        "\n",
        "This includes the following three steps:\n",
        "   1. Investigate the data in SPADL representation.\n",
        "   2. Construct features to represent actions.\n",
        "   3. Construct features to represent game states."
      ],
      "metadata": {
        "id": "TWy7UhFoaMS9"
      }
    },
    {
      "cell_type": "markdown",
      "metadata": {
        "id": "Xiro5r8BNnLI"
      },
      "source": [
        "# Load dataset"
      ]
    },
    {
      "cell_type": "code",
      "execution_count": null,
      "metadata": {
        "id": "2u715LsXNnLJ"
      },
      "outputs": [],
      "source": [
        "df_teams = pd.read_hdf('spadl.h5', key='teams')\n",
        "df_players = pd.read_hdf('spadl.h5', key='players')\n",
        "df_games = pd.read_hdf('spadl.h5', key='games')"
      ]
    },
    {
      "cell_type": "markdown",
      "metadata": {
        "id": "efoIhPKaNnLJ"
      },
      "source": [
        "We add the team names to the df_games dataframe such that we know which two teams played in which match."
      ]
    },
    {
      "cell_type": "code",
      "execution_count": null,
      "metadata": {
        "id": "_FlHzchKNnLJ"
      },
      "outputs": [],
      "source": [
        "team_name_mapping = df_teams.set_index('team_id')['team_name'].to_dict()\n",
        "df_games['home_team_name'] = df_games['home_team_id'].map(team_name_mapping)\n",
        "df_games['away_team_name'] = df_games['away_team_id'].map(team_name_mapping)"
      ]
    },
    {
      "cell_type": "markdown",
      "metadata": {
        "id": "QUMBXGp6NnLJ"
      },
      "source": [
        "# Explore SPADL actions"
      ]
    },
    {
      "cell_type": "markdown",
      "metadata": {
        "id": "Lf7PD4zTNnLK"
      },
      "source": [
        "In this secion we will explore and visualize the data and actions for a selected match."
      ]
    },
    {
      "cell_type": "code",
      "execution_count": null,
      "metadata": {
        "id": "5FB1P3GoNnLK"
      },
      "outputs": [],
      "source": [
        "df_games"
      ]
    },
    {
      "cell_type": "code",
      "execution_count": null,
      "metadata": {
        "id": "but4Vp6YNnLK"
      },
      "outputs": [],
      "source": [
        "df_games[(df_games['home_team_name'] == 'Belgium') &\n",
        "         (df_games['away_team_name'] == 'Japan')]"
      ]
    },
    {
      "cell_type": "markdown",
      "metadata": {
        "id": "hOClK_pFNnLK"
      },
      "source": [
        "**Note:** This notebook expects the data for the World Cup 2018 to be in the SPADL dataset. Make sure that the `game_id` selected in the cell below belongs to a game in your dataset."
      ]
    },
    {
      "cell_type": "code",
      "execution_count": null,
      "metadata": {
        "id": "uy9aCKbmNnLL"
      },
      "outputs": [],
      "source": [
        "# Select a game of choice\n",
        "game_id = 2058007"
      ]
    },
    {
      "cell_type": "markdown",
      "metadata": {
        "id": "s-OkPx-WNnLL"
      },
      "source": [
        "### Load SPADL actions for selected game"
      ]
    },
    {
      "cell_type": "markdown",
      "metadata": {
        "id": "O91phbi5NnLL"
      },
      "source": [
        "For each action, the dataset contains the following information for the action:\n",
        "\n",
        "* game_id: a unique identifier of the game;\n",
        "* team_id: a unique identifier of the team who performed the action;\n",
        "* player_id: a unique identifier of the player who performed the action;\n",
        "* period: 1 for the first half and 2 for the second half;\n",
        "* seconds: the time elapsed in seconds since the start of the half;\n",
        "* type_id: the identifier for the type of action;\n",
        "* type_name: the name for the type of action;\n",
        "* body_part_id: 0 for foot, 1 for head, 2 for other body part;\n",
        "* result: the result of the action: 0 for failure, 1 for success;\n",
        "* start_x: the x coordinate for the location where the action started, ranges from 0 to 105;\n",
        "* start_y: the y coordinate for the location where the action started, ranges from 0 to 68;\n",
        "* end_x: the x coordinate for the location where the action ended, ranges from 0 to 105;\n",
        "* end_y: the y coordinate for the location where the action ended, ranges from 0 to 68.\n",
        "\n",
        "The action types are:\n",
        "\n",
        "    0: pass\n",
        "    1: cross\n",
        "    2: throw in\n",
        "    3: freekick crossed\n",
        "    4: freekick short\n",
        "    5: corner crossed\n",
        "    6: corner short\n",
        "    7: take on\n",
        "    8: foul\n",
        "    9: tackle\n",
        "    10: interception\n",
        "    11: shot\n",
        "    12: shot penalty\n",
        "    13: shot freekick\n",
        "    14: keeper save\n",
        "    18: clearance\n",
        "    21: dribble\n",
        "    22: goalkick"
      ]
    },
    {
      "cell_type": "markdown",
      "metadata": {
        "id": "qOFXlKfmNnLL"
      },
      "source": [
        "We first load the actions for the selected game_id."
      ]
    },
    {
      "cell_type": "code",
      "execution_count": null,
      "metadata": {
        "id": "azy4jWwDNnLL"
      },
      "outputs": [],
      "source": [
        "with pd.HDFStore('spadl.h5') as spadlstore:\n",
        "    df_actions = spadlstore[f'actions/game_{game_id}'] #game_id = 2058007\n",
        "    df_actions = (\n",
        "        df_actions.merge(spadlstore['actiontypes'], how='left')\n",
        "        .merge(spadlstore['results'], how='left')\n",
        "        .merge(spadlstore['bodyparts'], how='left')\n",
        "        .merge(spadlstore['players'], how=\"left\")\n",
        "        .merge(spadlstore['teams'], how='left')\n",
        "        .reset_index()\n",
        "        .rename(columns={'index': 'action_id'})\n",
        "    )"
      ]
    },
    {
      "cell_type": "code",
      "execution_count": null,
      "metadata": {
        "id": "_0eDDSjtNnLM"
      },
      "outputs": [],
      "source": [
        "# Look at first 5 actions of the match\n",
        "df_actions[:5]"
      ]
    },
    {
      "cell_type": "markdown",
      "metadata": {
        "id": "hBLkh6MyNnLM"
      },
      "source": [
        "The following cells define some functions to make it more convenient to explore the actions."
      ]
    },
    {
      "cell_type": "code",
      "execution_count": null,
      "metadata": {
        "id": "Yf8VB9SWNnLM"
      },
      "outputs": [],
      "source": [
        "def nice_time(row):\n",
        "    minute = int((row['period_id']>=2) * 45 + (row['period_id']>=3) * 15 +\n",
        "                 (row['period_id']==4) * 15 + row['time_seconds'] // 60)\n",
        "    second = int(row['time_seconds'] % 60)\n",
        "    return f'{minute}m{second}s'\n",
        "\n",
        "df_actions['nice_time'] = df_actions.apply(nice_time,axis=1)"
      ]
    },
    {
      "cell_type": "code",
      "execution_count": null,
      "metadata": {
        "id": "ZelHR7DoNnLM"
      },
      "outputs": [],
      "source": [
        "def action_name(row):\n",
        "    return f\"{row['action_id']}: {row['nice_time']} - {row['short_name']} {row['type_name']}\"\n",
        "\n",
        "df_actions['action_name'] = df_actions.apply(action_name, axis=1)"
      ]
    },
    {
      "cell_type": "code",
      "execution_count": null,
      "metadata": {
        "id": "Bl4SCd49NnLM"
      },
      "outputs": [],
      "source": [
        "def plot_actions(df_actions_to_plot):\n",
        "    matplotsoccer.actions(\n",
        "        location=df_actions_to_plot[['start_x', 'start_y', 'end_x', 'end_y']],\n",
        "        action_type=df_actions_to_plot['type_name'],\n",
        "        team=df_actions_to_plot['team_name'],\n",
        "        result=df_actions_to_plot['result_name'] == 'success',\n",
        "        label=df_actions_to_plot[['nice_time', 'type_name', 'short_name', 'short_team_name']],\n",
        "        labeltitle=['time', 'actiontype', 'player', 'team'],\n",
        "        zoom=False,\n",
        "        figsize=8)"
      ]
    },
    {
      "cell_type": "code",
      "execution_count": null,
      "metadata": {
        "id": "66JXTRZnNnLN"
      },
      "outputs": [],
      "source": [
        "def plot_actions_from_action_name(df_actions, action_name):\n",
        "    action_id = int(action_name.split(':')[0])\n",
        "    df_actions_to_plot = df_actions[action_id-3: action_id+3]\n",
        "    plot_actions(df_actions_to_plot)"
      ]
    },
    {
      "cell_type": "markdown",
      "metadata": {
        "id": "BTIb0G_sNnLN"
      },
      "source": [
        "The following cell shows a widget which we can use to easily explore the actions in our dataset."
      ]
    },
    {
      "cell_type": "code",
      "execution_count": null,
      "metadata": {
        "id": "KnPnxf28NnLN"
      },
      "outputs": [],
      "source": [
        "interact_manual(plot_actions_from_action_name,\n",
        "                df_actions = fixed(df_actions),\n",
        "                action_name=widgets.Select(\n",
        "                    options = df_actions['action_name'][3:],\n",
        "                    disabled=False)\n",
        "               )\n"
      ]
    },
    {
      "cell_type": "markdown",
      "metadata": {
        "id": "7sPgXiHLNnLN"
      },
      "source": [
        "# Feature Engineering to representing actions during the game"
      ]
    },
    {
      "cell_type": "markdown",
      "metadata": {
        "id": "Rh2sj59mNnLN"
      },
      "source": [
        "This  will create features that describe the action. We will take one action as an example. Every action has several characteristics, these include:\n",
        "* start location\n",
        "* end location\n",
        "* action type\n",
        "* bodypart used\n",
        "* result (successful or not)\n",
        "* time in the match"
      ]
    },
    {
      "cell_type": "code",
      "execution_count": null,
      "metadata": {
        "id": "msNIqcrINnLO"
      },
      "outputs": [],
      "source": [
        "action_id = 145\n",
        "plot_actions(df_actions[action_id:action_id+1])"
      ]
    },
    {
      "cell_type": "code",
      "execution_count": null,
      "metadata": {
        "id": "_oZPrvc9NnLO"
      },
      "outputs": [],
      "source": [
        "df_actions[action_id:action_id+1].T"
      ]
    },
    {
      "cell_type": "markdown",
      "metadata": {
        "id": "Fx7OgA6PNnLO"
      },
      "source": [
        "## Representing locations"
      ]
    },
    {
      "cell_type": "code",
      "execution_count": null,
      "metadata": {
        "id": "EsVXETkPNnLP"
      },
      "outputs": [],
      "source": [
        "PITCH_LENGTH = 105\n",
        "PITCH_WIDTH = 68"
      ]
    },
    {
      "cell_type": "code",
      "execution_count": null,
      "metadata": {
        "id": "dJhwoDNFNnLP"
      },
      "outputs": [],
      "source": [
        "df_actions[action_id:action_id+1][['start_x', 'start_y', 'end_x', 'end_y']]"
      ]
    },
    {
      "cell_type": "markdown",
      "metadata": {
        "id": "4W5FeIq5NnLP"
      },
      "source": [
        "The following cell adds columns to the actions dataframe with the normalized start and end coordinates of the actions."
      ]
    },
    {
      "cell_type": "code",
      "execution_count": null,
      "metadata": {
        "id": "9Mv7yDBENnLV"
      },
      "outputs": [],
      "source": [
        "for side in ['start', 'end']:\n",
        "    # Normalize the X location\n",
        "    key_x = f'{side}_x'\n",
        "    df_actions[f'{key_x}_norm'] = df_actions[key_x] / PITCH_LENGTH\n",
        "\n",
        "    # Normalize the Y location\n",
        "    key_y = f'{side}_y'\n",
        "    df_actions[f'{key_y}_norm'] = df_actions[key_y] / PITCH_WIDTH\n",
        "df_actions[action_id:action_id+1][['start_x_norm', 'start_y_norm', 'end_x_norm', 'end_y_norm']]"
      ]
    },
    {
      "cell_type": "markdown",
      "metadata": {
        "id": "i1MMsNEJNnLW"
      },
      "source": [
        "The following cells compute the polar coordinates of the start and end location of the actions."
      ]
    },
    {
      "cell_type": "code",
      "execution_count": null,
      "metadata": {
        "id": "Fnp6labpNnLW"
      },
      "outputs": [],
      "source": [
        "GOAL_X = PITCH_LENGTH\n",
        "GOAL_Y = PITCH_WIDTH / 2\n",
        "\n",
        "for side in ['start', 'end']:\n",
        "    diff_x = GOAL_X - df_actions[f'{side}_x']\n",
        "    diff_y = abs(GOAL_Y - df_actions[f'{side}_y'])\n",
        "    df_actions[f'{side}_distance_to_goal'] = np.sqrt(diff_x ** 2 + diff_y ** 2)\n",
        "    df_actions[f'{side}_angle_to_goal'] = np.divide(diff_x, diff_y,\n",
        "                                                    out=np.zeros_like(diff_x),\n",
        "                                                    where=(diff_y != 0))\n",
        "\n",
        "df_actions[action_id:action_id+1][['start_distance_to_goal', 'start_angle_to_goal', 'end_distance_to_goal', 'end_angle_to_goal']]"
      ]
    },
    {
      "cell_type": "markdown",
      "metadata": {
        "id": "gQrHMKP_NnLW"
      },
      "source": [
        "We are trying to add some features to the dataset here, the following cell adds a column indicating whether the action starts and/or ends in the opponent penalty box."
      ]
    },
    {
      "cell_type": "code",
      "execution_count": null,
      "metadata": {
        "id": "siEBxvoiNnLX"
      },
      "outputs": [],
      "source": [
        "for side in ['start', 'end']:\n",
        "    df_actions[f'{side}_is_penalty_box'] = ((df_actions[f'{side}_x'] > (PITCH_LENGTH-16.5)) &\n",
        "                                            (df_actions[f'{side}_y'] > (13.85)) &\n",
        "                                            (df_actions[f'{side}_y'] > (PITCH_WIDTH-13.85)))\n",
        "\n",
        "df_actions[action_id:action_id+1][['start_is_penalty_box', 'end_is_penalty_box']]"
      ]
    },
    {
      "cell_type": "markdown",
      "metadata": {
        "id": "6h3XcDR2NnLY"
      },
      "source": [
        "## Representing body part, action type and result"
      ]
    },
    {
      "cell_type": "code",
      "execution_count": null,
      "metadata": {
        "id": "UlXRccULNnLY"
      },
      "outputs": [],
      "source": [
        "pd.get_dummies(df_actions['type_name'])"
      ]
    },
    {
      "cell_type": "code",
      "execution_count": null,
      "metadata": {
        "id": "eMaOqbVbNnLY"
      },
      "outputs": [],
      "source": [
        "def add_action_type_dummies(df_actions):\n",
        "    return df_actions.merge(pd.get_dummies(df_actions['type_name']), how='left',\n",
        "                             left_index=True, right_index=True)"
      ]
    },
    {
      "cell_type": "code",
      "execution_count": null,
      "metadata": {
        "id": "a9kOAt-mNnLZ"
      },
      "outputs": [],
      "source": [
        "df_actions = add_action_type_dummies(df_actions)\n",
        "df_actions[action_id:action_id+1].T"
      ]
    },
    {
      "cell_type": "code",
      "execution_count": null,
      "metadata": {
        "id": "Ppb4V4-ONnLa"
      },
      "outputs": [],
      "source": [
        "df_actions['bodypart_name'].unique()"
      ]
    },
    {
      "cell_type": "code",
      "execution_count": null,
      "metadata": {
        "id": "HoGg9EAMNnLa"
      },
      "outputs": [],
      "source": [
        "df_actions['result_name'].unique()"
      ]
    },
    {
      "cell_type": "code",
      "execution_count": null,
      "metadata": {
        "id": "qFBdN6Q6NnLa"
      },
      "outputs": [],
      "source": [
        "df_actions[action_id:action_id+1][['bodypart_name', 'result_name']]"
      ]
    },
    {
      "cell_type": "markdown",
      "metadata": {
        "id": "pRIWgQnLNnLa"
      },
      "source": [
        "## Determine distance covered in x, y and total time played"
      ]
    },
    {
      "cell_type": "markdown",
      "metadata": {
        "id": "2vdbXhPWNnLb"
      },
      "source": [
        "The following cells define functions that add distance features and the actual time played in the match at the moment of the action."
      ]
    },
    {
      "cell_type": "code",
      "execution_count": null,
      "metadata": {
        "id": "fD9mX9qeNnLb"
      },
      "outputs": [],
      "source": [
        "def add_distance_features(df_actions):\n",
        "    df_actions['diff_x'] = df_actions['end_x'] - df_actions['start_x']\n",
        "    df_actions['diff_y'] = df_actions['end_y'] - df_actions['start_y']\n",
        "    df_actions['distance_covered'] = np.sqrt((df_actions['end_x'] - df_actions['start_x']) ** 2 +\n",
        "                                             (df_actions['end_y'] - df_actions['start_y']) ** 2)"
      ]
    },
    {
      "cell_type": "code",
      "execution_count": null,
      "metadata": {
        "id": "Gb5r3onfNnLb"
      },
      "outputs": [],
      "source": [
        "def add_time_played(df_actions):\n",
        "    df_actions['time_played'] = (df_actions['time_seconds'] +\n",
        "                             (df_actions['period_id'] >= 2) * (45 * 60) +\n",
        "                             (df_actions['period_id'] >= 3) * (15 * 60) +\n",
        "                             (df_actions['period_id'] == 4) * (15 * 60)\n",
        "                             )"
      ]
    },
    {
      "cell_type": "code",
      "execution_count": null,
      "metadata": {
        "id": "iDjBxq_3NnLb"
      },
      "outputs": [],
      "source": [
        "add_distance_features(df_actions)\n",
        "add_time_played(df_actions)"
      ]
    },
    {
      "cell_type": "code",
      "execution_count": null,
      "metadata": {
        "id": "XBkX-DBxNnLb"
      },
      "outputs": [],
      "source": [
        "df_actions[action_id:action_id+1][['diff_x', 'diff_y', 'distance_covered', 'time_played']]"
      ]
    },
    {
      "cell_type": "markdown",
      "metadata": {
        "id": "VNfSkoflNnLc"
      },
      "source": [
        "## Representing actions leading to game state"
      ]
    },
    {
      "cell_type": "markdown",
      "metadata": {
        "id": "jOyNyDunNnLc"
      },
      "source": [
        "The following represents the action and what happened before and after the action was executed."
      ]
    },
    {
      "cell_type": "code",
      "execution_count": null,
      "metadata": {
        "id": "e6dVxqQtNnLc"
      },
      "outputs": [],
      "source": [
        "for i in range(3):\n",
        "    df_actions_to_plot = df_actions[145-i:146]\n",
        "    plot_actions(df_actions_to_plot)"
      ]
    },
    {
      "cell_type": "markdown",
      "metadata": {
        "id": "LXGldxNMNnLd"
      },
      "source": [
        "The following cells add extra columns for each action on the x actions before the action itself."
      ]
    },
    {
      "cell_type": "code",
      "execution_count": null,
      "metadata": {
        "id": "DBYl7-RJNnLd"
      },
      "outputs": [],
      "source": [
        "delays = 3  # you can play around with this number\n",
        "features_to_delay = ['game_id', 'period_id', 'time_seconds', 'team_id',\n",
        "                     'player_id', 'start_x', 'start_y', 'end_x', 'end_y', 'bodypart_id',\n",
        "                     'type_id', 'result_id', 'type_name', 'result_name', 'bodypart_name',\n",
        "                     'time_played']"
      ]
    },
    {
      "cell_type": "code",
      "execution_count": null,
      "metadata": {
        "id": "5pgYFVpFNnLd"
      },
      "outputs": [],
      "source": [
        "def create_delayed_features(df_actions, features_to_delay, delays):\n",
        "    df_delays = [df_actions[features_to_delay].shift(step).add_suffix(f'-{step}') for step in range(0, delays)]\n",
        "    return pd.concat(df_delays, axis=1)"
      ]
    },
    {
      "cell_type": "code",
      "execution_count": null,
      "metadata": {
        "id": "BmuT-r7SNnLd"
      },
      "outputs": [],
      "source": [
        "df_features = create_delayed_features(df_actions, features_to_delay, delays)\n",
        "location_cols = [f'{side}_{xy}-{delay}' for delay in reversed(range(0, delays))\n",
        "                 for xy in ['x', 'y'] for side in ['start', 'end']]\n",
        "df_features[action_id:action_id+1][location_cols]"
      ]
    },
    {
      "cell_type": "code",
      "execution_count": null,
      "metadata": {
        "id": "fafF9XnINnLe"
      },
      "outputs": [],
      "source": [
        "cols = [f'{col}-{delay}' for delay in reversed(range(0, delays))\n",
        "        for col in ['period_id', 'time_seconds', 'type_name', 'bodypart_name', 'result_name']]\n",
        "df_features[action_id:action_id+1][cols]"
      ]
    },
    {
      "cell_type": "markdown",
      "metadata": {
        "id": "JNHR9jXDNnLe"
      },
      "source": [
        "We need to invert the coordinates for the actions made by the other team to make sure all features represent the same thing. Therefore we add an indicator for the delayed actions to indicate whether the action was executed by the same team or not. If not then we need to invert the coordinates as the coordinates normally always go from left to right for the team in possession."
      ]
    },
    {
      "cell_type": "code",
      "execution_count": null,
      "metadata": {
        "id": "zV7CEocLNnLe"
      },
      "outputs": [],
      "source": [
        "def add_same_team(df_features, delays):\n",
        "    for step in range(1, delays):\n",
        "        df_features[f'team-{step}'] = df_features['team_id-0'] == df_features[f'team_id-{step}']"
      ]
    },
    {
      "cell_type": "code",
      "execution_count": null,
      "metadata": {
        "id": "mmENpjCBNnLf"
      },
      "outputs": [],
      "source": [
        "add_same_team(df_features, delays)"
      ]
    },
    {
      "cell_type": "code",
      "execution_count": null,
      "metadata": {
        "id": "YFF6FWkiNnLf"
      },
      "outputs": [],
      "source": [
        "def invert_coordinates(df_features, delays):\n",
        "    for step in range(1, delays):\n",
        "        for side in ['start', 'end']:\n",
        "            df_features.loc[~(df_features[f'team-{step}']), f'{side}_x-{step}'] = PITCH_LENGTH - df_features[f'{side}_x-{step}']\n",
        "            df_features.loc[~(df_features[f'team-{step}']), f'{side}_y-{step}'] = PITCH_WIDTH - df_features[f'{side}_y-{step}']\n",
        "\n",
        "df_features[location_cols+['team-1', 'team-2']].tail(10)"
      ]
    },
    {
      "cell_type": "code",
      "execution_count": null,
      "metadata": {
        "id": "0_CyAhBBNnLh"
      },
      "outputs": [],
      "source": [
        "invert_coordinates(df_features, delays)\n",
        "df_features[location_cols+['team-1', 'team-2']].tail(10)"
      ]
    },
    {
      "cell_type": "markdown",
      "metadata": {
        "id": "jGxpihU5NnLh"
      },
      "source": [
        "The following cells add the location featues for all actions and their delayed actions using the right coordinates."
      ]
    },
    {
      "cell_type": "code",
      "execution_count": null,
      "metadata": {
        "id": "MAto8EQINnLi"
      },
      "outputs": [],
      "source": [
        "def add_location_features(df_features, delays):\n",
        "    for step in range(0, delays):\n",
        "        for side in ['start', 'end']:\n",
        "            # Normalize the X location\n",
        "            key_x = f'{side}_x'\n",
        "            df_features[f'{key_x}_norm-{step}'] = df_features[f'{key_x}-{step}'] / PITCH_LENGTH\n",
        "\n",
        "            # Normalize the Y location\n",
        "            key_y = f'{side}_y'\n",
        "            df_features[f'{key_y}_norm-{step}'] = df_features[f'{key_y}-{step}'] / PITCH_WIDTH\n",
        "\n",
        "            diff_x = GOAL_X - df_features[f'{side}_x-{step}']\n",
        "            diff_y = abs(GOAL_Y - df_features[f'{side}_y-{step}'])\n",
        "            df_features[f'{side}_distance_to_goal-{step}'] = np.sqrt(diff_x ** 2 + diff_y ** 2)\n",
        "            df_features[f'{side}_angle_to_goal-{step}'] = np.divide(diff_x, diff_y, out=np.zeros_like(diff_x), where=(diff_y != 0))\n",
        "\n",
        "            df_features[f'diff_x-{step}'] = df_features[f'end_x-{step}'] - df_features[f'start_x-{step}']\n",
        "            df_features[f'diff_y-{step}'] = df_features[f'end_y-{step}'] - df_features[f'start_y-{step}']\n",
        "            df_features[f'distance_covered-{step}'] = np.sqrt((df_features[f'end_x-{step}'] - df_features[f'start_x-{step}']) ** 2 +\n",
        "                                             (df_features[f'end_y-{step}'] - df_features[f'start_y-{step}']) ** 2)"
      ]
    },
    {
      "cell_type": "code",
      "execution_count": null,
      "metadata": {
        "id": "P9jYfdQmNnLi"
      },
      "outputs": [],
      "source": [
        "add_location_features(df_features, delays)\n",
        "df_features.head()"
      ]
    },
    {
      "cell_type": "markdown",
      "metadata": {
        "id": "goZ0_qBKNnLj"
      },
      "source": [
        "The following cells add more features on the sequence. The distance covered in x and y direction as well as the time passed in the action are added to the dataframe. These features tells the model about the speed of play, whether the game quickly progressed from one side to another or whether it is a slow build up play."
      ]
    },
    {
      "cell_type": "code",
      "execution_count": null,
      "metadata": {
        "id": "Wb9ay2F3NnLj"
      },
      "outputs": [],
      "source": [
        "def add_sequence_pre_features(df_features, delays):\n",
        "    delay = delays - 1\n",
        "    df_features['xdiff_sequence_pre'] = df_features['start_x-0'] - df_features[f'start_x-{delay}']\n",
        "    df_features['ydiff_sequence_pre'] = df_features['start_y-0'] - df_features[f'start_y-{delay}']\n",
        "    df_features['time_sequence_pre'] = df_features['time_played-0'] - df_features[f'time_played-{delay}']"
      ]
    },
    {
      "cell_type": "code",
      "execution_count": null,
      "metadata": {
        "id": "JXjuTo7uNnLj"
      },
      "outputs": [],
      "source": [
        "add_sequence_pre_features(df_features, delays)"
      ]
    },
    {
      "cell_type": "code",
      "execution_count": null,
      "metadata": {
        "id": "Md8tShAbNnLj"
      },
      "outputs": [],
      "source": [
        "def add_sequence_post_features(df_features, delays):\n",
        "    delay = delays - 1\n",
        "    df_features['xdiff_sequence_post'] = df_features['end_x-0'] - df_features[f'start_x-{delay}']\n",
        "    df_features['ydiff_sequence_post'] = df_features['end_y-0'] - df_features[f'start_y-{delay}']\n",
        "\n",
        "add_sequence_post_features(df_features, delays)"
      ]
    },
    {
      "cell_type": "code",
      "execution_count": null,
      "metadata": {
        "id": "Zf4L8Af2NnLj"
      },
      "outputs": [],
      "source": [
        "df_features[action_id:action_id+1]"
      ]
    },
    {
      "cell_type": "markdown",
      "metadata": {
        "id": "CIAuoQh2NnLk"
      },
      "source": [
        "# Generate features for a match"
      ]
    },
    {
      "cell_type": "code",
      "execution_count": null,
      "metadata": {
        "id": "r8-ACUsfNnLk"
      },
      "outputs": [],
      "source": [
        "# The following cell defines a function that creates all features as calculated above for a dataframe of actions for a given match.\n",
        "\n",
        "def create_features_match(df_actions, features_to_delay, delays):\n",
        "    df_action_features = add_action_type_dummies(df_actions)\n",
        "    add_time_played(df_action_features)\n",
        "    df_gamestate_features = create_delayed_features(df_action_features, features_to_delay, delays)\n",
        "    add_same_team(df_gamestate_features, delays)\n",
        "    invert_coordinates(df_gamestate_features, delays)\n",
        "    add_location_features(df_gamestate_features, delays)\n",
        "    add_sequence_pre_features(df_gamestate_features, delays)\n",
        "    add_sequence_post_features(df_gamestate_features, delays)\n",
        "    return df_gamestate_features"
      ]
    },
    {
      "cell_type": "markdown",
      "metadata": {
        "id": "jXHscGfbNnLk"
      },
      "source": [
        "# Generate labels for a match"
      ]
    },
    {
      "cell_type": "markdown",
      "metadata": {
        "id": "zFrhXxXQNnLk"
      },
      "source": [
        "The following cells define two functions that compute the labels of our two machine learning tasks. The first one tells us whether a goal was scored within x actions, whereas the second function tells us whether a goal was conceded within the next x actions."
      ]
    },
    {
      "cell_type": "code",
      "execution_count": null,
      "metadata": {
        "id": "_roa90qaNnLl"
      },
      "outputs": [],
      "source": [
        "def label_scores(df_actions, nr_actions):\n",
        "    \"\"\"\n",
        "    This functiondf_actions determines whether a goal was scored by the team possessing\n",
        "    the ball within the next x actions\n",
        "    \"\"\"\n",
        "    # merging goals, owngoals and team_ids\n",
        "\n",
        "    goals = df_actions['type_name'].str.contains('shot') & (\n",
        "        df_actions['result_id'] == 1\n",
        "    )\n",
        "    owngoals = df_actions['type_name'].str.contains('shot') & (\n",
        "        df_actions['result_id'] == 2\n",
        "    )\n",
        "    y = pd.concat([goals, owngoals, df_actions['team_id']], axis=1)\n",
        "    y.columns = ['goal', 'owngoal', 'team_id']\n",
        "\n",
        "    # adding future results\n",
        "    for i in range(1, nr_actions):\n",
        "        for col in ['team_id', 'goal', 'owngoal']:\n",
        "            shifted = y[col].shift(-i)\n",
        "            shifted[-i:] = y[col][len(y) - 1]\n",
        "            y[f'{col}+{i}'] = shifted\n",
        "\n",
        "    scores = y['goal']\n",
        "    for i in range(1, nr_actions):\n",
        "        goal_scored = y[f'goal+{i}'] & (y[f'team_id+{i}'] == y['team_id'])\n",
        "        own_goal_opponent = y[f'owngoal+{i}'] & (y[f'team_id+{i}'] != y['team_id'])\n",
        "        scores = scores | goal_scored | own_goal_opponent\n",
        "\n",
        "    return pd.DataFrame(scores, columns=['scores'])"
      ]
    },
    {
      "cell_type": "code",
      "execution_count": null,
      "metadata": {
        "id": "CB9YOVTDNnLl"
      },
      "outputs": [],
      "source": [
        "def label_concedes(df_actions, nr_actions):\n",
        "    \"\"\"\n",
        "    This function determines whether a goal was scored by the team not\n",
        "    possessing the ball within the next x actions\n",
        "    \"\"\"\n",
        "    # merging goals,owngoals and team_ids\n",
        "    goals = df_actions['type_name'].str.contains('shot') & (\n",
        "        df_actions['result_id'] == 1\n",
        "    )\n",
        "    owngoals = df_actions['type_name'].str.contains('shot') & (\n",
        "        df_actions['result_id'] == 2\n",
        "    )\n",
        "    y = pd.concat([goals, owngoals, df_actions['team_id']], axis=1)\n",
        "    y.columns = ['goal', 'owngoal', 'team_id']\n",
        "\n",
        "    # adding future results\n",
        "    for i in range(1, nr_actions):\n",
        "        for col in ['team_id', 'goal', 'owngoal']:\n",
        "            shifted = y[col].shift(-i)\n",
        "            shifted[-i:] = y[col][len(y) - 1]\n",
        "            y[f'{col}+{i}'] = shifted\n",
        "\n",
        "    concedes = y['owngoal']\n",
        "    for i in range(1, nr_actions):\n",
        "        goal_opponent = y[f'goal+{i}'] & (y[f'team_id+{i}'] != y['team_id'])\n",
        "        own_goal_team = y[f'owngoal+{i}'] & (y[f'team_id+{i}'] == y['team_id'])\n",
        "        concedes = concedes | goal_opponent | own_goal_team\n",
        "\n",
        "    return pd.DataFrame(concedes, columns=['concedes'])"
      ]
    },
    {
      "cell_type": "markdown",
      "metadata": {
        "id": "LgtoU93NNnLl"
      },
      "source": [
        "We compute the labels for the match and investigate the labels for the last ten actions in the match."
      ]
    },
    {
      "cell_type": "code",
      "execution_count": null,
      "metadata": {
        "id": "4PDnOFZJNnLl"
      },
      "outputs": [],
      "source": [
        "df_labels = pd.concat([label_scores(df_actions, nr_actions=10),\n",
        "                           label_concedes(df_actions, nr_actions=10)],\n",
        "                          axis=1)\n",
        "\n",
        "df_labels.tail(10)"
      ]
    },
    {
      "cell_type": "markdown",
      "metadata": {
        "id": "_meIjlPgNnLm"
      },
      "source": [
        "# Save features and labels for all matches"
      ]
    },
    {
      "cell_type": "markdown",
      "metadata": {
        "id": "YSf_E-sJNnLm"
      },
      "source": [
        "The following cells generate and store the features and labels for all matches in spadl.h5 file."
      ]
    },
    {
      "cell_type": "code",
      "execution_count": null,
      "metadata": {
        "id": "gZtGnCHzNnLn"
      },
      "outputs": [],
      "source": [
        "df_games = pd.read_hdf('spadl.h5', key='games')"
      ]
    },
    {
      "cell_type": "code",
      "execution_count": null,
      "metadata": {
        "id": "fvrpFAZ7NnLn"
      },
      "outputs": [],
      "source": [
        "df_games.head()"
      ]
    },
    {
      "cell_type": "code",
      "execution_count": null,
      "metadata": {
        "id": "6PZ32D8eNnLn"
      },
      "outputs": [],
      "source": [
        "for _, game in tqdm(df_games.iterrows(), total=len(df_games)):\n",
        "    game_id = game['game_id']\n",
        "    with pd.HDFStore('spadl.h5') as spadlstore:\n",
        "        df_actions = spadlstore[f'actions/game_{game_id}']\n",
        "        df_actions = (\n",
        "            df_actions.merge(spadlstore['actiontypes'], how='left')\n",
        "            .merge(spadlstore['results'], how='left')\n",
        "            .merge(spadlstore['bodyparts'], how='left')\n",
        "            .reset_index(drop=True)\n",
        "        )\n",
        "\n",
        "    df_features = create_features_match(df_actions, features_to_delay, delays)\n",
        "    df_features.to_hdf('features.h5', f'game_{game_id}')\n",
        "\n",
        "    df_labels = pd.concat([label_scores(df_actions, nr_actions=10),\n",
        "                           label_concedes(df_actions, nr_actions=10)],\n",
        "                          axis=1)\n",
        "    df_labels.to_hdf('labels.h5', f'game_{game_id}')"
      ]
    },
    {
      "cell_type": "markdown",
      "source": [
        "# Training ML Model"
      ],
      "metadata": {
        "id": "XXqB_5iIa-wW"
      }
    },
    {
      "cell_type": "code",
      "source": [
        "df_games = pd.read_hdf('spadl.h5', key='games')\n",
        "df_games.tail(10)"
      ],
      "metadata": {
        "id": "LAzzukdfbH03"
      },
      "execution_count": null,
      "outputs": []
    },
    {
      "cell_type": "code",
      "source": [
        "dfs_features = []\n",
        "for _, game in tqdm(df_games.iterrows(), total=len(df_games)):\n",
        "    game_id = game['game_id']\n",
        "    df_features = pd.read_hdf('features.h5', key=f'game_{game_id}')\n",
        "    df_features['game_id'] = game_id\n",
        "    dfs_features.append(df_features)\n",
        "df_features = pd.concat(dfs_features).reset_index(drop=True)"
      ],
      "metadata": {
        "id": "wh-YEFmQbPPD"
      },
      "execution_count": null,
      "outputs": []
    },
    {
      "cell_type": "code",
      "source": [
        "df_features.tail(10)"
      ],
      "metadata": {
        "id": "63q-2V37bQ-P"
      },
      "execution_count": null,
      "outputs": []
    },
    {
      "cell_type": "code",
      "source": [
        "dfs_labels = []\n",
        "for _, game in tqdm(df_games.iterrows(), total=len(df_games)):\n",
        "    game_id = game['game_id']\n",
        "    df_labels = pd.read_hdf('labels.h5', key=f'game_{game_id}')\n",
        "    df_labels['game_id'] = game_id\n",
        "    dfs_labels.append(df_labels)\n",
        "df_labels = pd.concat(dfs_labels).reset_index(drop=True)"
      ],
      "metadata": {
        "id": "-C8tQS8fbTL0"
      },
      "execution_count": null,
      "outputs": []
    },
    {
      "cell_type": "code",
      "source": [
        "df_labels.tail(10)"
      ],
      "metadata": {
        "id": "ojxQ9TPKbVQD"
      },
      "execution_count": null,
      "outputs": []
    },
    {
      "cell_type": "markdown",
      "source": [
        "# Split dataset"
      ],
      "metadata": {
        "id": "LarWVeqZbgXO"
      }
    },
    {
      "cell_type": "code",
      "source": [
        "!pip install scikit-plot"
      ],
      "metadata": {
        "id": "1WMMWTEocC6Z"
      },
      "execution_count": null,
      "outputs": []
    },
    {
      "cell_type": "code",
      "source": [
        "import warnings\n",
        "\n",
        "import matplotlib.pyplot as plt\n",
        "import numpy as np\n",
        "import pandas as pd\n",
        "from scikitplot.metrics import plot_calibration_curve\n",
        "from sklearn.calibration import CalibratedClassifierCV\n",
        "from sklearn.metrics import brier_score_loss, roc_auc_score\n",
        "from sklearn.model_selection import GridSearchCV\n",
        "from sklearn.model_selection import train_test_split\n",
        "from tqdm.notebook import tqdm\n",
        "from xgboost import XGBClassifier"
      ],
      "metadata": {
        "id": "Xld6ji9Db8Z6"
      },
      "execution_count": null,
      "outputs": []
    },
    {
      "cell_type": "code",
      "source": [
        "df_X_train, df_X_test, df_y_train, df_y_test = train_test_split(\n",
        "    df_features,\n",
        "    df_labels,\n",
        "    test_size=0.10,\n",
        "    random_state=42,\n",
        "    stratify=df_labels['scores'].astype(str) + '_' + df_labels['concedes'].astype(str)\n",
        ")"
      ],
      "metadata": {
        "id": "8j5S5H5RbYBc"
      },
      "execution_count": null,
      "outputs": []
    },
    {
      "cell_type": "markdown",
      "source": [
        "Finding mean values of features"
      ],
      "metadata": {
        "id": "aIxGIPrNiqzu"
      }
    },
    {
      "cell_type": "code",
      "source": [
        "df_y_train['scores'].mean()"
      ],
      "metadata": {
        "id": "g6bstGW8blxA"
      },
      "execution_count": null,
      "outputs": []
    },
    {
      "cell_type": "code",
      "source": [
        "df_y_test['scores'].mean()"
      ],
      "metadata": {
        "id": "ryfn10BZbwWY"
      },
      "execution_count": null,
      "outputs": []
    },
    {
      "cell_type": "code",
      "source": [
        "df_y_train['concedes'].mean()"
      ],
      "metadata": {
        "id": "Wkrnxh-YbxR7"
      },
      "execution_count": null,
      "outputs": []
    },
    {
      "cell_type": "code",
      "source": [
        "df_y_test['concedes'].mean()"
      ],
      "metadata": {
        "id": "tZj20oV4bzpZ"
      },
      "execution_count": null,
      "outputs": []
    },
    {
      "cell_type": "markdown",
      "source": [
        "# Baseline classifiers\n",
        "\n",
        "The following cell provides a list of features that the machine learning algorithm will consider to train the model."
      ],
      "metadata": {
        "id": "6Iuy-bMscNav"
      }
    },
    {
      "cell_type": "code",
      "source": [
        "features = [\n",
        "    'start_distance_to_goal-0',\n",
        "    'end_distance_to_goal-0',\n",
        "    'start_distance_to_goal-1',\n",
        "    'end_distance_to_goal-1',\n",
        "    'start_distance_to_goal-2',\n",
        "    'end_distance_to_goal-2',\n",
        "    'start_angle_to_goal-0',\n",
        "    'end_angle_to_goal-0',\n",
        "    'start_angle_to_goal-1',\n",
        "    'end_angle_to_goal-1',\n",
        "    'start_angle_to_goal-2',\n",
        "    'end_angle_to_goal-2',\n",
        "    'team-1',\n",
        "    'team-2'\n",
        "]"
      ],
      "metadata": {
        "id": "A9Qt8_7Ob1Us"
      },
      "execution_count": null,
      "outputs": []
    },
    {
      "cell_type": "markdown",
      "source": [
        "The following cell provides a list of class labels for which the machine learning algorithm will train a model."
      ],
      "metadata": {
        "id": "f43qJKoFcSHz"
      }
    },
    {
      "cell_type": "code",
      "source": [
        "labels = [\n",
        "    'scores',\n",
        "     'concedes'\n",
        "]"
      ],
      "metadata": {
        "id": "MvorcWTCcTBu"
      },
      "execution_count": null,
      "outputs": []
    },
    {
      "cell_type": "markdown",
      "source": [
        "## Train classifiers"
      ],
      "metadata": {
        "id": "rlyITzfecVxU"
      }
    },
    {
      "cell_type": "markdown",
      "source": [
        "### XGBoost Classifier"
      ],
      "metadata": {
        "id": "e_JpgdsF2ACD"
      }
    },
    {
      "cell_type": "code",
      "source": [
        "!pip install xgboost\n",
        "import xgboost"
      ],
      "metadata": {
        "id": "reoyD2Xhc8iF"
      },
      "execution_count": null,
      "outputs": []
    },
    {
      "cell_type": "code",
      "source": [
        "%%time\n",
        "models = {}\n",
        "for label in tqdm(labels):\n",
        "    model = XGBClassifier(\n",
        "        eval_metric='logloss',\n",
        "        use_label_encoder=False,\n",
        "        n_estimators=10,\n",
        "        max_depth=3\n",
        "    )\n",
        "    model.fit(\n",
        "        X=df_X_train[features],\n",
        "        y=df_y_train[label]\n",
        "    )\n",
        "    models[label] = model"
      ],
      "metadata": {
        "id": "_LeJi5aOcZ3w"
      },
      "execution_count": null,
      "outputs": []
    },
    {
      "cell_type": "code",
      "source": [
        "from sklearn.metrics import accuracy_score\n",
        "y_pred_poly = model.predict(df_X_test[features])\n",
        "accuracy_XGB = accuracy_score(df_y_test[label], y_pred_poly)\n",
        "print(f\"XGBoost Accuracy: {accuracy_XGB:.2f}\")"
      ],
      "metadata": {
        "id": "nUo1l2HW0xsq"
      },
      "execution_count": null,
      "outputs": []
    },
    {
      "cell_type": "markdown",
      "source": [
        "### Random Forest Classifier"
      ],
      "metadata": {
        "id": "jr6rwRUP0Xd1"
      }
    },
    {
      "cell_type": "code",
      "source": [
        "'''from sklearn.ensemble import RandomForestClassifier\n",
        "from sklearn.datasets import make_classification\n",
        "from sklearn.metrics import classification_report, accuracy_score\n",
        "\n",
        "df_X_train[features] = df_X_train[features].fillna(0)\n",
        "df_X_test[features] = df_X_test[features].fillna(0)\n",
        "\n",
        "clf = RandomForestClassifier(max_depth=2, random_state=0)\n",
        "clf.fit(df_X_train[features], df_y_train[label])\n",
        "y_pred_poly = clf.predict(df_X_test[features])\n",
        "accuracy_rf = (accuracy_score(df_y_test[label], y_pred_poly))\n",
        "print(f\"RandomForest Accuracy: {accuracy_rf:.2f}-\")'''"
      ],
      "metadata": {
        "id": "089YYlHhuIqX",
        "collapsed": true
      },
      "execution_count": null,
      "outputs": []
    },
    {
      "cell_type": "markdown",
      "source": [
        "### Polynomial Classifier"
      ],
      "metadata": {
        "id": "rpe6ivZd0QJW"
      }
    },
    {
      "cell_type": "code",
      "source": [
        "'''from sklearn.naive_bayes import MultinomialNB\n",
        "from sklearn.preprocessing import PolynomialFeatures\n",
        "from sklearn.metrics import accuracy_score\n",
        "\n",
        "poly = PolynomialFeatures(degree=2)\n",
        "\n",
        "clf = MultinomialNB()\n",
        "clf.fit(df_X_train[features], df_y_train[label])\n",
        "y_pred_poly = clf.predict(df_X_test[features])\n",
        "accuracy_scoreMNB = accuracy_score(df_y_test[label], y_pred_poly)\n",
        "print(f\"Polynomial NB Accuracy: {accuracy_scoreMNB:.2f}\")'''"
      ],
      "metadata": {
        "id": "Qpk6wC6WzE9E"
      },
      "execution_count": null,
      "outputs": []
    },
    {
      "cell_type": "markdown",
      "source": [
        "### Bagging Classifier"
      ],
      "metadata": {
        "id": "g7q2-Mt30M3z"
      }
    },
    {
      "cell_type": "code",
      "source": [
        "'''from sklearn.tree import DecisionTreeClassifier\n",
        "from sklearn.ensemble import BaggingClassifier\n",
        "from sklearn.metrics import classification_report, accuracy_score\n",
        "\n",
        "clf = DecisionTreeClassifier(random_state=42)\n",
        "bagging_clf = BaggingClassifier(base_estimator=clf, n_estimators=10, random_state=42)\n",
        "bagging_clf.fit(df_X_train[features], df_y_train[label])\n",
        "y_pred = bagging_clf.predict(df_X_test[features])\n",
        "\n",
        "accuracy_scorebt = accuracy_score(df_y_test[label], y_pred_poly)\n",
        "print(f\"Bagging classifier: {accuracy_scorebt:.2f}\")'''"
      ],
      "metadata": {
        "id": "IKo8mnVrzxei"
      },
      "execution_count": null,
      "outputs": []
    },
    {
      "cell_type": "code",
      "source": [
        "'''import matplotlib.pyplot as plt\n",
        "import numpy as np\n",
        "\n",
        "# Create data\n",
        "labels = ['XGBoost', 'Random Forest', 'Polynomial NB', 'Bagging']\n",
        "accuracy = [accuracy_XGB, accuracy_rf, accuracy_scoreMNB, accuracy_scorebt]\n",
        "\n",
        "x = np.arange(len(labels))  # the label locations\n",
        "width = 0.35  # the width of the bars\n",
        "\n",
        "fig, ax = plt.subplots()\n",
        "rects1 = ax.bar(x - width/2, accuracy, width, label='Accuracy')\n",
        "\n",
        "# Add x-axis labels\n",
        "ax.set_xticks(x)\n",
        "ax.set_xticklabels(labels)\n",
        "# Add labels, title, and grid\n",
        "ax.set_ylabel('Accuracy')\n",
        "ax.set_title('Accuracy Comparison of Different Classifiers')\n",
        "ax.legend()\n",
        "plt.tight_layout()\n",
        "plt.show()'''"
      ],
      "metadata": {
        "id": "FbuHB0jH2w2Q"
      },
      "execution_count": null,
      "outputs": []
    },
    {
      "cell_type": "markdown",
      "source": [
        "## Estimate probabilities\n",
        "\n",
        "The following cell estimates the probabilities for each label using the trained *baseline* models."
      ],
      "metadata": {
        "id": "zmSBxEJVcejJ"
      }
    },
    {
      "cell_type": "code",
      "source": [
        "dfs_predictions = {}\n",
        "for label in tqdm(labels):\n",
        "    model = models[label]\n",
        "    probabilities = model.predict_proba(\n",
        "        df_X_test[features]\n",
        "    )\n",
        "    predictions = probabilities[:, 1]\n",
        "    dfs_predictions[label] = pd.Series(predictions, index=df_X_test.index)\n",
        "df_predictions = pd.concat(dfs_predictions, axis=1)"
      ],
      "metadata": {
        "id": "dT-Pj7_McinL"
      },
      "execution_count": null,
      "outputs": []
    },
    {
      "cell_type": "code",
      "source": [
        "df_predictions.head(10)"
      ],
      "metadata": {
        "id": "rpvHKUnecdWc"
      },
      "execution_count": null,
      "outputs": []
    },
    {
      "cell_type": "markdown",
      "source": [
        "## Evaluate probabilities"
      ],
      "metadata": {
        "id": "KzGlQdybcoHW"
      }
    },
    {
      "cell_type": "markdown",
      "source": [
        "### Compute base rate probabilities"
      ],
      "metadata": {
        "id": "N8M3XztUco7l"
      }
    },
    {
      "cell_type": "markdown",
      "source": [
        "The following cell computes the *base rate* or *prior probability* of each class label in the training set. We use the *base rate* as a naive estimate for each example in the test set being true to establish a baseline for the evaluation metrics."
      ],
      "metadata": {
        "id": "pYS7C1ltcq4m"
      }
    },
    {
      "cell_type": "code",
      "source": [
        "df_base_rates = pd.DataFrame({\n",
        "    label:np.full(len(df_y_test[label]), df_y_train[label].mean()) for label in labels\n",
        "})\n",
        "df_base_rates.head(10)"
      ],
      "metadata": {
        "id": "-kaEtt94ctND"
      },
      "execution_count": null,
      "outputs": []
    },
    {
      "cell_type": "markdown",
      "source": [
        "### Compute Brier score loss for goal scored model\n",
        "\n",
        "The Brier Score is a strictly proper score function or strictly proper scoring rule that measures the accuracy of probabilistic predictions. The lesser the better for this metrics. It is only metrics which specifically suits our needs\n"
      ],
      "metadata": {
        "id": "6ezvd24Ucxms"
      }
    },
    {
      "cell_type": "markdown",
      "source": [
        "The following cell computes the Brier loss score for the base rate predictions."
      ],
      "metadata": {
        "id": "N8zuOPmCcypV"
      }
    },
    {
      "cell_type": "code",
      "source": [
        "brier_score_loss(\n",
        "    y_true=df_y_test['scores'],\n",
        "    y_prob=df_base_rates['scores']\n",
        ")"
      ],
      "metadata": {
        "id": "SP6WyA56c0oz"
      },
      "execution_count": null,
      "outputs": []
    },
    {
      "cell_type": "markdown",
      "source": [
        "The following cell computes the [Brier loss score](https://en.wikipedia.org/wiki/Brier_score) for the predictions by the learned model."
      ],
      "metadata": {
        "id": "0rU3bqgGc5h5"
      }
    },
    {
      "cell_type": "code",
      "source": [
        "brier_score_loss(\n",
        "    y_true=df_y_test['scores'],\n",
        "    y_prob=df_predictions['scores']\n",
        ")"
      ],
      "metadata": {
        "id": "nYkmcTtkc3s_"
      },
      "execution_count": null,
      "outputs": []
    },
    {
      "cell_type": "markdown",
      "source": [
        "# Optimize classifiers"
      ],
      "metadata": {
        "id": "_YTYRFkCdoQF"
      }
    },
    {
      "cell_type": "markdown",
      "source": [
        "In order to train *accurate* models, we perform a *grid search* over different combinations of parameter values for the most important hyperparameters for the learning algorithm. We will focus on the number of estimators and the maximum depth of the decision trees although more hyperparameters influence the performance of the trained models. The more combinations of parameter values need to be explored, the longer the *grid search* will take.\n"
      ],
      "metadata": {
        "id": "2noVhV2LdnLs"
      }
    },
    {
      "cell_type": "markdown",
      "source": [
        "## Train classifiers"
      ],
      "metadata": {
        "id": "xmQMUqXJdrk8"
      }
    },
    {
      "cell_type": "markdown",
      "source": [
        "The following cell trains an XGBoost classifier for each label by trying different combinations of hyperparameters."
      ],
      "metadata": {
        "id": "45RtYkRkdsP7"
      }
    },
    {
      "cell_type": "code",
      "source": [
        "%%time\n",
        "models_cv = {}\n",
        "for label in tqdm(labels):\n",
        "    model = GridSearchCV(\n",
        "        estimator=XGBClassifier(\n",
        "            eval_metric='logloss',\n",
        "            use_label_encoder=False,\n",
        "        ),\n",
        "        param_grid={\n",
        "            'n_estimators': [50, 100],\n",
        "            'max_depth': [3, 4]\n",
        "        },\n",
        "        scoring='neg_brier_score',\n",
        "        refit=True,  # train final model on full training set using best hyperparameters\n",
        "        verbose=10,\n",
        "        n_jobs=1\n",
        "    )\n",
        "    model.fit(\n",
        "        X=df_X_train[features],\n",
        "        y=df_y_train[label]\n",
        "    )\n",
        "    models_cv[label] = model"
      ],
      "metadata": {
        "id": "0_uBaftldt_5"
      },
      "execution_count": null,
      "outputs": []
    },
    {
      "cell_type": "markdown",
      "source": [
        "## Estimate probabilities"
      ],
      "metadata": {
        "id": "QcFdFzxGd0Ki"
      }
    },
    {
      "cell_type": "code",
      "source": [
        "dfs_predictions_cv = {}\n",
        "for label in tqdm(labels):\n",
        "    model = models_cv[label]\n",
        "    probabilities = model.predict_proba(\n",
        "        df_X_test[features]\n",
        "    )\n",
        "    predictions = probabilities[:, 1]\n",
        "    dfs_predictions_cv[label] = pd.Series(predictions, index=df_X_test.index)\n",
        "df_predictions_cv = pd.concat(dfs_predictions, axis=1)"
      ],
      "metadata": {
        "id": "t_0b5H8idxPv"
      },
      "execution_count": null,
      "outputs": []
    },
    {
      "cell_type": "markdown",
      "source": [
        "## Evaluate probabilities\n",
        "\n",
        "### Compute Brier score loss for goal scored model\n"
      ],
      "metadata": {
        "id": "KRFyO8rCd5LH"
      }
    },
    {
      "cell_type": "markdown",
      "source": [
        "The following cell computes the Brier loss score for the base rate predictions."
      ],
      "metadata": {
        "id": "1z1VWaaSd7nw"
      }
    },
    {
      "cell_type": "code",
      "source": [
        "brier_score_loss(\n",
        "    y_true=df_y_test['scores'],\n",
        "    y_prob=df_base_rates['scores']\n",
        ")"
      ],
      "metadata": {
        "id": "6NYsmYfYd9J2"
      },
      "execution_count": null,
      "outputs": []
    },
    {
      "cell_type": "markdown",
      "source": [
        "The following cell computes the Brier loss score for the predictions by the learned model."
      ],
      "metadata": {
        "id": "IUmyMDEkeBYC"
      }
    },
    {
      "cell_type": "code",
      "source": [
        "brier_score_loss(\n",
        "    y_true=df_y_test['scores'],\n",
        "    y_prob=df_predictions_cv['scores']\n",
        ")"
      ],
      "metadata": {
        "id": "TgCEK5GqeAIg"
      },
      "execution_count": null,
      "outputs": []
    },
    {
      "cell_type": "markdown",
      "source": [
        "# Construct final classifiers & optimizing the hyperparameters"
      ],
      "metadata": {
        "id": "rrchOSTKeKJV"
      }
    },
    {
      "cell_type": "markdown",
      "source": [
        "Once we have found the *best* feature set and *best* hyperparameters for the learning algorithm, we can learn the final model.\n",
        "\n",
        "1. If we use `GridSearchCV` and the `refit` parameter was set to `True`, we can retrieve the *final* model, which has been re-trained on the entire training set, by accessing the `best_estimator_` attribute of the object.\n",
        "2. We can manually train the *final* model by creating a `XGBClassifier` object using the *best* hyperparameters and calling the `fit` method with the entire training set."
      ],
      "metadata": {
        "id": "bWvzRYCBeIwP"
      }
    },
    {
      "cell_type": "code",
      "source": [
        "model_scores = models_cv['scores']"
      ],
      "metadata": {
        "id": "ilDcMkmPeB63"
      },
      "execution_count": null,
      "outputs": []
    },
    {
      "cell_type": "markdown",
      "source": [
        "The following cell shows the *best* hyperparameter combination that was found using the *grid search*."
      ],
      "metadata": {
        "id": "DB6U-31dePlF"
      }
    },
    {
      "cell_type": "code",
      "source": [
        "pd.Series(\n",
        "    model_scores.best_params_\n",
        ")"
      ],
      "metadata": {
        "id": "kLN16pCDeN-u"
      },
      "execution_count": null,
      "outputs": []
    },
    {
      "cell_type": "markdown",
      "source": [
        "The following cell shows the full results of the *grid search*."
      ],
      "metadata": {
        "id": "OLTVurUveSIa"
      }
    },
    {
      "cell_type": "code",
      "source": [
        "pd.DataFrame(\n",
        "    model_scores.cv_results_\n",
        ")"
      ],
      "metadata": {
        "id": "qkINVvrFeQXy"
      },
      "execution_count": null,
      "outputs": []
    },
    {
      "cell_type": "markdown",
      "source": [
        "The following cell shows the hyperparameters that were used to re-train the model on the entire training set."
      ],
      "metadata": {
        "id": "jqR-QOAAeYfF"
      }
    },
    {
      "cell_type": "code",
      "source": [
        "pd.Series(\n",
        "    model_scores.best_estimator_.get_params()\n",
        ")"
      ],
      "metadata": {
        "id": "fM5r4rlleTyh"
      },
      "execution_count": null,
      "outputs": []
    },
    {
      "cell_type": "markdown",
      "source": [
        "The following cell retrieves the final `XGBClassifier` object from the `GridSearchCV` object."
      ],
      "metadata": {
        "id": "u15eZ586eeUD"
      }
    },
    {
      "cell_type": "code",
      "source": [
        "model_scores_final = model_scores.best_estimator_\n",
        "model_scores_final"
      ],
      "metadata": {
        "id": "iXC8n9pDeWYE"
      },
      "execution_count": null,
      "outputs": []
    },
    {
      "cell_type": "markdown",
      "source": [
        "## Training the classifier using optimal hyperparameters"
      ],
      "metadata": {
        "id": "rAijOETEefaz"
      }
    },
    {
      "cell_type": "markdown",
      "source": [
        "The following cell constructs a new `XGBoostClassifier` object using the *best* hyperparameters that were found by the *grid search*."
      ],
      "metadata": {
        "id": "iz_Br7rDeh5-"
      }
    },
    {
      "cell_type": "code",
      "source": [
        "model_scores_final = XGBClassifier(\n",
        "    eval_metric='logloss',\n",
        "    use_label_encoder=False,\n",
        "    n_estimators=100,\n",
        "    max_depth=4\n",
        ")"
      ],
      "metadata": {
        "id": "LD-zMu7Iejbv"
      },
      "execution_count": null,
      "outputs": []
    },
    {
      "cell_type": "code",
      "source": [
        "model_scores_final.fit(\n",
        "    X=df_X_train[features],\n",
        "    y=df_y_train[label]\n",
        ")"
      ],
      "metadata": {
        "id": "4f7VWJA_em3P"
      },
      "execution_count": null,
      "outputs": []
    },
    {
      "cell_type": "markdown",
      "source": [
        "# Analyze models and results with VAEP Framework\n",
        "\n",
        "This includes the following three steps:\n",
        "   1. Analyze feature importances of the model.\n",
        "   2. Analyze single predictions for game states.\n",
        "   3. Analyze the player ratings that can be calculated using the two models."
      ],
      "metadata": {
        "id": "cf8dRHyIewVb"
      }
    },
    {
      "cell_type": "code",
      "source": [
        "!pip install shap"
      ],
      "metadata": {
        "id": "htr9kBZCe2L1"
      },
      "execution_count": null,
      "outputs": []
    },
    {
      "cell_type": "code",
      "source": [
        "import warnings\n",
        "\n",
        "import matplotlib.pyplot as plt\n",
        "import shap\n",
        "from ipywidgets import fixed, interact_manual, widgets\n",
        "from socceraction.vaep.formula import value\n",
        "from tqdm import tqdm\n",
        "from xgboost import XGBClassifier, plot_importance"
      ],
      "metadata": {
        "id": "S-OFmYeNe4q7"
      },
      "execution_count": null,
      "outputs": []
    },
    {
      "cell_type": "code",
      "source": [
        "warnings.filterwarnings('ignore', category=pd.io.pytables.PerformanceWarning)\n",
        "%matplotlib inline"
      ],
      "metadata": {
        "id": "jfU8MtZfe7TC"
      },
      "execution_count": null,
      "outputs": []
    },
    {
      "cell_type": "markdown",
      "source": [
        "## Representing Feature Importance for model predictions"
      ],
      "metadata": {
        "id": "irX6ID4sfK4W"
      }
    },
    {
      "cell_type": "code",
      "source": [
        "df_games = pd.read_hdf('spadl.h5', key='games')\n",
        "\n",
        "# We are removing the competition_id = 795, to use the trained models to rate actions for all actions.\n",
        "df_games_train = df_games[\n",
        "    df_games['competition_id'] != 795\n",
        "]\n",
        "\n",
        "# We are assigning the competition_id = 795, to use the trained models to test the actions.\n",
        "df_games_test = df_games[\n",
        "    df_games['competition_id'] == 795\n",
        "]\n",
        "\n",
        "# Loading Features\n",
        "dfs_features = []\n",
        "for _, game in tqdm(df_games.iterrows(), total=len(df_games)):\n",
        "    game_id = game['game_id']\n",
        "    df_features = pd.read_hdf('features.h5', key=f'game_{game_id}')\n",
        "    df_features['game_id'] = game_id\n",
        "    dfs_features.append(df_features)\n",
        "df_features = pd.concat(dfs_features).reset_index(drop=True)\n",
        "\n",
        "# Loading Labels\n",
        "dfs_labels = []\n",
        "for _, game in tqdm(df_games.iterrows(), total=len(df_games)):\n",
        "    game_id = game['game_id']\n",
        "    df_labels = pd.read_hdf('labels.h5', key=f'game_{game_id}')\n",
        "    df_labels['game_id'] = game_id\n",
        "    dfs_labels.append(df_labels)\n",
        "df_labels = pd.concat(dfs_labels).reset_index(drop=True)\n",
        "\n",
        "# Training and testing data spilting\n",
        "df_X_train = df_features[df_features['game_id'].isin(df_games_train['game_id'].unique())]\n",
        "df_X_test = df_features[df_features['game_id'].isin(df_games_test['game_id'].unique())]\n",
        "df_y_train = df_labels[df_labels['game_id'].isin(df_games_train['game_id'].unique())]\n",
        "df_y_test = df_labels[df_labels['game_id'].isin(df_games_test['game_id'].unique())]\n",
        "\n",
        "# Features list\n",
        "features = [\n",
        "    'start_distance_to_goal-0',\n",
        "    'end_distance_to_goal-0',\n",
        "    'start_distance_to_goal-1',\n",
        "    'end_distance_to_goal-1',\n",
        "    'start_distance_to_goal-2',\n",
        "    'end_distance_to_goal-2',\n",
        "    'start_angle_to_goal-0',\n",
        "    'end_angle_to_goal-0',\n",
        "    'start_angle_to_goal-1',\n",
        "    'end_angle_to_goal-1',\n",
        "    'start_angle_to_goal-2',\n",
        "    'end_angle_to_goal-2',\n",
        "    'team-1',\n",
        "    'team-2',\n",
        "    'result_id-0',\n",
        "    'result_id-1',\n",
        "    'result_id-2'\n",
        "]\n",
        "\n",
        "# Labels list\n",
        "labels = ['scores', 'concedes']\n",
        "\n",
        "#Training the final model with best hyperparameters estimated earlier\n",
        "models = {}\n",
        "for label in tqdm(labels):\n",
        "    model = XGBClassifier(eval_metric='logloss', use_label_encoder=False, n_estimators=100, max_depth=3)\n",
        "    model.fit(X=df_X_train[features], y=df_y_train[label])\n",
        "    models[label] = model\n",
        "\n",
        "#Plotting Feature Importance for predictions\n",
        "for label in labels:\n",
        "    plot_importance(models[label])"
      ],
      "metadata": {
        "id": "dGVAVT1afJHZ"
      },
      "execution_count": null,
      "outputs": []
    },
    {
      "cell_type": "markdown",
      "source": [
        "## Investigate SHAP values"
      ],
      "metadata": {
        "id": "oSUB3D7GgJrF"
      }
    },
    {
      "cell_type": "code",
      "source": [
        "label='scores'\n",
        "# label='concedes'\n",
        "\n",
        "explainer = shap.TreeExplainer(models[label])\n",
        "\n",
        "shap_values = explainer.shap_values(df_X_test[features])\n",
        "shap.summary_plot(shap_values, df_X_test[features])"
      ],
      "metadata": {
        "id": "DD3hBdtRgH4_"
      },
      "execution_count": null,
      "outputs": []
    },
    {
      "cell_type": "markdown",
      "source": [
        "## Estimate probabilities\n",
        "\n",
        "The following cell estimates the probabilities for the game states in the test set for each label using the trained models."
      ],
      "metadata": {
        "id": "yyBNjeTKgQtB"
      }
    },
    {
      "cell_type": "code",
      "source": [
        "dfs_predictions = {}\n",
        "for label in tqdm(labels):\n",
        "    model = models[label]\n",
        "    probabilities = model.predict_proba(\n",
        "        df_X_test[features]\n",
        "    )\n",
        "    predictions = probabilities[:, 1]\n",
        "    dfs_predictions[label] = pd.Series(predictions, index=df_X_test.index)\n",
        "df_predictions = pd.concat(dfs_predictions, axis=1).reset_index(drop=True)\n",
        "df_predictions.tail(10)"
      ],
      "metadata": {
        "id": "093nX9lBgOBm"
      },
      "execution_count": null,
      "outputs": []
    },
    {
      "cell_type": "markdown",
      "source": [
        "## Load actions, players and teams and value actions"
      ],
      "metadata": {
        "id": "ftQUCwLCgYPu"
      }
    },
    {
      "cell_type": "code",
      "source": [
        "df_players = pd.read_hdf('spadl.h5', key='players')\n",
        "df_teams = pd.read_hdf('spadl.h5', key='teams')"
      ],
      "metadata": {
        "id": "ixkvIg61gW4T"
      },
      "execution_count": null,
      "outputs": []
    },
    {
      "cell_type": "code",
      "source": [
        "dfs_actions = []\n",
        "for _, game in tqdm(df_games_test.iterrows(), total=len(df_games_test)):\n",
        "    game_id = game['game_id']\n",
        "    with pd.HDFStore('spadl.h5') as spadlstore:\n",
        "        df_actions = spadlstore[f'actions/game_{game_id}']\n",
        "        df_actions = (\n",
        "            df_actions.merge(spadlstore['actiontypes'], how='left')\n",
        "            .merge(spadlstore['results'], how='left')\n",
        "            .merge(spadlstore['bodyparts'], how='left')\n",
        "            .merge(spadlstore['players'], how='left')\n",
        "            .merge(spadlstore['teams'], how='left')\n",
        "            .reset_index()\n",
        "            .rename(columns={'index': 'action_id'})\n",
        "        )\n",
        "\n",
        "    dfs_actions.append(df_actions)\n",
        "df_actions = pd.concat(dfs_actions).reset_index(drop=True)"
      ],
      "metadata": {
        "id": "h0PtBe4vgY0L"
      },
      "execution_count": null,
      "outputs": []
    },
    {
      "cell_type": "code",
      "source": [
        "df_actions_predictions = pd.concat([df_actions, df_predictions], axis=1)"
      ],
      "metadata": {
        "id": "WSgzUJhFgb36"
      },
      "execution_count": null,
      "outputs": []
    },
    {
      "cell_type": "code",
      "source": [
        "dfs_values = []\n",
        "for game_id, game_predictions in df_actions_predictions.groupby('game_id'):\n",
        "    df_values = value(game_predictions, game_predictions['scores'], game_predictions['concedes'])\n",
        "\n",
        "    df_all = pd.concat([game_predictions, df_values], axis=1)\n",
        "    dfs_values.append(df_all)"
      ],
      "metadata": {
        "id": "VOAhmmX1geCB"
      },
      "execution_count": null,
      "outputs": []
    },
    {
      "cell_type": "code",
      "source": [
        "df_values = (pd.concat(dfs_values)\n",
        "    .sort_values(['game_id', 'period_id', 'time_seconds'])\n",
        "    .reset_index(drop=True)\n",
        ")"
      ],
      "metadata": {
        "id": "duQeaMTlgfts"
      },
      "execution_count": null,
      "outputs": []
    },
    {
      "cell_type": "code",
      "source": [
        "df_values.tail(10)"
      ],
      "metadata": {
        "id": "1YNRDDnmghGX"
      },
      "execution_count": null,
      "outputs": []
    },
    {
      "cell_type": "markdown",
      "source": [
        "# Rate players using VAEP framework\n",
        "\n",
        "We investigate the ratings per player and look at the quantity-quality trade-off, risk-reward trade-off and the rating per player per action type (e.g. shot, pass, tackle, etc.)"
      ],
      "metadata": {
        "id": "jABaOUW8gj3g"
      }
    },
    {
      "cell_type": "code",
      "source": [
        "df_ranking = (df_values[['player_id', 'team_name', 'short_name', 'vaep_value']]\n",
        "    .groupby(['player_id', 'team_name', 'short_name'])\n",
        "    .agg(vaep_count=('vaep_value', 'count'),\n",
        "         vaep_mean=('vaep_value', 'mean'),\n",
        "         vaep_sum=('vaep_value', 'sum'))\n",
        "    .sort_values('vaep_sum', ascending=False)\n",
        "    .reset_index()\n",
        ")"
      ],
      "metadata": {
        "id": "bylS33jsgiud"
      },
      "execution_count": null,
      "outputs": []
    },
    {
      "cell_type": "code",
      "source": [
        "df_ranking.head(10)"
      ],
      "metadata": {
        "id": "bcd2veSPgnqQ"
      },
      "execution_count": null,
      "outputs": []
    },
    {
      "cell_type": "code",
      "source": [
        "df_player_games = pd.read_hdf('spadl.h5', 'player_games')\n",
        "df_player_games = df_player_games[df_player_games['game_id'].isin(df_games['game_id'])]"
      ],
      "metadata": {
        "id": "H0mwlaI1gpDx"
      },
      "execution_count": null,
      "outputs": []
    },
    {
      "cell_type": "code",
      "source": [
        "df_minutes_played = (df_player_games[['player_id', 'minutes_played']]\n",
        "    .groupby('player_id')\n",
        "    .sum()\n",
        "    .reset_index()\n",
        ")"
      ],
      "metadata": {
        "id": "FMasB4l1gqvn"
      },
      "execution_count": null,
      "outputs": []
    },
    {
      "cell_type": "code",
      "source": [
        "df_minutes_played.head()"
      ],
      "metadata": {
        "id": "bxNfJV-GgsZn"
      },
      "execution_count": null,
      "outputs": []
    },
    {
      "cell_type": "code",
      "source": [
        "df_ranking_p90 = df_ranking.merge(df_minutes_played)\n",
        "df_ranking_p90['vaep_rating'] = df_ranking_p90['vaep_sum'] * 90 / df_ranking_p90['minutes_played']\n",
        "df_ranking_p90['actions_p90'] = df_ranking_p90['vaep_count'] * 90 / df_ranking_p90['minutes_played']"
      ],
      "metadata": {
        "id": "HrJBpEskguJa"
      },
      "execution_count": null,
      "outputs": []
    },
    {
      "cell_type": "code",
      "source": [
        "MIN_THRESHOLD = 450\n",
        "df_ranking_p90 = df_ranking_p90[df_ranking_p90['minutes_played']>MIN_THRESHOLD]"
      ],
      "metadata": {
        "id": "lyzT_IGLgv6x"
      },
      "execution_count": null,
      "outputs": []
    },
    {
      "cell_type": "code",
      "source": [
        "df_ranking_p90 = df_ranking_p90.sort_values('vaep_rating', ascending=False)\n",
        "df_ranking_p90.head(10)"
      ],
      "metadata": {
        "id": "UG0QpTL2gzoF"
      },
      "execution_count": null,
      "outputs": []
    },
    {
      "cell_type": "markdown",
      "source": [
        "## Quantity - quality trade-off\n",
        "\n",
        "Here, we create a figure to analyze the quantity-quality trade-off. The VAEP rating per player per 90 minutes depends on the average rating per action and the number of actions per 90 minutes. Some players have high ratings because they execute a lot of actions per 90 minutes, while others have very high average ratings."
      ],
      "metadata": {
        "id": "B-uFquxHg3Yq"
      }
    },
    {
      "cell_type": "code",
      "source": [
        "plt.figure(figsize=(20, 10))\n",
        "x = list(df_ranking_p90['vaep_mean'])\n",
        "y = list(df_ranking_p90['actions_p90'])\n",
        "plt.plot(x, y, '.', c='#1C3460', markersize=15)\n",
        "\n",
        "# Plot 5 best players\n",
        "x_best = list(df_ranking_p90['vaep_mean'][0:5])\n",
        "y_best = list(df_ranking_p90['actions_p90'][0:5])\n",
        "names = list(df_ranking_p90['short_name'][0:5])\n",
        "names = [name.split(\".\")[-1] for name in names]\n",
        "plt.plot(x_best, y_best, '.', c='#D62A2E', markersize=15)\n",
        "for i, txt in enumerate(names):\n",
        "    plt.annotate(txt, (x[i], y[i] + 2), fontsize=20, horizontalalignment='center')\n",
        "\n",
        "best_player = x[0] * y[0]\n",
        "yi = np.arange(0.1, 100, 0.1)\n",
        "xi = [best_player / i for i in yi]\n",
        "plt.plot(xi, yi, '--', c='grey')\n",
        "\n",
        "plt.xticks(fontsize=20)\n",
        "plt.yticks(fontsize=20)\n",
        "plt.xlim(0, 0.03)\n",
        "plt.ylim(0, 100)\n",
        "plt.xlabel('Average VAEP rating per action', labelpad=20, fontsize=20)\n",
        "plt.ylabel('Total\\nnumber of\\nactions per\\n90 minutes', rotation=0, labelpad=20,\n",
        "            verticalalignment='center', horizontalalignment='right', fontsize=20)\n",
        "\n",
        "plt.show()"
      ],
      "metadata": {
        "id": "Q3eQg1dig3J9"
      },
      "execution_count": null,
      "outputs": []
    },
    {
      "cell_type": "markdown",
      "source": [
        "## Risk - reward trade-off\n",
        "\n",
        "Here we will look at the ratings for a player's successful actions and for the player's unsuccessful actions. In this way we can identify players that take more risk, and players that play less risky."
      ],
      "metadata": {
        "id": "X6DW2FAyg_kv"
      }
    },
    {
      "cell_type": "code",
      "source": [
        "df_risk = pd.pivot_table(df_values, values='vaep_value', index=['player_id', 'short_name', 'team_name'],\n",
        "                                              columns=['result_name'], aggfunc=np.sum,\n",
        "                                              fill_value=0)[['success', 'fail']]\n",
        "df_risk = df_risk.reset_index()\n",
        "df_risk = df_risk[0:-1]\n",
        "df_risk = pd.merge(df_risk, df_minutes_played, on=['player_id'])\n",
        "for result in ['success', 'fail']:\n",
        "    df_risk[result] = df_risk[result] / df_risk['minutes_played'] * 90"
      ],
      "metadata": {
        "id": "6vqMdLfkg9o6"
      },
      "execution_count": null,
      "outputs": []
    },
    {
      "cell_type": "code",
      "source": [
        "df_risk = df_risk[df_risk['minutes_played']>MIN_THRESHOLD]\n",
        "df_risk['vaep_rating'] = df_risk['success'] + df_risk['fail']\n",
        "df_risk.sort_values('fail')"
      ],
      "metadata": {
        "id": "7UUWkl34hFdc"
      },
      "execution_count": null,
      "outputs": []
    },
    {
      "cell_type": "code",
      "source": [
        "df_risk = df_risk.sort_values('vaep_rating', ascending=False)\n",
        "\n",
        "plt.figure(figsize=(20, 10))\n",
        "x = list(df_risk['fail'])\n",
        "y = list(df_risk['success'])\n",
        "plt.plot(x, y, '.', c='#1C3460', markersize=15)\n",
        "\n",
        "# Plot 5 best players\n",
        "x_best = list(df_risk['fail'][0:5])\n",
        "y_best = list(df_risk['success'][0:5])\n",
        "names = list(df_risk['short_name'][0:5])\n",
        "names = [name.split(\".\")[-1] for name in names]\n",
        "plt.plot(x_best, y_best, '.', c='#D62A2E', markersize=15)\n",
        "for i, txt in enumerate(names):\n",
        "    plt.annotate(txt, (x[i], y[i] + 0.01), fontsize=20, horizontalalignment='center')\n",
        "\n",
        "best_player = x[0] + y[0]\n",
        "yi = np.arange(0.1, 2, 0.1)\n",
        "xi = [best_player - i for i in yi]\n",
        "plt.plot(xi, yi, '--', c='grey')\n",
        "\n",
        "plt.xticks(fontsize=20)\n",
        "plt.yticks(fontsize=20)\n",
        "plt.xlim(-0.25, 0.01)\n",
        "plt.ylim(0, 1.2)\n",
        "plt.xlabel('Total VAEP rating with unsuccessful actions', rotation=0, labelpad=20,\n",
        "            verticalalignment='center', horizontalalignment='right', fontsize=20)\n",
        "plt.ylabel('Total\\nVAEP rating\\nwith successful\\nactions', labelpad=20, fontsize=20)\n",
        "\n",
        "plt.show()"
      ],
      "metadata": {
        "id": "1kcmRJcvhHKv"
      },
      "execution_count": null,
      "outputs": []
    },
    {
      "cell_type": "markdown",
      "source": [
        "## Rating per action type\n",
        "\n",
        "In the next cells we will analyze the rating per player per action type."
      ],
      "metadata": {
        "id": "i8VfFNMnhL4i"
      }
    },
    {
      "cell_type": "code",
      "source": [
        "df_rating_action = pd.pivot_table(df_values, values='vaep_value', index=['player_id', 'short_name', 'team_name'],\n",
        "                                              columns=['type_name'], aggfunc=np.sum,\n",
        "                                              fill_value=0, margins=True, margins_name='total')\n",
        "df_rating_action = df_rating_action.reset_index()\n",
        "df_rating_action = df_rating_action[0:-1]\n",
        "df_rating_action = pd.merge(df_rating_action, df_minutes_played, on=['player_id'])\n",
        "for action in df_values['type_name'].unique():\n",
        "    df_rating_action[action] = df_rating_action[action] / df_rating_action['minutes_played'] * 90"
      ],
      "metadata": {
        "id": "NQVtnAtphJuK"
      },
      "execution_count": null,
      "outputs": []
    },
    {
      "cell_type": "code",
      "source": [
        "df_rating_action[df_rating_action['minutes_played']>MIN_THRESHOLD].sort_values('shot',\n",
        "                                                                               ascending=False).head(10)"
      ],
      "metadata": {
        "id": "gNBbikyChPpd"
      },
      "execution_count": null,
      "outputs": []
    }
  ],
  "metadata": {
    "kernelspec": {
      "display_name": "Python 3",
      "language": "python",
      "name": "python3"
    },
    "language_info": {
      "codemirror_mode": {
        "name": "ipython",
        "version": 3
      },
      "file_extension": ".py",
      "mimetype": "text/x-python",
      "name": "python",
      "nbconvert_exporter": "python",
      "pygments_lexer": "ipython3",
      "version": "3.8.3"
    },
    "toc": {
      "base_numbering": 1,
      "nav_menu": {},
      "number_sections": true,
      "sideBar": true,
      "skip_h1_title": false,
      "title_cell": "Table of Contents",
      "title_sidebar": "Contents",
      "toc_cell": false,
      "toc_position": {},
      "toc_section_display": true,
      "toc_window_display": true
    },
    "colab": {
      "provenance": [],
      "collapsed_sections": [
        "VY8kzcHzXwEQ",
        "VOSh7WiJZJN3",
        "AsZ5wtcjZYIy",
        "lUfYIk1VZxRu",
        "SoAvKX3XZ37c",
        "Xiro5r8BNnLI",
        "QUMBXGp6NnLJ",
        "7sPgXiHLNnLN",
        "Fx7OgA6PNnLO",
        "6h3XcDR2NnLY",
        "pRIWgQnLNnLa",
        "VNfSkoflNnLc",
        "CIAuoQh2NnLk",
        "jXHscGfbNnLk",
        "_meIjlPgNnLm",
        "XXqB_5iIa-wW"
      ],
      "include_colab_link": true
    }
  },
  "nbformat": 4,
  "nbformat_minor": 0
}